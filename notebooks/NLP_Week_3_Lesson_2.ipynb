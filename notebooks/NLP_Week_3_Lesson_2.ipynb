{
 "cells": [
  {
   "cell_type": "code",
   "execution_count": 1,
   "metadata": {
    "id": "zX4Kg8DUTKWO"
   },
   "outputs": [],
   "source": [
    "#@title Licensed under the Apache License, Version 2.0 (the \"License\");\n",
    "# you may not use this file except in compliance with the License.\n",
    "# You may obtain a copy of the License at\n",
    "#\n",
    "# https://www.apache.org/licenses/LICENSE-2.0\n",
    "#\n",
    "# Unless required by applicable law or agreed to in writing, software\n",
    "# distributed under the License is distributed on an \"AS IS\" BASIS,\n",
    "# WITHOUT WARRANTIES OR CONDITIONS OF ANY KIND, either express or implied.\n",
    "# See the License for the specific language governing permissions and\n",
    "# limitations under the License."
   ]
  },
  {
   "cell_type": "markdown",
   "metadata": {
    "id": "ETB5-whqv9eI"
   },
   "source": [
    "<a href=\"https://colab.research.google.com/github/lmoroney/dlaicourse/blob/master/TensorFlow%20In%20Practice/Course%203%20-%20NLP/Course%203%20-%20Week%203%20-%20Lesson%202.ipynb\" target=\"_parent\"><img src=\"https://colab.research.google.com/assets/colab-badge.svg\" alt=\"Open In Colab\"/></a>"
   ]
  },
  {
   "cell_type": "code",
   "execution_count": 4,
   "metadata": {
    "colab": {
     "base_uri": "https://localhost:8080/"
    },
    "id": "FQKJ149ythi9",
    "outputId": "5c99b99d-d1a9-4e32-ca40-b9d5522362c6"
   },
   "outputs": [
    {
     "name": "stdout",
     "output_type": "stream",
     "text": [
      "--2021-02-13 04:48:26--  https://storage.googleapis.com/laurencemoroney-blog.appspot.com/sarcasm.json\n",
      "Resolving storage.googleapis.com (storage.googleapis.com)... 172.217.12.240, 172.217.15.112, 172.253.62.128, ...\n",
      "Connecting to storage.googleapis.com (storage.googleapis.com)|172.217.12.240|:443... connected.\n",
      "HTTP request sent, awaiting response... 200 OK\n",
      "Length: 5643545 (5.4M) [application/json]\n",
      "Saving to: ‘../data/sarcasm/sarcasm.json’\n",
      "\n",
      "\r",
      "          ../data/s   0%[                    ]       0  --.-KB/s               \r",
      "../data/sarcasm/sar 100%[===================>]   5.38M  --.-KB/s    in 0.02s   \n",
      "\n",
      "2021-02-13 04:48:26 (245 MB/s) - ‘../data/sarcasm/sarcasm.json’ saved [5643545/5643545]\n",
      "\n"
     ]
    }
   ],
   "source": [
    "!mkdir -p ../data/sarcasm/\n",
    "!wget --no-check-certificate https://storage.googleapis.com/laurencemoroney-blog.appspot.com/sarcasm.json -O ../data/sarcasm/sarcasm.json"
   ]
  },
  {
   "cell_type": "code",
   "execution_count": 5,
   "metadata": {
    "ExecuteTime": {
     "end_time": "2021-02-13T04:19:52.401017Z",
     "start_time": "2021-02-13T04:18:36.184968Z"
    },
    "colab": {
     "base_uri": "https://localhost:8080/"
    },
    "id": "jGwXGIXvFhXW",
    "outputId": "47de3e98-f48c-48f0-9233-0378a9c3c2fd"
   },
   "outputs": [
    {
     "name": "stdout",
     "output_type": "stream",
     "text": [
      "Model: \"sarcasm_classifier\"\n",
      "_________________________________________________________________\n",
      "Layer (type)                 Output Shape              Param #   \n",
      "=================================================================\n",
      "embedding_1 (Embedding)      (None, 120, 16)           16000     \n",
      "_________________________________________________________________\n",
      "LSTM_2 (Bidirectional)       (None, 64)                12544     \n",
      "_________________________________________________________________\n",
      "dense_3 (Dense)              (None, 24)                1560      \n",
      "_________________________________________________________________\n",
      "dense_4 (Dense)              (None, 1)                 25        \n",
      "=================================================================\n",
      "Total params: 30,129\n",
      "Trainable params: 30,129\n",
      "Non-trainable params: 0\n",
      "_________________________________________________________________\n",
      "Epoch 1/50\n",
      "625/625 [==============================] - 17s 13ms/step - loss: 0.5410 - accuracy: 0.7048 - val_loss: 0.3870 - val_accuracy: 0.8205\n",
      "Epoch 2/50\n",
      "625/625 [==============================] - 7s 12ms/step - loss: 0.3515 - accuracy: 0.8399 - val_loss: 0.3772 - val_accuracy: 0.8244\n",
      "Epoch 3/50\n",
      "625/625 [==============================] - 7s 12ms/step - loss: 0.3324 - accuracy: 0.8510 - val_loss: 0.3705 - val_accuracy: 0.8295\n",
      "Epoch 4/50\n",
      "625/625 [==============================] - 7s 12ms/step - loss: 0.3091 - accuracy: 0.8635 - val_loss: 0.3738 - val_accuracy: 0.8347\n",
      "Epoch 5/50\n",
      "625/625 [==============================] - 7s 11ms/step - loss: 0.2947 - accuracy: 0.8717 - val_loss: 0.3718 - val_accuracy: 0.8340\n",
      "Epoch 6/50\n",
      "625/625 [==============================] - 7s 12ms/step - loss: 0.2812 - accuracy: 0.8782 - val_loss: 0.3812 - val_accuracy: 0.8319\n",
      "Epoch 7/50\n",
      "625/625 [==============================] - 7s 11ms/step - loss: 0.2775 - accuracy: 0.8777 - val_loss: 0.3899 - val_accuracy: 0.8314\n",
      "Epoch 8/50\n",
      "625/625 [==============================] - 7s 11ms/step - loss: 0.2632 - accuracy: 0.8858 - val_loss: 0.3972 - val_accuracy: 0.8250\n",
      "Epoch 9/50\n",
      "625/625 [==============================] - 7s 12ms/step - loss: 0.2586 - accuracy: 0.8917 - val_loss: 0.4096 - val_accuracy: 0.8280\n",
      "Epoch 10/50\n",
      "625/625 [==============================] - 7s 11ms/step - loss: 0.2635 - accuracy: 0.8877 - val_loss: 0.4075 - val_accuracy: 0.8280\n",
      "Epoch 11/50\n",
      "625/625 [==============================] - 7s 11ms/step - loss: 0.2483 - accuracy: 0.8939 - val_loss: 0.4025 - val_accuracy: 0.8305\n",
      "Epoch 12/50\n",
      "625/625 [==============================] - 7s 11ms/step - loss: 0.2355 - accuracy: 0.9028 - val_loss: 0.4160 - val_accuracy: 0.8229\n",
      "Epoch 13/50\n",
      "625/625 [==============================] - 7s 12ms/step - loss: 0.2340 - accuracy: 0.9021 - val_loss: 0.4242 - val_accuracy: 0.8238\n",
      "Epoch 14/50\n",
      "625/625 [==============================] - 7s 12ms/step - loss: 0.2210 - accuracy: 0.9062 - val_loss: 0.4416 - val_accuracy: 0.8249\n",
      "Epoch 15/50\n",
      "625/625 [==============================] - 7s 11ms/step - loss: 0.2182 - accuracy: 0.9089 - val_loss: 0.4426 - val_accuracy: 0.8223\n",
      "Epoch 16/50\n",
      "625/625 [==============================] - 7s 11ms/step - loss: 0.2112 - accuracy: 0.9119 - val_loss: 0.4484 - val_accuracy: 0.8207\n",
      "Epoch 17/50\n",
      "625/625 [==============================] - 7s 12ms/step - loss: 0.1986 - accuracy: 0.9180 - val_loss: 0.4814 - val_accuracy: 0.8214\n",
      "Epoch 18/50\n",
      "625/625 [==============================] - 7s 12ms/step - loss: 0.1960 - accuracy: 0.9210 - val_loss: 0.4977 - val_accuracy: 0.8190\n",
      "Epoch 19/50\n",
      "625/625 [==============================] - 7s 12ms/step - loss: 0.1875 - accuracy: 0.9229 - val_loss: 0.5356 - val_accuracy: 0.8168\n",
      "Epoch 20/50\n",
      "625/625 [==============================] - 7s 11ms/step - loss: 0.1827 - accuracy: 0.9245 - val_loss: 0.5608 - val_accuracy: 0.8192\n",
      "Epoch 21/50\n",
      "625/625 [==============================] - 7s 11ms/step - loss: 0.1771 - accuracy: 0.9268 - val_loss: 0.5845 - val_accuracy: 0.8162\n",
      "Epoch 22/50\n",
      "625/625 [==============================] - 7s 12ms/step - loss: 0.1700 - accuracy: 0.9307 - val_loss: 0.6509 - val_accuracy: 0.8138\n",
      "Epoch 23/50\n",
      "625/625 [==============================] - 7s 12ms/step - loss: 0.1607 - accuracy: 0.9338 - val_loss: 0.6968 - val_accuracy: 0.8134\n",
      "Epoch 24/50\n",
      "625/625 [==============================] - 7s 12ms/step - loss: 0.1557 - accuracy: 0.9359 - val_loss: 0.6900 - val_accuracy: 0.8135\n",
      "Epoch 25/50\n",
      "625/625 [==============================] - 7s 11ms/step - loss: 0.1496 - accuracy: 0.9393 - val_loss: 0.7323 - val_accuracy: 0.8059\n",
      "Epoch 26/50\n",
      "625/625 [==============================] - 8s 12ms/step - loss: 0.1478 - accuracy: 0.9405 - val_loss: 0.7182 - val_accuracy: 0.8079\n",
      "Epoch 27/50\n",
      "625/625 [==============================] - 7s 11ms/step - loss: 0.1350 - accuracy: 0.9442 - val_loss: 0.7937 - val_accuracy: 0.8088\n",
      "Epoch 28/50\n",
      "625/625 [==============================] - 7s 11ms/step - loss: 0.1307 - accuracy: 0.9463 - val_loss: 0.8642 - val_accuracy: 0.8113\n",
      "Epoch 29/50\n",
      "625/625 [==============================] - 7s 11ms/step - loss: 0.1208 - accuracy: 0.9506 - val_loss: 0.9561 - val_accuracy: 0.8076\n",
      "Epoch 30/50\n",
      "625/625 [==============================] - 7s 11ms/step - loss: 0.1194 - accuracy: 0.9477 - val_loss: 1.0457 - val_accuracy: 0.8079\n",
      "Epoch 31/50\n",
      "625/625 [==============================] - 7s 12ms/step - loss: 0.1191 - accuracy: 0.9496 - val_loss: 0.9612 - val_accuracy: 0.8031\n",
      "Epoch 32/50\n",
      "625/625 [==============================] - 7s 11ms/step - loss: 0.1038 - accuracy: 0.9554 - val_loss: 0.9344 - val_accuracy: 0.8031\n",
      "Epoch 33/50\n",
      "625/625 [==============================] - 7s 12ms/step - loss: 0.1128 - accuracy: 0.9518 - val_loss: 1.0682 - val_accuracy: 0.8028\n",
      "Epoch 34/50\n",
      "625/625 [==============================] - 7s 11ms/step - loss: 0.1073 - accuracy: 0.9544 - val_loss: 1.0744 - val_accuracy: 0.8074\n",
      "Epoch 35/50\n",
      "625/625 [==============================] - 7s 12ms/step - loss: 0.0936 - accuracy: 0.9608 - val_loss: 1.1596 - val_accuracy: 0.8071\n",
      "Epoch 36/50\n",
      "625/625 [==============================] - 7s 12ms/step - loss: 0.0907 - accuracy: 0.9619 - val_loss: 1.2423 - val_accuracy: 0.8059\n",
      "Epoch 37/50\n",
      "625/625 [==============================] - 7s 11ms/step - loss: 0.0878 - accuracy: 0.9607 - val_loss: 1.3144 - val_accuracy: 0.8035\n",
      "Epoch 38/50\n",
      "625/625 [==============================] - 7s 11ms/step - loss: 0.0854 - accuracy: 0.9638 - val_loss: 1.2518 - val_accuracy: 0.8025\n",
      "Epoch 39/50\n",
      "625/625 [==============================] - 7s 12ms/step - loss: 0.0877 - accuracy: 0.9609 - val_loss: 1.2423 - val_accuracy: 0.8047\n",
      "Epoch 40/50\n",
      "625/625 [==============================] - 7s 11ms/step - loss: 0.0800 - accuracy: 0.9646 - val_loss: 1.2839 - val_accuracy: 0.8071\n",
      "Epoch 41/50\n",
      "625/625 [==============================] - 7s 12ms/step - loss: 0.0787 - accuracy: 0.9673 - val_loss: 1.4435 - val_accuracy: 0.7998\n",
      "Epoch 42/50\n",
      "625/625 [==============================] - 7s 11ms/step - loss: 0.0725 - accuracy: 0.9684 - val_loss: 1.4192 - val_accuracy: 0.7991\n",
      "Epoch 43/50\n",
      "625/625 [==============================] - 7s 12ms/step - loss: 0.0796 - accuracy: 0.9656 - val_loss: 1.4382 - val_accuracy: 0.7965\n",
      "Epoch 44/50\n",
      "625/625 [==============================] - 7s 11ms/step - loss: 0.0658 - accuracy: 0.9707 - val_loss: 1.6170 - val_accuracy: 0.8040\n",
      "Epoch 45/50\n",
      "625/625 [==============================] - 7s 12ms/step - loss: 0.0677 - accuracy: 0.9701 - val_loss: 1.5449 - val_accuracy: 0.8007\n",
      "Epoch 46/50\n",
      "625/625 [==============================] - 7s 12ms/step - loss: 0.0705 - accuracy: 0.9699 - val_loss: 1.5622 - val_accuracy: 0.7994\n",
      "Epoch 47/50\n",
      "625/625 [==============================] - 7s 12ms/step - loss: 0.0682 - accuracy: 0.9703 - val_loss: 1.6333 - val_accuracy: 0.8038\n",
      "Epoch 48/50\n",
      "625/625 [==============================] - 7s 12ms/step - loss: 0.0617 - accuracy: 0.9739 - val_loss: 1.7121 - val_accuracy: 0.8019\n",
      "Epoch 49/50\n",
      "625/625 [==============================] - 7s 11ms/step - loss: 0.0630 - accuracy: 0.9726 - val_loss: 1.6943 - val_accuracy: 0.8019\n",
      "Epoch 50/50\n",
      "625/625 [==============================] - 7s 11ms/step - loss: 0.0646 - accuracy: 0.9719 - val_loss: 1.7485 - val_accuracy: 0.8013\n"
     ]
    }
   ],
   "source": [
    "import json\n",
    "import matplotlib.pyplot as plt\n",
    "import numpy as np\n",
    "import tensorflow as tf\n",
    "from tensorflow.keras.layers import Dense, Embedding, Flatten, Bidirectional, LSTM\n",
    "from tensorflow.keras.models import Sequential\n",
    "from tensorflow.keras.preprocessing.text import Tokenizer\n",
    "from tensorflow.keras.preprocessing.sequence import pad_sequences\n",
    "from tensorflow.keras.callbacks import History\n",
    "from tensorflow.keras.backend import clear_session\n",
    "from tensorflow.compat.v1 import reset_default_graph\n",
    "\n",
    "clear_session()\n",
    "reset_default_graph()\n",
    "# 设置显存自动增长\n",
    "physical_devices = tf.config.list_physical_devices('GPU')\n",
    "for physical_device in physical_devices:\n",
    "    tf.config.experimental.set_memory_growth(physical_device, enable=True)\n",
    "\n",
    "\n",
    "vocab_size = 1000\n",
    "embedding_dim = 16\n",
    "max_length = 120\n",
    "trunc_type='post'\n",
    "padding_type='post'\n",
    "oov_tok = \"<OOV>\"\n",
    "training_size = 20000\n",
    "\n",
    "\n",
    "with open(\"../data/sarcasm/sarcasm.json\", 'r') as f:\n",
    "    datastore = json.load(f)\n",
    "\n",
    "\n",
    "sentences = []\n",
    "labels = []\n",
    "urls = []\n",
    "for item in datastore:\n",
    "    sentences.append(item['headline'])\n",
    "    labels.append(item['is_sarcastic'])\n",
    "\n",
    "training_sentences: [str] = sentences[0:training_size]\n",
    "testing_sentences: [str] = sentences[training_size:]\n",
    "training_labels: [int] = labels[0:training_size]\n",
    "testing_labels: [int] = labels[training_size:]\n",
    "\n",
    "tokenizer = Tokenizer(num_words=vocab_size, oov_token=oov_tok)\n",
    "tokenizer.fit_on_texts(training_sentences)\n",
    "word_index: dict = tokenizer.word_index\n",
    "\n",
    "training_sequences: [[int]] = tokenizer.texts_to_sequences(training_sentences)\n",
    "training_padded: np.ndarray = pad_sequences(\n",
    "    training_sequences, \n",
    "    maxlen=max_length, \n",
    "    padding=padding_type, \n",
    "    truncating=trunc_type\n",
    ")\n",
    "\n",
    "testing_sequences: [[int]] = tokenizer.texts_to_sequences(testing_sentences)\n",
    "testing_padded: np.ndarray = pad_sequences(\n",
    "    testing_sequences, \n",
    "    maxlen=max_length, \n",
    "    padding=padding_type, \n",
    "    truncating=trunc_type\n",
    ")\n",
    "\n",
    "model = Sequential([\n",
    "    Embedding(input_dim=vocab_size, output_dim=embedding_dim, name=\"embedding_1\", input_length=max_length),\n",
    "    Bidirectional(LSTM(units=32, return_sequences=False), name=\"LSTM_2\"),\n",
    "    Dense(units=24, activation='relu', name=\"dense_3\"),\n",
    "    Dense(units=1, activation='sigmoid', name=\"dense_4\")\n",
    "], name=\"sarcasm_classifier\")\n",
    "model.compile(\n",
    "    loss='binary_crossentropy',\n",
    "    optimizer='adam',\n",
    "    metrics=['accuracy']\n",
    ")\n",
    "model.summary()\n",
    "\n",
    "num_epochs = 50\n",
    "training_padded = np.array(training_padded)\n",
    "training_labels = np.array(training_labels)\n",
    "testing_padded = np.array(testing_padded)\n",
    "testing_labels = np.array(testing_labels)\n",
    "history: History = model.fit(\n",
    "    x=training_padded, \n",
    "    y=training_labels, \n",
    "    validation_data=(testing_padded, testing_labels), \n",
    "    epochs=num_epochs, \n",
    "    verbose=1,\n",
    "    workers=-1,\n",
    "    use_multiprocessing=True\n",
    ")"
   ]
  },
  {
   "cell_type": "code",
   "execution_count": 6,
   "metadata": {
    "ExecuteTime": {
     "end_time": "2021-02-13T04:19:52.405034Z",
     "start_time": "2021-02-13T04:18:36.930Z"
    },
    "colab": {
     "base_uri": "https://localhost:8080/",
     "height": 541
    },
    "id": "g9DC6dmLF8DC",
    "outputId": "13112e44-a616-4b26-f8ba-ba0bcbd24fca"
   },
   "outputs": [
    {
     "data": {
      "image/png": "[encoded data removed]",
      "text/plain": [
       "<Figure size 432x288 with 1 Axes>"
      ]
     },
     "metadata": {
      "needs_background": "light",
      "tags": []
     },
     "output_type": "display_data"
    },
    {
     "data": {
      "image/png": "[encoded data removed]",
      "text/plain": [
       "<Figure size 432x288 with 1 Axes>"
      ]
     },
     "metadata": {
      "needs_background": "light",
      "tags": []
     },
     "output_type": "display_data"
    }
   ],
   "source": [
    "def plot_graphs(history, string):\n",
    "    plt.plot(history.history[string])\n",
    "    plt.plot(history.history['val_'+string])\n",
    "    plt.xlabel(\"Epochs\")\n",
    "    plt.ylabel(string)\n",
    "    plt.legend([string, 'val_'+string])\n",
    "    plt.show()\n",
    "\n",
    "plot_graphs(history, 'accuracy')\n",
    "plot_graphs(history, 'loss')"
   ]
  },
  {
   "cell_type": "code",
   "execution_count": 7,
   "metadata": {
    "ExecuteTime": {
     "end_time": "2021-02-13T04:19:52.407036Z",
     "start_time": "2021-02-13T04:18:37.290Z"
    },
    "id": "7ZEZIUppGhdi"
   },
   "outputs": [],
   "source": [
    "model.save(\"../models/test.h5\")"
   ]
  },
  {
   "cell_type": "code",
   "execution_count": 7,
   "metadata": {
    "id": "8NRvJQg5thjA"
   },
   "outputs": [],
   "source": []
  }
 ],
 "metadata": {
  "accelerator": "GPU",
  "colab": {
   "collapsed_sections": [],
   "name": "NLP_Week_3_Lesson_2.ipynb",
   "provenance": [],
   "toc_visible": true
  },
  "kernelspec": {
   "display_name": "Python 3",
   "language": "python",
   "name": "python3"
  },
  "language_info": {
   "codemirror_mode": {
    "name": "ipython",
    "version": 3
   },
   "file_extension": ".py",
   "mimetype": "text/x-python",
   "name": "python",
   "nbconvert_exporter": "python",
   "pygments_lexer": "ipython3",
   "version": "3.7.3"
  },
  "toc": {
   "base_numbering": 1,
   "nav_menu": {},
   "number_sections": true,
   "sideBar": true,
   "skip_h1_title": false,
   "title_cell": "Table of Contents",
   "title_sidebar": "Contents",
   "toc_cell": false,
   "toc_position": {},
   "toc_section_display": true,
   "toc_window_display": false
  },
  "varInspector": {
   "cols": {
    "lenName": 16,
    "lenType": 16,
    "lenVar": 40
   },
   "kernels_config": {
    "python": {
     "delete_cmd_postfix": "",
     "delete_cmd_prefix": "del ",
     "library": "var_list.py",
     "varRefreshCmd": "print(var_dic_list())"
    },
    "r": {
     "delete_cmd_postfix": ") ",
     "delete_cmd_prefix": "rm(",
     "library": "var_list.r",
     "varRefreshCmd": "cat(var_dic_list()) "
    }
   },
   "types_to_exclude": [
    "module",
    "function",
    "builtin_function_or_method",
    "instance",
    "_Feature"
   ],
   "window_display": false
  }
 },
 "nbformat": 4,
 "nbformat_minor": 1
}
