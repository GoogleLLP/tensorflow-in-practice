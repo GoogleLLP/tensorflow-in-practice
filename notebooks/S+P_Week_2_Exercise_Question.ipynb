{
 "cells": [
  {
   "cell_type": "code",
   "execution_count": null,
   "metadata": {
    "id": "zX4Kg8DUTKWO"
   },
   "outputs": [],
   "source": [
    "#@title Licensed under the Apache License, Version 2.0 (the \"License\");\n",
    "# you may not use this file except in compliance with the License.\n",
    "# You may obtain a copy of the License at\n",
    "#\n",
    "# https://www.apache.org/licenses/LICENSE-2.0\n",
    "#\n",
    "# Unless required by applicable law or agreed to in writing, software\n",
    "# distributed under the License is distributed on an \"AS IS\" BASIS,\n",
    "# WITHOUT WARRANTIES OR CONDITIONS OF ANY KIND, either express or implied.\n",
    "# See the License for the specific language governing permissions and\n",
    "# limitations under the License."
   ]
  },
  {
   "cell_type": "code",
   "execution_count": null,
   "metadata": {
    "cellView": "both",
    "id": "D1J15Vh_1Jih"
   },
   "outputs": [],
   "source": [
    "!pip install tf-nightly-2.0-preview\n"
   ]
  },
  {
   "cell_type": "code",
   "execution_count": 10,
   "metadata": {
    "ExecuteTime": {
     "end_time": "2021-02-01T14:09:46.095688Z",
     "start_time": "2021-02-01T14:09:46.091701Z"
    },
    "id": "BOjujz601HcS"
   },
   "outputs": [
    {
     "name": "stdout",
     "output_type": "stream",
     "text": [
      "2.3.0\n"
     ]
    }
   ],
   "source": [
    "import tensorflow as tf\n",
    "import numpy as np\n",
    "import matplotlib.pyplot as plt\n",
    "from tqdm import tqdm\n",
    "from tensorflow.keras.models import Sequential\n",
    "from tensorflow.keras.layers import Dense\n",
    "from tensorflow.keras.optimizers import SGD\n",
    "from tensorflow.keras.metrics import mean_absolute_error\n",
    "print(tf.__version__)"
   ]
  },
  {
   "cell_type": "code",
   "execution_count": 11,
   "metadata": {
    "ExecuteTime": {
     "end_time": "2021-02-01T14:09:46.555601Z",
     "start_time": "2021-02-01T14:09:46.450567Z"
    },
    "id": "Zswl7jRtGzkk"
   },
   "outputs": [
    {
     "data": {
      "image/png": "[encoded data removed]",
      "text/plain": [
       "<Figure size 432x288 with 1 Axes>"
      ]
     },
     "metadata": {
      "needs_background": "light"
     },
     "output_type": "display_data"
    }
   ],
   "source": [
    "def plot_series(time, series, format=\"-\", start=0, end=None):\n",
    "    plt.plot(time[start:end], series[start:end], format)\n",
    "    plt.xlabel(\"Time\")\n",
    "    plt.ylabel(\"Value\")\n",
    "    plt.grid(False)\n",
    "\n",
    "def trend(time, slope=0):\n",
    "    return slope * time\n",
    "\n",
    "def seasonal_pattern(season_time):\n",
    "    \"\"\"Just an arbitrary pattern, you can change it if you wish\"\"\"\n",
    "    # YOUR CODE HERE #\n",
    "    return np.where(season_time < 0.1,\n",
    "                    np.cos(season_time * 6 * np.pi),\n",
    "                    2 / np.exp(9 * season_time))\n",
    "\n",
    "def seasonality(time, period, amplitude=1, phase=0):\n",
    "    \"\"\"Repeats the same pattern at each period\"\"\"\n",
    "    season_time = ((time + phase) % period) / period\n",
    "    return amplitude * seasonal_pattern(season_time)\n",
    "\n",
    "def noise(time, noise_level=1, seed=None):\n",
    "    rnd = np.random.RandomState(seed)\n",
    "    return rnd.randn(len(time)) * noise_level\n",
    "\n",
    "time = np.arange(10 * 365 + 1, dtype=\"float32\")\n",
    "baseline = 10 # YOUR CODE HERE #\n",
    "series = trend(time, 0.1) # YOUR CODE HERE#\n",
    "baseline = 10\n",
    "amplitude = 40\n",
    "slope = 0.005 # YOUR CODE HERE#\n",
    "noise_level = 3 # YOUR CODE HERE#\n",
    "\n",
    "# Create the series\n",
    "series = baseline + trend(time, slope) + seasonality(time, period=365, amplitude=amplitude)\n",
    "# Update with noise\n",
    "series += noise(time, noise_level, seed=51)\n",
    "\n",
    "split_time = 3000\n",
    "time_train = time[:split_time]\n",
    "x_train = series[:split_time]\n",
    "time_valid = time[split_time:]\n",
    "x_valid = series[split_time:]\n",
    "\n",
    "window_size = 20\n",
    "batch_size = 32\n",
    "shuffle_buffer_size = 1000\n",
    "\n",
    "plot_series(time, series)"
   ]
  },
  {
   "cell_type": "markdown",
   "metadata": {
    "id": "GfUTNqti_lNC"
   },
   "source": [
    "Desired output -- a chart that looks like this:\n",
    "\n",
    "![Chart showing upward trend and seasonailty](http://www.laurencemoroney.com/wp-content/uploads/2019/07/plot1.png)"
   ]
  },
  {
   "cell_type": "code",
   "execution_count": 12,
   "metadata": {
    "ExecuteTime": {
     "end_time": "2021-02-01T14:09:47.077394Z",
     "start_time": "2021-02-01T14:09:47.073297Z"
    },
    "id": "4sTTIOCbyShY"
   },
   "outputs": [],
   "source": [
    "def windowed_dataset(series: np.ndarray, window_size: int, batch_size: int, shuffle_buffer: int) -> tf.raw_ops.PrefetchDataset:\n",
    "  dataset: tf.raw_ops.TensorSliceDataset = tf.data.Dataset.from_tensor_slices(series)\n",
    "  dataset: tf.raw_ops.WindowDataset = dataset.window(window_size + 1, shift=1, drop_remainder=True)\n",
    "  dataset: tf.raw_ops.FlatMapDataset = dataset.flat_map(lambda window: window.batch(window_size + 1))\n",
    "  dataset: tf.raw_ops.ShuffleDataset = dataset.shuffle(shuffle_buffer).map(lambda window: (window[:-1], window[-1]))\n",
    "  dataset: tf.raw_ops.PrefetchDataset = dataset.batch(batch_size).prefetch(1)\n",
    "  return dataset"
   ]
  },
  {
   "cell_type": "code",
   "execution_count": 13,
   "metadata": {
    "ExecuteTime": {
     "end_time": "2021-02-01T14:10:08.813115Z",
     "start_time": "2021-02-01T14:09:47.394605Z"
    },
    "id": "TW-vT7eLYAdb"
   },
   "outputs": [
    {
     "name": "stdout",
     "output_type": "stream",
     "text": [
      "Epoch 1/100\n",
      "94/94 [==============================] - 0s 3ms/step - loss: 111.0275\n",
      "Epoch 2/100\n",
      "94/94 [==============================] - 0s 2ms/step - loss: 46.3137\n",
      "Epoch 3/100\n",
      "94/94 [==============================] - 0s 2ms/step - loss: 40.3068\n",
      "Epoch 4/100\n",
      "94/94 [==============================] - 0s 2ms/step - loss: 36.9847\n",
      "Epoch 5/100\n",
      "94/94 [==============================] - 0s 2ms/step - loss: 34.2961\n",
      "Epoch 6/100\n",
      "94/94 [==============================] - 0s 2ms/step - loss: 32.4966\n",
      "Epoch 7/100\n",
      "94/94 [==============================] - 0s 2ms/step - loss: 30.9737\n",
      "Epoch 8/100\n",
      "94/94 [==============================] - 0s 2ms/step - loss: 29.9327\n",
      "Epoch 9/100\n",
      "94/94 [==============================] - 0s 2ms/step - loss: 29.0525\n",
      "Epoch 10/100\n",
      "94/94 [==============================] - 0s 2ms/step - loss: 28.4143\n",
      "Epoch 11/100\n",
      "94/94 [==============================] - 0s 2ms/step - loss: 27.8333\n",
      "Epoch 12/100\n",
      "94/94 [==============================] - 0s 2ms/step - loss: 27.3935\n",
      "Epoch 13/100\n",
      "94/94 [==============================] - 0s 2ms/step - loss: 27.1609\n",
      "Epoch 14/100\n",
      "94/94 [==============================] - 0s 2ms/step - loss: 26.7201\n",
      "Epoch 15/100\n",
      "94/94 [==============================] - 0s 2ms/step - loss: 26.5792\n",
      "Epoch 16/100\n",
      "94/94 [==============================] - 0s 2ms/step - loss: 26.3439\n",
      "Epoch 17/100\n",
      "94/94 [==============================] - 0s 2ms/step - loss: 26.0044\n",
      "Epoch 18/100\n",
      "94/94 [==============================] - 0s 2ms/step - loss: 25.9170\n",
      "Epoch 19/100\n",
      "94/94 [==============================] - 0s 2ms/step - loss: 25.7173\n",
      "Epoch 20/100\n",
      "94/94 [==============================] - 0s 2ms/step - loss: 25.6825\n",
      "Epoch 21/100\n",
      "94/94 [==============================] - 0s 2ms/step - loss: 25.4333\n",
      "Epoch 22/100\n",
      "94/94 [==============================] - 0s 2ms/step - loss: 25.1868\n",
      "Epoch 23/100\n",
      "94/94 [==============================] - 0s 2ms/step - loss: 25.2284\n",
      "Epoch 24/100\n",
      "94/94 [==============================] - 0s 2ms/step - loss: 25.2766\n",
      "Epoch 25/100\n",
      "94/94 [==============================] - 0s 2ms/step - loss: 25.0020\n",
      "Epoch 26/100\n",
      "94/94 [==============================] - 0s 2ms/step - loss: 24.9221\n",
      "Epoch 27/100\n",
      "94/94 [==============================] - 0s 2ms/step - loss: 24.8116\n",
      "Epoch 28/100\n",
      "94/94 [==============================] - 0s 2ms/step - loss: 24.7337\n",
      "Epoch 29/100\n",
      "94/94 [==============================] - 0s 2ms/step - loss: 24.5656\n",
      "Epoch 30/100\n",
      "94/94 [==============================] - 0s 2ms/step - loss: 24.6147\n",
      "Epoch 31/100\n",
      "94/94 [==============================] - 0s 2ms/step - loss: 24.4135\n",
      "Epoch 32/100\n",
      "94/94 [==============================] - 0s 2ms/step - loss: 24.3163\n",
      "Epoch 33/100\n",
      "94/94 [==============================] - 0s 2ms/step - loss: 24.1896\n",
      "Epoch 34/100\n",
      "94/94 [==============================] - 0s 2ms/step - loss: 24.0527\n",
      "Epoch 35/100\n",
      "94/94 [==============================] - 0s 2ms/step - loss: 24.1342\n",
      "Epoch 36/100\n",
      "94/94 [==============================] - 0s 2ms/step - loss: 24.0789\n",
      "Epoch 37/100\n",
      "94/94 [==============================] - 0s 2ms/step - loss: 23.9352\n",
      "Epoch 38/100\n",
      "94/94 [==============================] - 0s 2ms/step - loss: 24.0095\n",
      "Epoch 39/100\n",
      "94/94 [==============================] - 0s 2ms/step - loss: 23.8568\n",
      "Epoch 40/100\n",
      "94/94 [==============================] - 0s 2ms/step - loss: 23.8453\n",
      "Epoch 41/100\n",
      "94/94 [==============================] - 0s 2ms/step - loss: 23.9774\n",
      "Epoch 42/100\n",
      "94/94 [==============================] - 0s 2ms/step - loss: 23.8711\n",
      "Epoch 43/100\n",
      "94/94 [==============================] - 0s 2ms/step - loss: 23.8095\n",
      "Epoch 44/100\n",
      "94/94 [==============================] - 0s 2ms/step - loss: 23.8220\n",
      "Epoch 45/100\n",
      "94/94 [==============================] - 0s 2ms/step - loss: 23.7880\n",
      "Epoch 46/100\n",
      "94/94 [==============================] - 0s 2ms/step - loss: 23.5262\n",
      "Epoch 47/100\n",
      "94/94 [==============================] - 0s 2ms/step - loss: 23.6341\n",
      "Epoch 48/100\n",
      "94/94 [==============================] - 0s 2ms/step - loss: 23.4660\n",
      "Epoch 49/100\n",
      "94/94 [==============================] - 0s 2ms/step - loss: 23.5012\n",
      "Epoch 50/100\n",
      "94/94 [==============================] - 0s 2ms/step - loss: 23.4095\n",
      "Epoch 51/100\n",
      "94/94 [==============================] - 0s 2ms/step - loss: 23.2964\n",
      "Epoch 52/100\n",
      "94/94 [==============================] - 0s 2ms/step - loss: 23.3688\n",
      "Epoch 53/100\n",
      "94/94 [==============================] - 0s 2ms/step - loss: 23.7462\n",
      "Epoch 54/100\n",
      "94/94 [==============================] - 0s 2ms/step - loss: 23.5566\n",
      "Epoch 55/100\n",
      "94/94 [==============================] - 0s 2ms/step - loss: 23.3681\n",
      "Epoch 56/100\n",
      "94/94 [==============================] - 0s 2ms/step - loss: 23.2637\n",
      "Epoch 57/100\n",
      "94/94 [==============================] - 0s 2ms/step - loss: 23.2430\n",
      "Epoch 58/100\n",
      "94/94 [==============================] - 0s 2ms/step - loss: 23.3040\n",
      "Epoch 59/100\n",
      "94/94 [==============================] - 0s 2ms/step - loss: 23.2796\n",
      "Epoch 60/100\n",
      "94/94 [==============================] - 0s 2ms/step - loss: 23.1151\n",
      "Epoch 61/100\n",
      "94/94 [==============================] - 0s 2ms/step - loss: 23.2535\n",
      "Epoch 62/100\n",
      "94/94 [==============================] - 0s 2ms/step - loss: 23.1357\n",
      "Epoch 63/100\n",
      "94/94 [==============================] - 0s 2ms/step - loss: 23.0868\n",
      "Epoch 64/100\n",
      "94/94 [==============================] - 0s 2ms/step - loss: 23.2917\n",
      "Epoch 65/100\n",
      "94/94 [==============================] - 0s 2ms/step - loss: 23.1226\n",
      "Epoch 66/100\n",
      "94/94 [==============================] - 0s 2ms/step - loss: 22.9838\n",
      "Epoch 67/100\n",
      "94/94 [==============================] - 0s 2ms/step - loss: 23.0586\n",
      "Epoch 68/100\n",
      "94/94 [==============================] - 0s 2ms/step - loss: 22.9911\n",
      "Epoch 69/100\n",
      "94/94 [==============================] - 0s 2ms/step - loss: 22.9581\n",
      "Epoch 70/100\n",
      "94/94 [==============================] - 0s 2ms/step - loss: 23.0372\n",
      "Epoch 71/100\n",
      "94/94 [==============================] - 0s 2ms/step - loss: 22.9387\n",
      "Epoch 72/100\n",
      "94/94 [==============================] - 0s 2ms/step - loss: 22.9202\n",
      "Epoch 73/100\n",
      "94/94 [==============================] - 0s 2ms/step - loss: 22.8146\n",
      "Epoch 74/100\n",
      "94/94 [==============================] - 0s 2ms/step - loss: 22.8628\n",
      "Epoch 75/100\n",
      "94/94 [==============================] - 0s 2ms/step - loss: 22.9113\n",
      "Epoch 76/100\n",
      "94/94 [==============================] - 0s 2ms/step - loss: 22.8512\n",
      "Epoch 77/100\n",
      "94/94 [==============================] - 0s 2ms/step - loss: 22.7375\n",
      "Epoch 78/100\n",
      "94/94 [==============================] - 0s 2ms/step - loss: 22.6736\n",
      "Epoch 79/100\n",
      "94/94 [==============================] - 0s 2ms/step - loss: 22.6187\n",
      "Epoch 80/100\n",
      "94/94 [==============================] - 0s 2ms/step - loss: 22.6410\n",
      "Epoch 81/100\n",
      "94/94 [==============================] - 0s 2ms/step - loss: 22.6279\n",
      "Epoch 82/100\n",
      "94/94 [==============================] - 0s 2ms/step - loss: 22.7732\n",
      "Epoch 83/100\n",
      "94/94 [==============================] - 0s 2ms/step - loss: 22.6457\n",
      "Epoch 84/100\n",
      "94/94 [==============================] - 0s 2ms/step - loss: 22.6041\n",
      "Epoch 85/100\n",
      "94/94 [==============================] - 0s 2ms/step - loss: 22.9040\n",
      "Epoch 86/100\n",
      "94/94 [==============================] - 0s 2ms/step - loss: 22.5561\n",
      "Epoch 87/100\n",
      "94/94 [==============================] - 0s 2ms/step - loss: 22.5381\n",
      "Epoch 88/100\n",
      "94/94 [==============================] - 0s 2ms/step - loss: 22.5510\n",
      "Epoch 89/100\n",
      "94/94 [==============================] - 0s 2ms/step - loss: 22.5171\n",
      "Epoch 90/100\n",
      "94/94 [==============================] - 0s 2ms/step - loss: 22.4618\n",
      "Epoch 91/100\n",
      "94/94 [==============================] - 0s 2ms/step - loss: 22.4147\n",
      "Epoch 92/100\n",
      "94/94 [==============================] - 0s 2ms/step - loss: 22.4752\n",
      "Epoch 93/100\n",
      "94/94 [==============================] - 0s 2ms/step - loss: 22.7358\n",
      "Epoch 94/100\n",
      "94/94 [==============================] - 0s 2ms/step - loss: 22.6162\n",
      "Epoch 95/100\n",
      "94/94 [==============================] - 0s 2ms/step - loss: 22.5103\n",
      "Epoch 96/100\n",
      "94/94 [==============================] - 0s 2ms/step - loss: 22.3462\n",
      "Epoch 97/100\n",
      "94/94 [==============================] - 0s 2ms/step - loss: 22.2659\n",
      "Epoch 98/100\n",
      "94/94 [==============================] - 0s 2ms/step - loss: 22.4234\n",
      "Epoch 99/100\n",
      "94/94 [==============================] - 0s 2ms/step - loss: 22.3614\n",
      "Epoch 100/100\n",
      "94/94 [==============================] - 0s 2ms/step - loss: 22.2891\n"
     ]
    },
    {
     "data": {
      "text/plain": [
       "<tensorflow.python.keras.callbacks.History at 0x1bd900ffa20>"
      ]
     },
     "execution_count": 13,
     "metadata": {},
     "output_type": "execute_result"
    }
   ],
   "source": [
    "dataset = windowed_dataset(x_train, window_size, batch_size, shuffle_buffer_size)\n",
    "\n",
    "\n",
    "model = Sequential([\n",
    "    Dense(units=100, activation=\"relu\", name=\"dense_1\", input_shape=[window_size]), # YOUR CODE HERE #\n",
    "    Dense(units=10, activation=\"relu\", name=\"dense_2\"), # YOUR CODE HERE #\n",
    "    Dense(units=1, activation=None, name=\"dense_3\")\n",
    "])\n",
    "\n",
    "model.compile(\n",
    "    loss=\"mse\", # YOUR CODE HERE #\n",
    "    optimizer=SGD(lr=1e-6, momentum=0.9)# YOUR CODE HERE#\n",
    ")\n",
    "model.fit(\n",
    "    dataset,\n",
    "    epochs=100,\n",
    "    workers=-1,\n",
    "    use_multiprocessing=True\n",
    ")\n"
   ]
  },
  {
   "cell_type": "code",
   "execution_count": 14,
   "metadata": {
    "ExecuteTime": {
     "end_time": "2021-02-01T14:11:32.500283Z",
     "start_time": "2021-02-01T14:10:08.883113Z"
    },
    "id": "efhco2rYyIFF"
   },
   "outputs": [
    {
     "name": "stderr",
     "output_type": "stream",
     "text": [
      "100%|████████████████████████████████████████████████████████████████████████████████| 3631/3631 [01:23<00:00, 43.48it/s]\n"
     ]
    },
    {
     "data": {
      "image/png": "[encoded data removed]",
      "text/plain": [
       "<Figure size 720x432 with 1 Axes>"
      ]
     },
     "metadata": {
      "needs_background": "light"
     },
     "output_type": "display_data"
    }
   ],
   "source": [
    "forecast = []\n",
    "for time in tqdm(range(len(series) - window_size)):\n",
    "  forecast.append(model.predict(series[time:time + window_size][np.newaxis]))\n",
    "\n",
    "forecast = forecast[split_time-window_size:]\n",
    "results = np.array(forecast)[:, 0, 0]\n",
    "\n",
    "\n",
    "plt.figure(figsize=(10, 6))\n",
    "\n",
    "plot_series(time_valid, x_valid)\n",
    "plot_series(time_valid, results)"
   ]
  },
  {
   "cell_type": "code",
   "execution_count": 15,
   "metadata": {
    "ExecuteTime": {
     "end_time": "2021-02-01T14:11:32.585280Z",
     "start_time": "2021-02-01T14:11:32.579281Z"
    },
    "id": "-kT6j186YO6K"
   },
   "outputs": [
    {
     "name": "stdout",
     "output_type": "stream",
     "text": [
      "3.0889332\n"
     ]
    }
   ],
   "source": [
    "print(mean_absolute_error(x_valid, results).numpy())\n",
    "# EXPECTED OUTPUT\n",
    "# A Value less than 3"
   ]
  },
  {
   "cell_type": "code",
   "execution_count": null,
   "metadata": {},
   "outputs": [],
   "source": []
  }
 ],
 "metadata": {
  "colab": {
   "name": "S+P_Week_2_Exercise_Question.ipynb",
   "provenance": [],
   "toc_visible": true
  },
  "kernelspec": {
   "display_name": "Python 3",
   "language": "python",
   "name": "python3"
  },
  "language_info": {
   "codemirror_mode": {
    "name": "ipython",
    "version": 3
   },
   "file_extension": ".py",
   "mimetype": "text/x-python",
   "name": "python",
   "nbconvert_exporter": "python",
   "pygments_lexer": "ipython3",
   "version": "3.7.3"
  },
  "toc": {
   "base_numbering": 1,
   "nav_menu": {},
   "number_sections": true,
   "sideBar": true,
   "skip_h1_title": false,
   "title_cell": "Table of Contents",
   "title_sidebar": "Contents",
   "toc_cell": false,
   "toc_position": {},
   "toc_section_display": true,
   "toc_window_display": false
  },
  "varInspector": {
   "cols": {
    "lenName": 16,
    "lenType": 16,
    "lenVar": 40
   },
   "kernels_config": {
    "python": {
     "delete_cmd_postfix": "",
     "delete_cmd_prefix": "del ",
     "library": "var_list.py",
     "varRefreshCmd": "print(var_dic_list())"
    },
    "r": {
     "delete_cmd_postfix": ") ",
     "delete_cmd_prefix": "rm(",
     "library": "var_list.r",
     "varRefreshCmd": "cat(var_dic_list()) "
    }
   },
   "types_to_exclude": [
    "module",
    "function",
    "builtin_function_or_method",
    "instance",
    "_Feature"
   ],
   "window_display": false
  }
 },
 "nbformat": 4,
 "nbformat_minor": 1
}
