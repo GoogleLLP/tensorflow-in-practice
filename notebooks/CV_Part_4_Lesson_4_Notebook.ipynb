{
  "nbformat": 4,
  "nbformat_minor": 0,
  "metadata": {
    "accelerator": "GPU",
    "colab": {
      "name": "CV_Part_4_Lesson_4_Notebook.ipynb",
      "provenance": [],
      "collapsed_sections": [],
      "toc_visible": true
    },
    "kernelspec": {
      "display_name": "Python 3",
      "language": "python",
      "name": "python3"
    },
    "language_info": {
      "codemirror_mode": {
        "name": "ipython",
        "version": 3
      },
      "file_extension": ".py",
      "mimetype": "text/x-python",
      "name": "python",
      "nbconvert_exporter": "python",
      "pygments_lexer": "ipython3",
      "version": "3.7.3"
    },
    "toc": {
      "base_numbering": 1,
      "nav_menu": {},
      "number_sections": true,
      "sideBar": true,
      "skip_h1_title": false,
      "title_cell": "Table of Contents",
      "title_sidebar": "Contents",
      "toc_cell": false,
      "toc_position": {},
      "toc_section_display": true,
      "toc_window_display": true
    },
    "varInspector": {
      "cols": {
        "lenName": 16,
        "lenType": 16,
        "lenVar": 40
      },
      "kernels_config": {
        "python": {
          "delete_cmd_postfix": "",
          "delete_cmd_prefix": "del ",
          "library": "var_list.py",
          "varRefreshCmd": "print(var_dic_list())"
        },
        "r": {
          "delete_cmd_postfix": ") ",
          "delete_cmd_prefix": "rm(",
          "library": "var_list.r",
          "varRefreshCmd": "cat(var_dic_list()) "
        }
      },
      "types_to_exclude": [
        "module",
        "function",
        "builtin_function_or_method",
        "instance",
        "_Feature"
      ],
      "window_display": true
    }
  },
  "cells": [
    {
      "cell_type": "markdown",
      "metadata": {
        "id": "rX8mhOLljYeM"
      },
      "source": [
        "##### Copyright 2019 The TensorFlow Authors."
      ]
    },
    {
      "cell_type": "code",
      "metadata": {
        "cellView": "form",
        "id": "BZSlp3DAjdYf"
      },
      "source": [
        "#@title Licensed under the Apache License, Version 2.0 (the \"License\");\n",
        "# you may not use this file except in compliance with the License.\n",
        "# You may obtain a copy of the License at\n",
        "#\n",
        "# https://www.apache.org/licenses/LICENSE-2.0\n",
        "#\n",
        "# Unless required by applicable law or agreed to in writing, software\n",
        "# distributed under the License is distributed on an \"AS IS\" BASIS,\n",
        "# WITHOUT WARRANTIES OR CONDITIONS OF ANY KIND, either express or implied.\n",
        "# See the License for the specific language governing permissions and\n",
        "# limitations under the License."
      ],
      "execution_count": null,
      "outputs": []
    },
    {
      "cell_type": "markdown",
      "metadata": {
        "id": "j6SwH-Ksxco6"
      },
      "source": [
        "<h2>准备数据</h2>"
      ]
    },
    {
      "cell_type": "markdown",
      "metadata": {
        "id": "AB0swO47xco7"
      },
      "source": [
        "<h3>下载数据</h3>"
      ]
    },
    {
      "cell_type": "code",
      "metadata": {
        "colab": {
          "base_uri": "https://localhost:8080/"
        },
        "id": "nH43xkRLxco8",
        "outputId": "f518cd72-8982-499f-a76b-b932a2a8c941"
      },
      "source": [
        "!wget --no-check-certificate https://storage.googleapis.com/laurencemoroney-blog.appspot.com/horse-or-human.zip -O /tmp/horse-or-human.zip\n",
        "!wget --no-check-certificate https://storage.googleapis.com/laurencemoroney-blog.appspot.com/validation-horse-or-human.zip -O /tmp/validation-horse-or-human.zip"
      ],
      "execution_count": 1,
      "outputs": [
        {
          "output_type": "stream",
          "text": [
            "--2021-02-11 06:27:40--  https://storage.googleapis.com/laurencemoroney-blog.appspot.com/horse-or-human.zip\n",
            "Resolving storage.googleapis.com (storage.googleapis.com)... 172.217.15.80, 172.217.12.240, 172.217.164.176, ...\n",
            "Connecting to storage.googleapis.com (storage.googleapis.com)|172.217.15.80|:443... connected.\n",
            "HTTP request sent, awaiting response... 200 OK\n",
            "Length: 149574867 (143M) [application/zip]\n",
            "Saving to: ‘/tmp/horse-or-human.zip’\n",
            "\n",
            "/tmp/horse-or-human 100%[===================>] 142.65M   153MB/s    in 0.9s    \n",
            "\n",
            "2021-02-11 06:27:41 (153 MB/s) - ‘/tmp/horse-or-human.zip’ saved [149574867/149574867]\n",
            "\n",
            "--2021-02-11 06:27:41--  https://storage.googleapis.com/laurencemoroney-blog.appspot.com/validation-horse-or-human.zip\n",
            "Resolving storage.googleapis.com (storage.googleapis.com)... 172.217.7.176, 172.217.12.240, 172.217.9.208, ...\n",
            "Connecting to storage.googleapis.com (storage.googleapis.com)|172.217.7.176|:443... connected.\n",
            "HTTP request sent, awaiting response... 200 OK\n",
            "Length: 11480187 (11M) [application/zip]\n",
            "Saving to: ‘/tmp/validation-horse-or-human.zip’\n",
            "\n",
            "/tmp/validation-hor 100%[===================>]  10.95M  --.-KB/s    in 0.09s   \n",
            "\n",
            "2021-02-11 06:27:41 (121 MB/s) - ‘/tmp/validation-horse-or-human.zip’ saved [11480187/11480187]\n",
            "\n"
          ],
          "name": "stdout"
        }
      ]
    },
    {
      "cell_type": "markdown",
      "metadata": {
        "id": "Wqn2Nxeqxco8"
      },
      "source": [
        "<h3>整理数据</h3>"
      ]
    },
    {
      "cell_type": "code",
      "metadata": {
        "id": "gKpGTul7xco9"
      },
      "source": [
        "import os\n",
        "from zipfile import ZipFile\n",
        "\n",
        "local_zip = '/tmp/horse-or-human.zip'\n",
        "zip_ref = ZipFile(local_zip, 'r')\n",
        "zip_ref.extractall('../data/HorseAndHuman/train_data/')\n",
        "local_zip = '/tmp/validation-horse-or-human.zip'\n",
        "zip_ref = ZipFile(local_zip, 'r')\n",
        "zip_ref.extractall('../data/HorseAndHuman/validation_data/')\n",
        "zip_ref.close()"
      ],
      "execution_count": 2,
      "outputs": []
    },
    {
      "cell_type": "code",
      "metadata": {
        "ExecuteTime": {
          "end_time": "2021-02-11T06:08:08.759590Z",
          "start_time": "2021-02-11T06:08:08.754594Z"
        },
        "id": "RXZT2UsyIVe_"
      },
      "source": [
        "# Directory with our training horse pictures\n",
        "train_horse_dir = os.path.join('../data/HorseAndHuman/train_data/horses')\n",
        "\n",
        "# Directory with our training human pictures\n",
        "train_human_dir = os.path.join('../data/HorseAndHuman/train_data/humans')\n",
        "\n",
        "# Directory with our training horse pictures\n",
        "validation_horse_dir = os.path.join('../data/HorseAndHuman/validation_data/horses')\n",
        "\n",
        "# Directory with our training human pictures\n",
        "validation_human_dir = os.path.join('../data/HorseAndHuman/validation_data/humans')"
      ],
      "execution_count": 3,
      "outputs": []
    },
    {
      "cell_type": "markdown",
      "metadata": {
        "id": "5oqBkNBJmtUv"
      },
      "source": [
        "## Building a Small Model from Scratch\n",
        "\n",
        "But before we continue, let's start defining the model:\n",
        "\n",
        "Step 1 will be to import tensorflow."
      ]
    },
    {
      "cell_type": "markdown",
      "metadata": {
        "id": "70ZvNjwKxco-"
      },
      "source": [
        "<h3>导包</h3>"
      ]
    },
    {
      "cell_type": "code",
      "metadata": {
        "ExecuteTime": {
          "end_time": "2021-02-11T06:12:57.018121Z",
          "start_time": "2021-02-11T06:12:57.012147Z"
        },
        "id": "qvfZg3LQbD-5"
      },
      "source": [
        "import matplotlib.pyplot as plt\n",
        "import tensorflow as tf\n",
        "from tensorflow.keras.models import Sequential\n",
        "from tensorflow.keras.layers import Dense, Flatten, Conv2D, MaxPool2D\n",
        "from tensorflow.keras.optimizers import RMSprop\n",
        "from tensorflow.keras.callbacks import Callback, LearningRateScheduler, History, TensorBoard\n",
        "from tensorflow.keras.preprocessing.image import ImageDataGenerator, load_img, img_to_array\n",
        "from tensorflow.keras.backend import clear_session\n",
        "from tensorflow.compat.v1 import reset_default_graph"
      ],
      "execution_count": 4,
      "outputs": []
    },
    {
      "cell_type": "markdown",
      "metadata": {
        "id": "KiXuI1ANxco_"
      },
      "source": [
        "<h3>初始化</h3>"
      ]
    },
    {
      "cell_type": "code",
      "metadata": {
        "ExecuteTime": {
          "end_time": "2021-02-11T06:13:45.148954Z",
          "start_time": "2021-02-11T06:13:45.031982Z"
        },
        "id": "e_xuSVrJxco_"
      },
      "source": [
        "clear_session()\n",
        "reset_default_graph()\n",
        "# 设置显存自动增长\n",
        "physical_devices = tf.config.list_physical_devices('GPU')\n",
        "for physical_device in physical_devices:\n",
        "    tf.config.experimental.set_memory_growth(physical_device, enable=True)"
      ],
      "execution_count": 5,
      "outputs": []
    },
    {
      "cell_type": "markdown",
      "metadata": {
        "id": "BnhYCP4tdqjC"
      },
      "source": [
        "We then add convolutional layers as in the previous example, and flatten the final result to feed into the densely connected layers."
      ]
    },
    {
      "cell_type": "markdown",
      "metadata": {
        "id": "gokG5HKpdtzm"
      },
      "source": [
        "Finally we add the densely connected layers. \n",
        "\n",
        "Note that because we are facing a two-class classification problem, i.e. a *binary classification problem*, we will end our network with a [*sigmoid* activation](https://wikipedia.org/wiki/Sigmoid_function), so that the output of our network will be a single scalar between 0 and 1, encoding the probability that the current image is class 1 (as opposed to class 0)."
      ]
    },
    {
      "cell_type": "markdown",
      "metadata": {
        "id": "O8OPBRVJxcpA"
      },
      "source": [
        "<h3>搭建模型</h3>"
      ]
    },
    {
      "cell_type": "code",
      "metadata": {
        "ExecuteTime": {
          "end_time": "2021-02-11T06:20:05.957609Z",
          "start_time": "2021-02-11T06:20:05.178528Z"
        },
        "id": "PixZ2s5QbYQ3"
      },
      "source": [
        "model = Sequential([\n",
        "    # Note the input shape is the desired size of the image 300x300 with 3 bytes color\n",
        "    # This is the first convolution\n",
        "    Conv2D(filters=16, kernel_size=(3, 3), activation='relu', name=\"conv2d_1\", input_shape=(300, 300, 3)),\n",
        "    MaxPool2D(pool_size=(2, 2), name=\"pool2d_1\"),\n",
        "    # The second convolution\n",
        "    Conv2D(filters=32, kernel_size=(3, 3), activation='relu', name=\"conv2d_2\"),\n",
        "    MaxPool2D(pool_size=(2, 2), name=\"pool2d_2\"),\n",
        "    # The third convolution\n",
        "    Conv2D(filters=64, kernel_size=(3, 3), activation='relu', name=\"conv2d_3\"),\n",
        "    MaxPool2D(pool_size=(2, 2), name=\"pool2d_3\"),\n",
        "    # The fourth convolution\n",
        "    Conv2D(filters=64, kernel_size=(3, 3), activation='relu', name=\"conv2d_4\"),\n",
        "    MaxPool2D(pool_size=(2, 2), name=\"pool2d_4\"),\n",
        "    # The fifth convolution\n",
        "    Conv2D(filters=64, kernel_size=(3, 3), activation='relu', name=\"conv2d_5\"),\n",
        "    MaxPool2D(pool_size=(2, 2), name=\"pool2d_5\"),\n",
        "    # Flatten the results to feed into a DNN\n",
        "    Flatten(name=\"flatten_6\"),\n",
        "    # 512 neuron hidden layer\n",
        "    Dense(units=512, activation='relu', name=\"dense_6\"),\n",
        "    # Only 1 output neuron. It will contain a value from 0-1 where 0 for 1 class ('horses') and 1 for the other ('humans')\n",
        "    Dense(units=1, activation='sigmoid', name=\"dense_7\")\n",
        "], name=\"horse_human_classifier\")"
      ],
      "execution_count": 6,
      "outputs": []
    },
    {
      "cell_type": "code",
      "metadata": {
        "ExecuteTime": {
          "end_time": "2021-02-11T06:20:27.073291Z",
          "start_time": "2021-02-11T06:20:27.045313Z"
        },
        "id": "8DHWhFP_uhq3",
        "colab": {
          "base_uri": "https://localhost:8080/"
        },
        "outputId": "a45feed8-ba68-4ec6-e895-9f247dd95c14"
      },
      "source": [
        "model.compile(\n",
        "    loss='binary_crossentropy',\n",
        "    optimizer=RMSprop(lr=1e-4),\n",
        "    metrics=['accuracy']\n",
        ")\n",
        "model.summary()"
      ],
      "execution_count": 7,
      "outputs": [
        {
          "output_type": "stream",
          "text": [
            "Model: \"horse_human_classifier\"\n",
            "_________________________________________________________________\n",
            "Layer (type)                 Output Shape              Param #   \n",
            "=================================================================\n",
            "conv2d_1 (Conv2D)            (None, 298, 298, 16)      448       \n",
            "_________________________________________________________________\n",
            "pool2d_1 (MaxPooling2D)      (None, 149, 149, 16)      0         \n",
            "_________________________________________________________________\n",
            "conv2d_2 (Conv2D)            (None, 147, 147, 32)      4640      \n",
            "_________________________________________________________________\n",
            "pool2d_2 (MaxPooling2D)      (None, 73, 73, 32)        0         \n",
            "_________________________________________________________________\n",
            "conv2d_3 (Conv2D)            (None, 71, 71, 64)        18496     \n",
            "_________________________________________________________________\n",
            "pool2d_3 (MaxPooling2D)      (None, 35, 35, 64)        0         \n",
            "_________________________________________________________________\n",
            "conv2d_4 (Conv2D)            (None, 33, 33, 64)        36928     \n",
            "_________________________________________________________________\n",
            "pool2d_4 (MaxPooling2D)      (None, 16, 16, 64)        0         \n",
            "_________________________________________________________________\n",
            "conv2d_5 (Conv2D)            (None, 14, 14, 64)        36928     \n",
            "_________________________________________________________________\n",
            "pool2d_5 (MaxPooling2D)      (None, 7, 7, 64)          0         \n",
            "_________________________________________________________________\n",
            "flatten_6 (Flatten)          (None, 3136)              0         \n",
            "_________________________________________________________________\n",
            "dense_6 (Dense)              (None, 512)               1606144   \n",
            "_________________________________________________________________\n",
            "dense_7 (Dense)              (None, 1)                 513       \n",
            "=================================================================\n",
            "Total params: 1,704,097\n",
            "Trainable params: 1,704,097\n",
            "Non-trainable params: 0\n",
            "_________________________________________________________________\n"
          ],
          "name": "stdout"
        }
      ]
    },
    {
      "cell_type": "markdown",
      "metadata": {
        "id": "AhwGtaVnxcpB"
      },
      "source": [
        "<h2>数据增强</h2>"
      ]
    },
    {
      "cell_type": "code",
      "metadata": {
        "ExecuteTime": {
          "end_time": "2021-02-11T06:24:13.919875Z",
          "start_time": "2021-02-11T06:24:13.688685Z"
        },
        "id": "ClebU9NJg99G",
        "colab": {
          "base_uri": "https://localhost:8080/"
        },
        "outputId": "b8b4c145-2dbb-4fee-f01e-f19934ab5ddb"
      },
      "source": [
        "# 训练集增强\n",
        "train_datagen = ImageDataGenerator(\n",
        "    rescale=1./255,\n",
        "    rotation_range=40,\n",
        "    width_shift_range=0.2,\n",
        "    height_shift_range=0.2,\n",
        "    shear_range=0.2,\n",
        "    zoom_range=0.2,\n",
        "    horizontal_flip=True,\n",
        "    fill_mode='nearest'\n",
        ")\n",
        "\n",
        "# 验证集不增强\n",
        "validation_datagen = ImageDataGenerator(rescale=1/255)\n",
        "\n",
        "# Flow training images in batches of 128 using train_datagen generator\n",
        "train_generator = train_datagen.flow_from_directory(\n",
        "    directory='../data/HorseAndHuman/train_data/',  # This is the source directory for training images\n",
        "    target_size=(300, 300),  # All images will be resized to 300x300\n",
        "    batch_size=128,\n",
        "    class_mode='binary' # Since we use binary_crossentropy loss, we need binary labels\n",
        ")\n",
        "\n",
        "# Flow training images in batches of 128 using train_datagen generator\n",
        "validation_generator = validation_datagen.flow_from_directory(\n",
        "    directory='../data/HorseAndHuman/validation_data/',  # This is the source directory for training images\n",
        "    target_size=(300, 300),  # All images will be resized to 300x300\n",
        "    batch_size=32,\n",
        "    class_mode='binary' # Since we use binary_crossentropy loss, we need binary labels\n",
        ")"
      ],
      "execution_count": 8,
      "outputs": [
        {
          "output_type": "stream",
          "text": [
            "Found 1027 images belonging to 2 classes.\n",
            "Found 256 images belonging to 2 classes.\n"
          ],
          "name": "stdout"
        }
      ]
    },
    {
      "cell_type": "markdown",
      "metadata": {
        "id": "jmsk5sNpxcpC"
      },
      "source": [
        "<h2>训练模型</h2>"
      ]
    },
    {
      "cell_type": "code",
      "metadata": {
        "ExecuteTime": {
          "end_time": "2021-02-11T06:26:00.728790Z",
          "start_time": "2021-02-11T06:25:41.376663Z"
        },
        "id": "Fb1_lgobv81m",
        "colab": {
          "base_uri": "https://localhost:8080/"
        },
        "outputId": "0c092a88-3638-4fcc-df9e-c53baebdf5d9"
      },
      "source": [
        "history = model.fit(\n",
        "    train_generator,\n",
        "    validation_data=validation_generator,\n",
        "    steps_per_epoch=8,  \n",
        "    validation_steps=8,\n",
        "    epochs=100,\n",
        "    workers=-1,\n",
        "    use_multiprocessing=True\n",
        ")"
      ],
      "execution_count": 9,
      "outputs": [
        {
          "output_type": "stream",
          "text": [
            "Epoch 1/100\n",
            "8/8 [==============================] - 29s 3s/step - loss: 0.6912 - accuracy: 0.5372 - val_loss: 0.6753 - val_accuracy: 0.5000\n",
            "Epoch 2/100\n",
            "8/8 [==============================] - 21s 3s/step - loss: 0.6810 - accuracy: 0.5316 - val_loss: 0.6515 - val_accuracy: 0.5625\n",
            "Epoch 3/100\n",
            "8/8 [==============================] - 22s 3s/step - loss: 0.6628 - accuracy: 0.6703 - val_loss: 0.6509 - val_accuracy: 0.5117\n",
            "Epoch 4/100\n",
            "8/8 [==============================] - 24s 3s/step - loss: 0.6392 - accuracy: 0.6542 - val_loss: 0.5486 - val_accuracy: 0.8398\n",
            "Epoch 5/100\n",
            "8/8 [==============================] - 21s 3s/step - loss: 0.5999 - accuracy: 0.7042 - val_loss: 0.5468 - val_accuracy: 0.6797\n",
            "Epoch 6/100\n",
            "8/8 [==============================] - 21s 3s/step - loss: 0.5966 - accuracy: 0.7002 - val_loss: 0.6129 - val_accuracy: 0.5781\n",
            "Epoch 7/100\n",
            "8/8 [==============================] - 21s 3s/step - loss: 0.5378 - accuracy: 0.7403 - val_loss: 0.6457 - val_accuracy: 0.5859\n",
            "Epoch 8/100\n",
            "8/8 [==============================] - 21s 3s/step - loss: 0.5118 - accuracy: 0.7621 - val_loss: 0.9040 - val_accuracy: 0.5156\n",
            "Epoch 9/100\n",
            "8/8 [==============================] - 21s 3s/step - loss: 0.5007 - accuracy: 0.7565 - val_loss: 0.5434 - val_accuracy: 0.6836\n",
            "Epoch 10/100\n",
            "8/8 [==============================] - 21s 3s/step - loss: 0.5237 - accuracy: 0.7487 - val_loss: 0.8246 - val_accuracy: 0.5742\n",
            "Epoch 11/100\n",
            "8/8 [==============================] - 21s 3s/step - loss: 0.4766 - accuracy: 0.7943 - val_loss: 0.6413 - val_accuracy: 0.6562\n",
            "Epoch 12/100\n",
            "8/8 [==============================] - 21s 3s/step - loss: 0.4821 - accuracy: 0.8069 - val_loss: 0.8005 - val_accuracy: 0.5898\n",
            "Epoch 13/100\n",
            "8/8 [==============================] - 21s 3s/step - loss: 0.4774 - accuracy: 0.7792 - val_loss: 0.5150 - val_accuracy: 0.7227\n",
            "Epoch 14/100\n",
            "8/8 [==============================] - 21s 3s/step - loss: 0.4150 - accuracy: 0.8314 - val_loss: 0.8215 - val_accuracy: 0.6445\n",
            "Epoch 15/100\n",
            "8/8 [==============================] - 21s 3s/step - loss: 0.4769 - accuracy: 0.7647 - val_loss: 1.0837 - val_accuracy: 0.5703\n",
            "Epoch 16/100\n",
            "8/8 [==============================] - 24s 3s/step - loss: 0.4253 - accuracy: 0.8043 - val_loss: 0.9503 - val_accuracy: 0.6055\n",
            "Epoch 17/100\n",
            "8/8 [==============================] - 21s 3s/step - loss: 0.4145 - accuracy: 0.8250 - val_loss: 0.6013 - val_accuracy: 0.7070\n",
            "Epoch 18/100\n",
            "8/8 [==============================] - 21s 3s/step - loss: 0.4278 - accuracy: 0.8084 - val_loss: 0.7617 - val_accuracy: 0.6836\n",
            "Epoch 19/100\n",
            "8/8 [==============================] - 21s 3s/step - loss: 0.4264 - accuracy: 0.8199 - val_loss: 1.0353 - val_accuracy: 0.6094\n",
            "Epoch 20/100\n",
            "8/8 [==============================] - 21s 3s/step - loss: 0.3891 - accuracy: 0.8146 - val_loss: 1.2488 - val_accuracy: 0.5742\n",
            "Epoch 21/100\n",
            "8/8 [==============================] - 21s 3s/step - loss: 0.4193 - accuracy: 0.8113 - val_loss: 1.0184 - val_accuracy: 0.6406\n",
            "Epoch 22/100\n",
            "8/8 [==============================] - 21s 3s/step - loss: 0.3478 - accuracy: 0.8523 - val_loss: 0.9889 - val_accuracy: 0.6758\n",
            "Epoch 23/100\n",
            "8/8 [==============================] - 21s 3s/step - loss: 0.4563 - accuracy: 0.7667 - val_loss: 1.2439 - val_accuracy: 0.6055\n",
            "Epoch 24/100\n",
            "8/8 [==============================] - 21s 3s/step - loss: 0.4266 - accuracy: 0.7948 - val_loss: 1.2113 - val_accuracy: 0.5938\n",
            "Epoch 25/100\n",
            "8/8 [==============================] - 21s 3s/step - loss: 0.3826 - accuracy: 0.8313 - val_loss: 1.1938 - val_accuracy: 0.5859\n",
            "Epoch 26/100\n",
            "8/8 [==============================] - 21s 3s/step - loss: 0.3667 - accuracy: 0.8318 - val_loss: 1.1496 - val_accuracy: 0.6328\n",
            "Epoch 27/100\n",
            "8/8 [==============================] - 21s 3s/step - loss: 0.3036 - accuracy: 0.8642 - val_loss: 0.9077 - val_accuracy: 0.6953\n",
            "Epoch 28/100\n",
            "8/8 [==============================] - 21s 3s/step - loss: 0.3809 - accuracy: 0.8163 - val_loss: 1.3466 - val_accuracy: 0.6016\n",
            "Epoch 29/100\n",
            "8/8 [==============================] - 21s 3s/step - loss: 0.3645 - accuracy: 0.8203 - val_loss: 1.4622 - val_accuracy: 0.5703\n",
            "Epoch 30/100\n",
            "8/8 [==============================] - 21s 3s/step - loss: 0.3123 - accuracy: 0.8624 - val_loss: 2.8107 - val_accuracy: 0.5000\n",
            "Epoch 31/100\n",
            "8/8 [==============================] - 21s 3s/step - loss: 0.4209 - accuracy: 0.7911 - val_loss: 1.5283 - val_accuracy: 0.5938\n",
            "Epoch 32/100\n",
            "8/8 [==============================] - 21s 3s/step - loss: 0.3316 - accuracy: 0.8605 - val_loss: 1.5579 - val_accuracy: 0.5898\n",
            "Epoch 33/100\n",
            "8/8 [==============================] - 24s 3s/step - loss: 0.2913 - accuracy: 0.8813 - val_loss: 1.8214 - val_accuracy: 0.5469\n",
            "Epoch 34/100\n",
            "8/8 [==============================] - 21s 3s/step - loss: 0.3215 - accuracy: 0.8650 - val_loss: 1.2624 - val_accuracy: 0.6406\n",
            "Epoch 35/100\n",
            "8/8 [==============================] - 21s 3s/step - loss: 0.3073 - accuracy: 0.8728 - val_loss: 1.5440 - val_accuracy: 0.5898\n",
            "Epoch 36/100\n",
            "8/8 [==============================] - 21s 3s/step - loss: 0.3198 - accuracy: 0.8540 - val_loss: 1.3999 - val_accuracy: 0.6055\n",
            "Epoch 37/100\n",
            "8/8 [==============================] - 21s 3s/step - loss: 0.2721 - accuracy: 0.8905 - val_loss: 1.9377 - val_accuracy: 0.5742\n",
            "Epoch 38/100\n",
            "8/8 [==============================] - 21s 3s/step - loss: 0.3671 - accuracy: 0.8505 - val_loss: 1.5142 - val_accuracy: 0.6133\n",
            "Epoch 39/100\n",
            "8/8 [==============================] - 21s 3s/step - loss: 0.2847 - accuracy: 0.8772 - val_loss: 1.6046 - val_accuracy: 0.5977\n",
            "Epoch 40/100\n",
            "8/8 [==============================] - 21s 3s/step - loss: 0.2411 - accuracy: 0.9073 - val_loss: 2.0551 - val_accuracy: 0.5469\n",
            "Epoch 41/100\n",
            "8/8 [==============================] - 21s 3s/step - loss: 0.2753 - accuracy: 0.8919 - val_loss: 2.0415 - val_accuracy: 0.5664\n",
            "Epoch 42/100\n",
            "8/8 [==============================] - 21s 3s/step - loss: 0.5163 - accuracy: 0.8156 - val_loss: 1.7739 - val_accuracy: 0.5820\n",
            "Epoch 43/100\n",
            "8/8 [==============================] - 21s 3s/step - loss: 0.2514 - accuracy: 0.8924 - val_loss: 1.8751 - val_accuracy: 0.5859\n",
            "Epoch 44/100\n",
            "8/8 [==============================] - 21s 3s/step - loss: 0.2390 - accuracy: 0.9069 - val_loss: 1.9741 - val_accuracy: 0.5859\n",
            "Epoch 45/100\n",
            "8/8 [==============================] - 24s 3s/step - loss: 0.2529 - accuracy: 0.8883 - val_loss: 2.0052 - val_accuracy: 0.5625\n",
            "Epoch 46/100\n",
            "8/8 [==============================] - 21s 3s/step - loss: 0.2043 - accuracy: 0.9253 - val_loss: 1.8828 - val_accuracy: 0.5977\n",
            "Epoch 47/100\n",
            "8/8 [==============================] - 21s 3s/step - loss: 0.3183 - accuracy: 0.8577 - val_loss: 1.6828 - val_accuracy: 0.6094\n",
            "Epoch 48/100\n",
            "8/8 [==============================] - 21s 3s/step - loss: 0.2721 - accuracy: 0.8943 - val_loss: 1.4429 - val_accuracy: 0.6172\n",
            "Epoch 49/100\n",
            "8/8 [==============================] - 21s 3s/step - loss: 0.2144 - accuracy: 0.9165 - val_loss: 1.8732 - val_accuracy: 0.6016\n",
            "Epoch 50/100\n",
            "8/8 [==============================] - 21s 3s/step - loss: 0.2416 - accuracy: 0.9098 - val_loss: 1.9406 - val_accuracy: 0.5859\n",
            "Epoch 51/100\n",
            "8/8 [==============================] - 21s 3s/step - loss: 0.2427 - accuracy: 0.9132 - val_loss: 1.6608 - val_accuracy: 0.6250\n",
            "Epoch 52/100\n",
            "8/8 [==============================] - 21s 3s/step - loss: 0.2269 - accuracy: 0.9068 - val_loss: 0.8007 - val_accuracy: 0.7305\n",
            "Epoch 53/100\n",
            "8/8 [==============================] - 21s 3s/step - loss: 0.2449 - accuracy: 0.8982 - val_loss: 1.9257 - val_accuracy: 0.6055\n",
            "Epoch 54/100\n",
            "8/8 [==============================] - 21s 3s/step - loss: 0.3460 - accuracy: 0.8637 - val_loss: 1.7747 - val_accuracy: 0.6172\n",
            "Epoch 55/100\n",
            "8/8 [==============================] - 21s 3s/step - loss: 0.2109 - accuracy: 0.9081 - val_loss: 1.6385 - val_accuracy: 0.6445\n",
            "Epoch 56/100\n",
            "8/8 [==============================] - 21s 3s/step - loss: 0.1900 - accuracy: 0.9189 - val_loss: 1.9971 - val_accuracy: 0.6094\n",
            "Epoch 57/100\n",
            "8/8 [==============================] - 21s 3s/step - loss: 0.1826 - accuracy: 0.9336 - val_loss: 2.4162 - val_accuracy: 0.5625\n",
            "Epoch 58/100\n",
            "8/8 [==============================] - 21s 3s/step - loss: 0.2927 - accuracy: 0.8707 - val_loss: 1.4993 - val_accuracy: 0.6562\n",
            "Epoch 59/100\n",
            "8/8 [==============================] - 24s 3s/step - loss: 0.2057 - accuracy: 0.9093 - val_loss: 1.9774 - val_accuracy: 0.6094\n",
            "Epoch 60/100\n",
            "8/8 [==============================] - 21s 3s/step - loss: 0.1840 - accuracy: 0.9303 - val_loss: 3.4155 - val_accuracy: 0.5508\n",
            "Epoch 61/100\n",
            "8/8 [==============================] - 21s 3s/step - loss: 0.2168 - accuracy: 0.9015 - val_loss: 1.6536 - val_accuracy: 0.6484\n",
            "Epoch 62/100\n",
            "8/8 [==============================] - 21s 3s/step - loss: 0.1944 - accuracy: 0.9287 - val_loss: 1.7487 - val_accuracy: 0.6719\n",
            "Epoch 63/100\n",
            "8/8 [==============================] - 21s 3s/step - loss: 0.2510 - accuracy: 0.9015 - val_loss: 2.5498 - val_accuracy: 0.5742\n",
            "Epoch 64/100\n",
            "8/8 [==============================] - 21s 3s/step - loss: 0.3031 - accuracy: 0.8856 - val_loss: 2.1126 - val_accuracy: 0.6172\n",
            "Epoch 65/100\n",
            "8/8 [==============================] - 21s 3s/step - loss: 0.1918 - accuracy: 0.9261 - val_loss: 2.5116 - val_accuracy: 0.5820\n",
            "Epoch 66/100\n",
            "8/8 [==============================] - 21s 3s/step - loss: 0.1777 - accuracy: 0.9407 - val_loss: 3.8857 - val_accuracy: 0.5039\n",
            "Epoch 67/100\n",
            "8/8 [==============================] - 24s 3s/step - loss: 0.3773 - accuracy: 0.8403 - val_loss: 2.3448 - val_accuracy: 0.5820\n",
            "Epoch 68/100\n",
            "8/8 [==============================] - 21s 3s/step - loss: 0.1763 - accuracy: 0.9246 - val_loss: 0.8697 - val_accuracy: 0.7617\n",
            "Epoch 69/100\n",
            "8/8 [==============================] - 21s 3s/step - loss: 0.2830 - accuracy: 0.8686 - val_loss: 1.8235 - val_accuracy: 0.6523\n",
            "Epoch 70/100\n",
            "8/8 [==============================] - 21s 3s/step - loss: 0.3077 - accuracy: 0.8746 - val_loss: 2.2485 - val_accuracy: 0.6094\n",
            "Epoch 71/100\n",
            "8/8 [==============================] - 21s 3s/step - loss: 0.1531 - accuracy: 0.9489 - val_loss: 2.7548 - val_accuracy: 0.5664\n",
            "Epoch 72/100\n",
            "8/8 [==============================] - 21s 3s/step - loss: 0.2345 - accuracy: 0.9022 - val_loss: 2.1170 - val_accuracy: 0.6172\n",
            "Epoch 73/100\n",
            "8/8 [==============================] - 21s 3s/step - loss: 0.1787 - accuracy: 0.9288 - val_loss: 2.1004 - val_accuracy: 0.6406\n",
            "Epoch 74/100\n",
            "8/8 [==============================] - 21s 3s/step - loss: 0.1991 - accuracy: 0.9285 - val_loss: 2.3130 - val_accuracy: 0.6094\n",
            "Epoch 75/100\n",
            "8/8 [==============================] - 21s 3s/step - loss: 0.1600 - accuracy: 0.9436 - val_loss: 2.5313 - val_accuracy: 0.6055\n",
            "Epoch 76/100\n",
            "8/8 [==============================] - 21s 3s/step - loss: 0.1440 - accuracy: 0.9579 - val_loss: 2.2395 - val_accuracy: 0.6133\n",
            "Epoch 77/100\n",
            "8/8 [==============================] - 21s 3s/step - loss: 0.1785 - accuracy: 0.9248 - val_loss: 2.0541 - val_accuracy: 0.6328\n",
            "Epoch 78/100\n",
            "8/8 [==============================] - 21s 3s/step - loss: 0.1237 - accuracy: 0.9540 - val_loss: 2.8197 - val_accuracy: 0.5664\n",
            "Epoch 79/100\n",
            "8/8 [==============================] - 21s 3s/step - loss: 0.1383 - accuracy: 0.9415 - val_loss: 2.1495 - val_accuracy: 0.6289\n",
            "Epoch 80/100\n",
            "8/8 [==============================] - 24s 3s/step - loss: 0.1407 - accuracy: 0.9497 - val_loss: 2.6719 - val_accuracy: 0.6055\n",
            "Epoch 81/100\n",
            "8/8 [==============================] - 21s 3s/step - loss: 0.1512 - accuracy: 0.9350 - val_loss: 2.8190 - val_accuracy: 0.5703\n",
            "Epoch 82/100\n",
            "8/8 [==============================] - 21s 3s/step - loss: 0.2323 - accuracy: 0.9156 - val_loss: 2.3829 - val_accuracy: 0.6094\n",
            "Epoch 83/100\n",
            "8/8 [==============================] - 21s 3s/step - loss: 0.1145 - accuracy: 0.9544 - val_loss: 2.7754 - val_accuracy: 0.6016\n",
            "Epoch 84/100\n",
            "8/8 [==============================] - 21s 3s/step - loss: 0.1977 - accuracy: 0.8992 - val_loss: 2.6725 - val_accuracy: 0.6094\n",
            "Epoch 85/100\n",
            "8/8 [==============================] - 21s 3s/step - loss: 0.1295 - accuracy: 0.9611 - val_loss: 2.0694 - val_accuracy: 0.6719\n",
            "Epoch 86/100\n",
            "8/8 [==============================] - 21s 3s/step - loss: 0.1561 - accuracy: 0.9299 - val_loss: 1.5160 - val_accuracy: 0.7070\n",
            "Epoch 87/100\n",
            "8/8 [==============================] - 24s 3s/step - loss: 0.1476 - accuracy: 0.9428 - val_loss: 2.5230 - val_accuracy: 0.6133\n",
            "Epoch 88/100\n",
            "8/8 [==============================] - 21s 3s/step - loss: 0.1644 - accuracy: 0.9406 - val_loss: 2.1117 - val_accuracy: 0.6523\n",
            "Epoch 89/100\n",
            "8/8 [==============================] - 21s 3s/step - loss: 0.1374 - accuracy: 0.9443 - val_loss: 2.3319 - val_accuracy: 0.6250\n",
            "Epoch 90/100\n",
            "8/8 [==============================] - 24s 3s/step - loss: 0.1051 - accuracy: 0.9583 - val_loss: 4.3078 - val_accuracy: 0.5391\n",
            "Epoch 91/100\n",
            "8/8 [==============================] - 21s 3s/step - loss: 0.2147 - accuracy: 0.9135 - val_loss: 2.0467 - val_accuracy: 0.6602\n",
            "Epoch 92/100\n",
            "8/8 [==============================] - 21s 3s/step - loss: 0.1731 - accuracy: 0.9335 - val_loss: 2.4394 - val_accuracy: 0.6094\n",
            "Epoch 93/100\n",
            "8/8 [==============================] - 21s 3s/step - loss: 0.1145 - accuracy: 0.9645 - val_loss: 2.7464 - val_accuracy: 0.6133\n",
            "Epoch 94/100\n",
            "8/8 [==============================] - 21s 3s/step - loss: 0.1558 - accuracy: 0.9273 - val_loss: 3.2492 - val_accuracy: 0.5742\n",
            "Epoch 95/100\n",
            "8/8 [==============================] - 21s 3s/step - loss: 0.1426 - accuracy: 0.9460 - val_loss: 4.2592 - val_accuracy: 0.5352\n",
            "Epoch 96/100\n",
            "8/8 [==============================] - 21s 3s/step - loss: 0.1374 - accuracy: 0.9486 - val_loss: 2.7238 - val_accuracy: 0.6211\n",
            "Epoch 97/100\n",
            "8/8 [==============================] - 21s 3s/step - loss: 0.1993 - accuracy: 0.9265 - val_loss: 2.1635 - val_accuracy: 0.6484\n",
            "Epoch 98/100\n",
            "8/8 [==============================] - 21s 3s/step - loss: 0.1205 - accuracy: 0.9583 - val_loss: 5.1280 - val_accuracy: 0.5078\n",
            "Epoch 99/100\n",
            "8/8 [==============================] - 21s 3s/step - loss: 0.2277 - accuracy: 0.8964 - val_loss: 2.5336 - val_accuracy: 0.6289\n",
            "Epoch 100/100\n",
            "8/8 [==============================] - 21s 3s/step - loss: 0.1095 - accuracy: 0.9605 - val_loss: 2.6273 - val_accuracy: 0.6211\n"
          ],
          "name": "stdout"
        }
      ]
    },
    {
      "cell_type": "markdown",
      "metadata": {
        "id": "EOsnG3ywxcpD"
      },
      "source": [
        "<h2>画图</h2>"
      ]
    },
    {
      "cell_type": "code",
      "metadata": {
        "id": "7zNPRWOVJdOH",
        "colab": {
          "base_uri": "https://localhost:8080/",
          "height": 545
        },
        "outputId": "ff711005-6de3-413e-f419-23f39f714b87"
      },
      "source": [
        "acc = history.history['accuracy']\n",
        "val_acc = history.history['val_accuracy']\n",
        "loss = history.history['loss']\n",
        "val_loss = history.history['val_loss']\n",
        "\n",
        "epochs = range(len(acc))\n",
        "\n",
        "plt.plot(epochs, acc, 'r', label='Training accuracy')\n",
        "plt.plot(epochs, val_acc, 'b', label='Validation accuracy')\n",
        "plt.title('Training and validation accuracy')\n",
        "\n",
        "plt.figure()\n",
        "\n",
        "plt.plot(epochs, loss, 'r', label='Training Loss')\n",
        "plt.plot(epochs, val_loss, 'b', label='Validation Loss')\n",
        "plt.title('Training and validation loss')\n",
        "plt.legend()\n",
        "\n",
        "plt.show()"
      ],
      "execution_count": 10,
      "outputs": [
        {
          "output_type": "display_data",
          "data": {
            "image/png": "[encoded data removed]",
            "text/plain": [
              "<Figure size 432x288 with 1 Axes>"
            ]
          },
          "metadata": {
            "tags": [],
            "needs_background": "light"
          }
        },
        {
          "output_type": "display_data",
          "data": {
            "image/png": "[encoded data removed]",
            "text/plain": [
              "<Figure size 432x288 with 1 Axes>"
            ]
          },
          "metadata": {
            "tags": [],
            "needs_background": "light"
          }
        }
      ]
    },
    {
      "cell_type": "code",
      "metadata": {
        "id": "8jVAIjP4x1yS"
      },
      "source": [
        ""
      ],
      "execution_count": null,
      "outputs": []
    }
  ]
}