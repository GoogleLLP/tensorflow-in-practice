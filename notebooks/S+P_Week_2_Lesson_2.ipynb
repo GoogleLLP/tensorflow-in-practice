{
 "cells": [
  {
   "cell_type": "code",
   "execution_count": null,
   "metadata": {
    "id": "zX4Kg8DUTKWO"
   },
   "outputs": [],
   "source": [
    "#@title Licensed under the Apache License, Version 2.0 (the \"License\");\n",
    "# you may not use this file except in compliance with the License.\n",
    "# You may obtain a copy of the License at\n",
    "#\n",
    "# https://www.apache.org/licenses/LICENSE-2.0\n",
    "#\n",
    "# Unless required by applicable law or agreed to in writing, software\n",
    "# distributed under the License is distributed on an \"AS IS\" BASIS,\n",
    "# WITHOUT WARRANTIES OR CONDITIONS OF ANY KIND, either express or implied.\n",
    "# See the License for the specific language governing permissions and\n",
    "# limitations under the License."
   ]
  },
  {
   "cell_type": "markdown",
   "metadata": {
    "id": "view-in-github"
   },
   "source": [
    "<a href=\"https://colab.research.google.com/github/lmoroney/dlaicourse/blob/master/TensorFlow%20In%20Practice/Course%204%20-%20S%2BP/S%2BP%20Week%202%20Lesson%202.ipynb\" target=\"_parent\"><img src=\"https://colab.research.google.com/assets/colab-badge.svg\" alt=\"Open In Colab\"/></a>"
   ]
  },
  {
   "cell_type": "code",
   "execution_count": 1,
   "metadata": {
    "ExecuteTime": {
     "end_time": "2021-01-27T13:26:34.750098Z",
     "start_time": "2021-01-27T13:26:34.746128Z"
    },
    "id": "-pwam8szRReT"
   },
   "outputs": [],
   "source": [
    "try:\n",
    "  # %tensorflow_version only exists in Colab.\n",
    "  %tensorflow_version 2.x\n",
    "except Exception:\n",
    "  pass"
   ]
  },
  {
   "cell_type": "code",
   "execution_count": 2,
   "metadata": {
    "ExecuteTime": {
     "end_time": "2021-01-27T13:26:49.603646Z",
     "start_time": "2021-01-27T13:26:47.504617Z"
    },
    "id": "BOjujz601HcS"
   },
   "outputs": [
    {
     "name": "stdout",
     "output_type": "stream",
     "text": [
      "2.3.0\n"
     ]
    }
   ],
   "source": [
    "import tensorflow as tf\n",
    "import numpy as np\n",
    "import matplotlib.pyplot as plt\n",
    "print(tf.__version__)"
   ]
  },
  {
   "cell_type": "code",
   "execution_count": 3,
   "metadata": {
    "ExecuteTime": {
     "end_time": "2021-01-27T13:27:34.880313Z",
     "start_time": "2021-01-27T13:27:34.866316Z"
    },
    "id": "Zswl7jRtGzkk"
   },
   "outputs": [],
   "source": [
    "def plot_series(time, series, format=\"-\", start=0, end=None):\n",
    "    plt.plot(time[start:end], series[start:end], format)\n",
    "    plt.xlabel(\"Time\")\n",
    "    plt.ylabel(\"Value\")\n",
    "    plt.grid(True)\n",
    "\n",
    "def trend(time, slope=0):\n",
    "    return slope * time\n",
    "\n",
    "def seasonal_pattern(season_time):\n",
    "    \"\"\"Just an arbitrary pattern, you can change it if you wish\"\"\"\n",
    "    return np.where(season_time < 0.4,\n",
    "                    np.cos(season_time * 2 * np.pi),\n",
    "                    1 / np.exp(3 * season_time))\n",
    "\n",
    "def seasonality(time, period, amplitude=1, phase=0):\n",
    "    \"\"\"Repeats the same pattern at each period\"\"\"\n",
    "    season_time = ((time + phase) % period) / period\n",
    "    return amplitude * seasonal_pattern(season_time)\n",
    "\n",
    "def noise(time, noise_level=1, seed=None):\n",
    "    rnd = np.random.RandomState(seed)\n",
    "    return rnd.randn(len(time)) * noise_level\n",
    "\n",
    "time = np.arange(4 * 365 + 1, dtype=\"float32\")\n",
    "baseline = 10\n",
    "series = trend(time, 0.1)  \n",
    "baseline = 10\n",
    "amplitude = 40\n",
    "slope = 0.05\n",
    "noise_level = 5\n",
    "\n",
    "# Create the series\n",
    "series = baseline + trend(time, slope) + seasonality(time, period=365, amplitude=amplitude)\n",
    "# Update with noise\n",
    "series += noise(time, noise_level, seed=42)\n",
    "\n",
    "split_time = 1000\n",
    "time_train = time[:split_time]\n",
    "x_train = series[:split_time]\n",
    "time_valid = time[split_time:]\n",
    "x_valid = series[split_time:]\n",
    "\n",
    "window_size = 20\n",
    "batch_size = 32\n",
    "shuffle_buffer_size = 1000"
   ]
  },
  {
   "cell_type": "code",
   "execution_count": 4,
   "metadata": {
    "ExecuteTime": {
     "end_time": "2021-01-27T13:30:28.852666Z",
     "start_time": "2021-01-27T13:30:28.847701Z"
    },
    "id": "4sTTIOCbyShY"
   },
   "outputs": [],
   "source": [
    "def windowed_dataset(series, window_size, batch_size, shuffle_buffer):\n",
    "  dataset = tf.data.Dataset.from_tensor_slices(series)\n",
    "  dataset = dataset.window(window_size + 1, shift=1, drop_remainder=True)\n",
    "  dataset = dataset.flat_map(lambda window: window.batch(window_size + 1))\n",
    "  dataset = dataset.shuffle(shuffle_buffer).map(lambda window: (window[:-1], window[-1]))\n",
    "  dataset = dataset.batch(batch_size).prefetch(1)\n",
    "  return dataset"
   ]
  },
  {
   "cell_type": "code",
   "execution_count": 6,
   "metadata": {
    "ExecuteTime": {
     "end_time": "2021-01-27T13:31:40.887067Z",
     "start_time": "2021-01-27T13:31:32.464006Z"
    },
    "id": "ou-WmE2AXu6B"
   },
   "outputs": [
    {
     "name": "stdout",
     "output_type": "stream",
     "text": [
      "<PrefetchDataset shapes: ((None, None), (None,)), types: (tf.float32, tf.float32)>\n",
      "Epoch 1/100\n",
      "31/31 [==============================] - 0s 2ms/step - loss: 3539.4670\n",
      "Epoch 2/100\n",
      "31/31 [==============================] - 0s 2ms/step - loss: 277.3392\n",
      "Epoch 3/100\n",
      "31/31 [==============================] - 0s 1ms/step - loss: 125.2991\n",
      "Epoch 4/100\n",
      "31/31 [==============================] - 0s 1ms/step - loss: 106.8586\n",
      "Epoch 5/100\n",
      "31/31 [==============================] - 0s 1ms/step - loss: 99.1572\n",
      "Epoch 6/100\n",
      "31/31 [==============================] - 0s 1ms/step - loss: 95.1115\n",
      "Epoch 7/100\n",
      "31/31 [==============================] - 0s 1ms/step - loss: 91.2408\n",
      "Epoch 8/100\n",
      "31/31 [==============================] - 0s 1ms/step - loss: 88.1144\n",
      "Epoch 9/100\n",
      "31/31 [==============================] - 0s 1ms/step - loss: 85.8364\n",
      "Epoch 10/100\n",
      "31/31 [==============================] - 0s 1ms/step - loss: 84.8619\n",
      "Epoch 11/100\n",
      "31/31 [==============================] - 0s 1ms/step - loss: 81.3249\n",
      "Epoch 12/100\n",
      "31/31 [==============================] - 0s 1ms/step - loss: 80.4227\n",
      "Epoch 13/100\n",
      "31/31 [==============================] - 0s 1ms/step - loss: 78.9391\n",
      "Epoch 14/100\n",
      "31/31 [==============================] - 0s 1ms/step - loss: 77.8711\n",
      "Epoch 15/100\n",
      "31/31 [==============================] - 0s 1ms/step - loss: 76.0583\n",
      "Epoch 16/100\n",
      "31/31 [==============================] - 0s 1ms/step - loss: 74.1311\n",
      "Epoch 17/100\n",
      "31/31 [==============================] - 0s 1ms/step - loss: 73.0750\n",
      "Epoch 18/100\n",
      "31/31 [==============================] - 0s 1ms/step - loss: 71.4937\n",
      "Epoch 19/100\n",
      "31/31 [==============================] - 0s 1ms/step - loss: 70.6303\n",
      "Epoch 20/100\n",
      "31/31 [==============================] - 0s 1ms/step - loss: 69.4702\n",
      "Epoch 21/100\n",
      "31/31 [==============================] - 0s 1ms/step - loss: 69.0137\n",
      "Epoch 22/100\n",
      "31/31 [==============================] - 0s 1ms/step - loss: 69.8812\n",
      "Epoch 23/100\n",
      "31/31 [==============================] - 0s 1ms/step - loss: 66.8989\n",
      "Epoch 24/100\n",
      "31/31 [==============================] - 0s 1ms/step - loss: 66.4897\n",
      "Epoch 25/100\n",
      "31/31 [==============================] - 0s 1ms/step - loss: 66.0457\n",
      "Epoch 26/100\n",
      "31/31 [==============================] - 0s 1ms/step - loss: 64.8674\n",
      "Epoch 27/100\n",
      "31/31 [==============================] - 0s 1ms/step - loss: 64.3527\n",
      "Epoch 28/100\n",
      "31/31 [==============================] - 0s 1ms/step - loss: 64.1394\n",
      "Epoch 29/100\n",
      "31/31 [==============================] - 0s 1ms/step - loss: 61.3317\n",
      "Epoch 30/100\n",
      "31/31 [==============================] - 0s 1ms/step - loss: 62.4022\n",
      "Epoch 31/100\n",
      "31/31 [==============================] - 0s 1ms/step - loss: 61.0485\n",
      "Epoch 32/100\n",
      "31/31 [==============================] - 0s 1ms/step - loss: 59.5324\n",
      "Epoch 33/100\n",
      "31/31 [==============================] - 0s 1ms/step - loss: 59.6099\n",
      "Epoch 34/100\n",
      "31/31 [==============================] - 0s 1ms/step - loss: 58.3761\n",
      "Epoch 35/100\n",
      "31/31 [==============================] - 0s 1ms/step - loss: 57.8602\n",
      "Epoch 36/100\n",
      "31/31 [==============================] - 0s 1ms/step - loss: 57.7125\n",
      "Epoch 37/100\n",
      "31/31 [==============================] - 0s 1ms/step - loss: 57.2722\n",
      "Epoch 38/100\n",
      "31/31 [==============================] - 0s 1ms/step - loss: 56.5607\n",
      "Epoch 39/100\n",
      "31/31 [==============================] - 0s 1ms/step - loss: 56.7345\n",
      "Epoch 40/100\n",
      "31/31 [==============================] - 0s 1ms/step - loss: 55.4545\n",
      "Epoch 41/100\n",
      "31/31 [==============================] - 0s 1ms/step - loss: 55.2957\n",
      "Epoch 42/100\n",
      "31/31 [==============================] - 0s 1ms/step - loss: 54.5420\n",
      "Epoch 43/100\n",
      "31/31 [==============================] - 0s 1ms/step - loss: 53.9372\n",
      "Epoch 44/100\n",
      "31/31 [==============================] - 0s 1ms/step - loss: 53.8618\n",
      "Epoch 45/100\n",
      "31/31 [==============================] - 0s 1ms/step - loss: 53.2735\n",
      "Epoch 46/100\n",
      "31/31 [==============================] - 0s 1ms/step - loss: 53.0903\n",
      "Epoch 47/100\n",
      "31/31 [==============================] - 0s 1ms/step - loss: 53.9372\n",
      "Epoch 48/100\n",
      "31/31 [==============================] - 0s 1ms/step - loss: 52.2525\n",
      "Epoch 49/100\n",
      "31/31 [==============================] - 0s 1ms/step - loss: 52.0019\n",
      "Epoch 50/100\n",
      "31/31 [==============================] - 0s 1ms/step - loss: 52.1156\n",
      "Epoch 51/100\n",
      "31/31 [==============================] - 0s 1ms/step - loss: 53.5272\n",
      "Epoch 52/100\n",
      "31/31 [==============================] - 0s 1ms/step - loss: 51.3440\n",
      "Epoch 53/100\n",
      "31/31 [==============================] - 0s 1ms/step - loss: 51.0806\n",
      "Epoch 54/100\n",
      "31/31 [==============================] - 0s 1ms/step - loss: 51.0463\n",
      "Epoch 55/100\n",
      "31/31 [==============================] - 0s 1ms/step - loss: 50.4448\n",
      "Epoch 56/100\n",
      "31/31 [==============================] - 0s 1ms/step - loss: 50.2418\n",
      "Epoch 57/100\n",
      "31/31 [==============================] - 0s 1ms/step - loss: 49.9611\n",
      "Epoch 58/100\n",
      "31/31 [==============================] - 0s 1ms/step - loss: 49.5967\n",
      "Epoch 59/100\n",
      "31/31 [==============================] - 0s 1ms/step - loss: 50.0192\n",
      "Epoch 60/100\n",
      "31/31 [==============================] - 0s 1ms/step - loss: 49.3656\n",
      "Epoch 61/100\n",
      "31/31 [==============================] - 0s 1ms/step - loss: 49.7262\n",
      "Epoch 62/100\n",
      "31/31 [==============================] - 0s 1ms/step - loss: 48.9284\n",
      "Epoch 63/100\n",
      "31/31 [==============================] - 0s 1ms/step - loss: 48.7039\n",
      "Epoch 64/100\n",
      "31/31 [==============================] - 0s 1ms/step - loss: 48.2048\n",
      "Epoch 65/100\n",
      "31/31 [==============================] - 0s 1ms/step - loss: 48.2089\n",
      "Epoch 66/100\n",
      "31/31 [==============================] - 0s 1ms/step - loss: 47.7327\n",
      "Epoch 67/100\n",
      "31/31 [==============================] - 0s 1ms/step - loss: 47.5740\n",
      "Epoch 68/100\n",
      "31/31 [==============================] - 0s 2ms/step - loss: 47.4589\n",
      "Epoch 69/100\n",
      "31/31 [==============================] - 0s 1ms/step - loss: 47.2194\n",
      "Epoch 70/100\n",
      "31/31 [==============================] - 0s 1ms/step - loss: 47.4317\n",
      "Epoch 71/100\n",
      "31/31 [==============================] - 0s 1ms/step - loss: 46.9078\n",
      "Epoch 72/100\n",
      "31/31 [==============================] - 0s 1ms/step - loss: 47.7168\n",
      "Epoch 73/100\n",
      "31/31 [==============================] - 0s 1ms/step - loss: 46.8898\n",
      "Epoch 74/100\n",
      "31/31 [==============================] - 0s 1ms/step - loss: 46.5514\n",
      "Epoch 75/100\n",
      "31/31 [==============================] - 0s 1ms/step - loss: 46.7937\n",
      "Epoch 76/100\n",
      "31/31 [==============================] - 0s 1ms/step - loss: 46.8062\n",
      "Epoch 77/100\n",
      "31/31 [==============================] - 0s 1ms/step - loss: 46.1914\n",
      "Epoch 78/100\n",
      "31/31 [==============================] - 0s 1ms/step - loss: 46.4353\n",
      "Epoch 79/100\n",
      "31/31 [==============================] - 0s 1ms/step - loss: 47.3346\n",
      "Epoch 80/100\n",
      "31/31 [==============================] - 0s 1ms/step - loss: 46.3343\n",
      "Epoch 81/100\n",
      "31/31 [==============================] - 0s 1ms/step - loss: 45.9384\n",
      "Epoch 82/100\n",
      "31/31 [==============================] - 0s 1ms/step - loss: 46.6870\n",
      "Epoch 83/100\n",
      "31/31 [==============================] - 0s 1ms/step - loss: 46.0143\n",
      "Epoch 84/100\n",
      "31/31 [==============================] - 0s 1ms/step - loss: 45.9544\n",
      "Epoch 85/100\n",
      "31/31 [==============================] - 0s 1ms/step - loss: 45.4278\n",
      "Epoch 86/100\n",
      "31/31 [==============================] - 0s 1ms/step - loss: 45.6307\n",
      "Epoch 87/100\n",
      "31/31 [==============================] - 0s 1ms/step - loss: 45.3933\n",
      "Epoch 88/100\n",
      "31/31 [==============================] - 0s 1ms/step - loss: 46.6350\n",
      "Epoch 89/100\n",
      "31/31 [==============================] - 0s 1ms/step - loss: 45.1243\n",
      "Epoch 90/100\n",
      "31/31 [==============================] - 0s 1ms/step - loss: 45.0621\n",
      "Epoch 91/100\n",
      "31/31 [==============================] - 0s 1ms/step - loss: 45.1980\n",
      "Epoch 92/100\n",
      "31/31 [==============================] - 0s 1ms/step - loss: 44.9279\n",
      "Epoch 93/100\n",
      "31/31 [==============================] - 0s 2ms/step - loss: 45.0194\n",
      "Epoch 94/100\n",
      "31/31 [==============================] - 0s 1ms/step - loss: 44.7219\n",
      "Epoch 95/100\n",
      "31/31 [==============================] - 0s 1ms/step - loss: 44.7437\n",
      "Epoch 96/100\n",
      "31/31 [==============================] - 0s 1ms/step - loss: 44.9690\n",
      "Epoch 97/100\n",
      "31/31 [==============================] - 0s 1ms/step - loss: 44.4515\n",
      "Epoch 98/100\n",
      "31/31 [==============================] - 0s 2ms/step - loss: 44.7814\n",
      "Epoch 99/100\n",
      "31/31 [==============================] - 0s 1ms/step - loss: 44.7532\n"
     ]
    },
    {
     "name": "stdout",
     "output_type": "stream",
     "text": [
      "Epoch 100/100\n",
      "31/31 [==============================] - 0s 1ms/step - loss: 44.2993\n",
      "Layer weights [array([[-0.05887285],\n",
      "       [ 0.0898928 ],\n",
      "       [-0.05557243],\n",
      "       [ 0.01307786],\n",
      "       [-0.04363004],\n",
      "       [ 0.04621381],\n",
      "       [-0.02113648],\n",
      "       [ 0.09218229],\n",
      "       [-0.12998585],\n",
      "       [ 0.12196625],\n",
      "       [-0.03190669],\n",
      "       [-0.01369924],\n",
      "       [-0.0974981 ],\n",
      "       [ 0.08214191],\n",
      "       [ 0.00735198],\n",
      "       [ 0.04048262],\n",
      "       [ 0.08467568],\n",
      "       [ 0.17667672],\n",
      "       [ 0.26462236],\n",
      "       [ 0.41920954]], dtype=float32), array([0.0186738], dtype=float32)]\n"
     ]
    }
   ],
   "source": [
    "dataset = windowed_dataset(x_train, window_size, batch_size, shuffle_buffer_size)\n",
    "print(dataset)\n",
    "l0 = tf.keras.layers.Dense(1, input_shape=[window_size])\n",
    "model = tf.keras.models.Sequential([l0])\n",
    "\n",
    "\n",
    "model.compile(loss=\"mse\", optimizer=tf.keras.optimizers.SGD(lr=1e-6, momentum=0.9))\n",
    "model.fit(dataset, epochs=100, workers=-1, use_multiprocessing=True)\n",
    "\n",
    "print(\"Layer weights {}\".format(l0.get_weights()))\n"
   ]
  },
  {
   "cell_type": "code",
   "execution_count": 7,
   "metadata": {
    "ExecuteTime": {
     "end_time": "2021-01-27T13:36:26.340429Z",
     "start_time": "2021-01-27T13:35:54.086438Z"
    },
    "id": "-gtVJuLVxR-M"
   },
   "outputs": [
    {
     "data": {
      "image/png": "[encoded data removed]",
      "text/plain": [
       "<Figure size 720x432 with 1 Axes>"
      ]
     },
     "metadata": {
      "needs_background": "light"
     },
     "output_type": "display_data"
    }
   ],
   "source": [
    "forecast = []\n",
    "\n",
    "for time in range(len(series) - window_size):\n",
    "  forecast.append(model.predict(series[time:time + window_size][np.newaxis]))\n",
    "\n",
    "forecast = forecast[split_time-window_size:]\n",
    "results = np.array(forecast)[:, 0, 0]\n",
    "\n",
    "\n",
    "plt.figure(figsize=(10, 6))\n",
    "\n",
    "plot_series(time_valid, x_valid)\n",
    "plot_series(time_valid, results)"
   ]
  },
  {
   "cell_type": "code",
   "execution_count": 8,
   "metadata": {
    "ExecuteTime": {
     "end_time": "2021-01-27T13:36:39.812182Z",
     "start_time": "2021-01-27T13:36:39.806180Z"
    },
    "id": "hR2BO0Dai_ZT"
   },
   "outputs": [
    {
     "data": {
      "text/plain": [
       "5.1582947"
      ]
     },
     "execution_count": 8,
     "metadata": {},
     "output_type": "execute_result"
    }
   ],
   "source": [
    "tf.keras.metrics.mean_absolute_error(x_valid, results).numpy()"
   ]
  },
  {
   "cell_type": "code",
   "execution_count": null,
   "metadata": {},
   "outputs": [],
   "source": []
  }
 ],
 "metadata": {
  "colab": {
   "name": "S+P Week 2 Lesson 2.ipynb",
   "provenance": [],
   "toc_visible": true
  },
  "kernelspec": {
   "display_name": "Python 3",
   "language": "python",
   "name": "python3"
  },
  "language_info": {
   "codemirror_mode": {
    "name": "ipython",
    "version": 3
   },
   "file_extension": ".py",
   "mimetype": "text/x-python",
   "name": "python",
   "nbconvert_exporter": "python",
   "pygments_lexer": "ipython3",
   "version": "3.7.3"
  },
  "toc": {
   "base_numbering": 1,
   "nav_menu": {},
   "number_sections": true,
   "sideBar": true,
   "skip_h1_title": false,
   "title_cell": "Table of Contents",
   "title_sidebar": "Contents",
   "toc_cell": false,
   "toc_position": {},
   "toc_section_display": true,
   "toc_window_display": true
  },
  "varInspector": {
   "cols": {
    "lenName": 16,
    "lenType": 16,
    "lenVar": 40
   },
   "kernels_config": {
    "python": {
     "delete_cmd_postfix": "",
     "delete_cmd_prefix": "del ",
     "library": "var_list.py",
     "varRefreshCmd": "print(var_dic_list())"
    },
    "r": {
     "delete_cmd_postfix": ") ",
     "delete_cmd_prefix": "rm(",
     "library": "var_list.r",
     "varRefreshCmd": "cat(var_dic_list()) "
    }
   },
   "types_to_exclude": [
    "module",
    "function",
    "builtin_function_or_method",
    "instance",
    "_Feature"
   ],
   "window_display": false
  }
 },
 "nbformat": 4,
 "nbformat_minor": 1
}
