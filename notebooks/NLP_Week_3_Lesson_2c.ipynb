{
 "cells": [
  {
   "cell_type": "code",
   "execution_count": 1,
   "metadata": {
    "id": "zX4Kg8DUTKWO"
   },
   "outputs": [],
   "source": [
    "#@title Licensed under the Apache License, Version 2.0 (the \"License\");\n",
    "# you may not use this file except in compliance with the License.\n",
    "# You may obtain a copy of the License at\n",
    "#\n",
    "# https://www.apache.org/licenses/LICENSE-2.0\n",
    "#\n",
    "# Unless required by applicable law or agreed to in writing, software\n",
    "# distributed under the License is distributed on an \"AS IS\" BASIS,\n",
    "# WITHOUT WARRANTIES OR CONDITIONS OF ANY KIND, either express or implied.\n",
    "# See the License for the specific language governing permissions and\n",
    "# limitations under the License."
   ]
  },
  {
   "cell_type": "markdown",
   "metadata": {
    "id": "Bt2bXdiBwEbn"
   },
   "source": [
    "<a href=\"https://colab.research.google.com/github/lmoroney/dlaicourse/blob/master/TensorFlow%20In%20Practice/Course%203%20-%20NLP/Course%203%20-%20Week%203%20-%20Lesson%202c.ipynb\" target=\"_parent\"><img src=\"https://colab.research.google.com/assets/colab-badge.svg\" alt=\"Open In Colab\"/></a>"
   ]
  },
  {
   "cell_type": "code",
   "execution_count": 2,
   "metadata": {
    "colab": {
     "base_uri": "https://localhost:8080/"
    },
    "id": "abgpqfqSuHq6",
    "outputId": "e3a5ab3d-ee7d-4ca6-ed73-bebb3a0cc4d4"
   },
   "outputs": [
    {
     "name": "stdout",
     "output_type": "stream",
     "text": [
      "--2021-02-13 04:49:55--  https://storage.googleapis.com/laurencemoroney-blog.appspot.com/sarcasm.json\n",
      "Resolving storage.googleapis.com (storage.googleapis.com)... 172.217.13.80, 172.217.13.240, 172.217.2.112, ...\n",
      "Connecting to storage.googleapis.com (storage.googleapis.com)|172.217.13.80|:443... connected.\n",
      "HTTP request sent, awaiting response... 200 OK\n",
      "Length: 5643545 (5.4M) [application/json]\n",
      "Saving to: ‘../data/sarcasm/sarcasm.json’\n",
      "\n",
      "\r",
      "          ../data/s   0%[                    ]       0  --.-KB/s               \r",
      "../data/sarcasm/sar 100%[===================>]   5.38M  --.-KB/s    in 0.05s   \n",
      "\n",
      "2021-02-13 04:49:55 (108 MB/s) - ‘../data/sarcasm/sarcasm.json’ saved [5643545/5643545]\n",
      "\n"
     ]
    }
   ],
   "source": [
    "!mkdir -p ../data/sarcasm\n",
    "!wget --no-check-certificate https://storage.googleapis.com/laurencemoroney-blog.appspot.com/sarcasm.json -O ../data/sarcasm/sarcasm.json"
   ]
  },
  {
   "cell_type": "code",
   "execution_count": 4,
   "metadata": {
    "colab": {
     "base_uri": "https://localhost:8080/"
    },
    "id": "Bk9GLS-ouHq6",
    "outputId": "26b0885e-b5df-457f-b4a1-9f724b332a87"
   },
   "outputs": [
    {
     "name": "stdout",
     "output_type": "stream",
     "text": [
      "Model: \"sarcasm_classifier\"\n",
      "_________________________________________________________________\n",
      "Layer (type)                 Output Shape              Param #   \n",
      "=================================================================\n",
      "embedding_1 (Embedding)      (None, 120, 16)           16000     \n",
      "_________________________________________________________________\n",
      "conv1d_2 (Conv1D)            (None, 116, 128)          10368     \n",
      "_________________________________________________________________\n",
      "avg_2 (GlobalMaxPooling1D)   (None, 128)               0         \n",
      "_________________________________________________________________\n",
      "dense_3 (Dense)              (None, 24)                3096      \n",
      "_________________________________________________________________\n",
      "dense_4 (Dense)              (None, 1)                 25        \n",
      "=================================================================\n",
      "Total params: 29,489\n",
      "Trainable params: 29,489\n",
      "Non-trainable params: 0\n",
      "_________________________________________________________________\n",
      "Epoch 1/50\n",
      "625/625 [==============================] - 10s 4ms/step - loss: 0.5561 - accuracy: 0.6829 - val_loss: 0.4099 - val_accuracy: 0.8098\n",
      "Epoch 2/50\n",
      "625/625 [==============================] - 3s 4ms/step - loss: 0.3554 - accuracy: 0.8427 - val_loss: 0.3919 - val_accuracy: 0.8258\n",
      "Epoch 3/50\n",
      "625/625 [==============================] - 2s 4ms/step - loss: 0.3138 - accuracy: 0.8641 - val_loss: 0.3896 - val_accuracy: 0.8289\n",
      "Epoch 4/50\n",
      "625/625 [==============================] - 2s 4ms/step - loss: 0.2737 - accuracy: 0.8816 - val_loss: 0.3942 - val_accuracy: 0.8281\n",
      "Epoch 5/50\n",
      "625/625 [==============================] - 2s 4ms/step - loss: 0.2334 - accuracy: 0.9015 - val_loss: 0.4189 - val_accuracy: 0.8174\n",
      "Epoch 6/50\n",
      "625/625 [==============================] - 3s 4ms/step - loss: 0.2059 - accuracy: 0.9179 - val_loss: 0.4591 - val_accuracy: 0.8226\n",
      "Epoch 7/50\n",
      "625/625 [==============================] - 2s 4ms/step - loss: 0.1692 - accuracy: 0.9377 - val_loss: 0.5169 - val_accuracy: 0.8190\n",
      "Epoch 8/50\n",
      "625/625 [==============================] - 2s 4ms/step - loss: 0.1413 - accuracy: 0.9498 - val_loss: 0.5764 - val_accuracy: 0.8070\n",
      "Epoch 9/50\n",
      "625/625 [==============================] - 2s 4ms/step - loss: 0.1168 - accuracy: 0.9591 - val_loss: 0.6399 - val_accuracy: 0.8027\n",
      "Epoch 10/50\n",
      "625/625 [==============================] - 2s 4ms/step - loss: 0.0907 - accuracy: 0.9686 - val_loss: 0.7030 - val_accuracy: 0.8038\n",
      "Epoch 11/50\n",
      "625/625 [==============================] - 2s 4ms/step - loss: 0.0755 - accuracy: 0.9739 - val_loss: 0.8134 - val_accuracy: 0.8021\n",
      "Epoch 12/50\n",
      "625/625 [==============================] - 3s 4ms/step - loss: 0.0640 - accuracy: 0.9784 - val_loss: 0.8752 - val_accuracy: 0.7945\n",
      "Epoch 13/50\n",
      "625/625 [==============================] - 2s 4ms/step - loss: 0.0581 - accuracy: 0.9789 - val_loss: 0.9562 - val_accuracy: 0.7949\n",
      "Epoch 14/50\n",
      "625/625 [==============================] - 3s 4ms/step - loss: 0.0460 - accuracy: 0.9847 - val_loss: 1.0639 - val_accuracy: 0.7945\n",
      "Epoch 15/50\n",
      "625/625 [==============================] - 3s 4ms/step - loss: 0.0397 - accuracy: 0.9860 - val_loss: 1.1302 - val_accuracy: 0.8007\n",
      "Epoch 16/50\n",
      "625/625 [==============================] - 2s 4ms/step - loss: 0.0403 - accuracy: 0.9856 - val_loss: 1.1902 - val_accuracy: 0.7952\n",
      "Epoch 17/50\n",
      "625/625 [==============================] - 2s 4ms/step - loss: 0.0345 - accuracy: 0.9882 - val_loss: 1.2062 - val_accuracy: 0.7971\n",
      "Epoch 18/50\n",
      "625/625 [==============================] - 2s 4ms/step - loss: 0.0356 - accuracy: 0.9857 - val_loss: 1.3329 - val_accuracy: 0.7953\n",
      "Epoch 19/50\n",
      "625/625 [==============================] - 3s 4ms/step - loss: 0.0321 - accuracy: 0.9872 - val_loss: 1.3715 - val_accuracy: 0.7967\n",
      "Epoch 20/50\n",
      "625/625 [==============================] - 3s 4ms/step - loss: 0.0278 - accuracy: 0.9886 - val_loss: 1.5377 - val_accuracy: 0.7880\n",
      "Epoch 21/50\n",
      "625/625 [==============================] - 2s 4ms/step - loss: 0.0344 - accuracy: 0.9860 - val_loss: 1.5063 - val_accuracy: 0.7948\n",
      "Epoch 22/50\n",
      "625/625 [==============================] - 3s 4ms/step - loss: 0.0342 - accuracy: 0.9861 - val_loss: 1.5483 - val_accuracy: 0.7916\n",
      "Epoch 23/50\n",
      "625/625 [==============================] - 2s 4ms/step - loss: 0.0331 - accuracy: 0.9857 - val_loss: 1.6790 - val_accuracy: 0.7928\n",
      "Epoch 24/50\n",
      "625/625 [==============================] - 3s 4ms/step - loss: 0.0291 - accuracy: 0.9879 - val_loss: 1.6710 - val_accuracy: 0.7882\n",
      "Epoch 25/50\n",
      "625/625 [==============================] - 2s 4ms/step - loss: 0.0252 - accuracy: 0.9895 - val_loss: 1.6752 - val_accuracy: 0.7939\n",
      "Epoch 26/50\n",
      "625/625 [==============================] - 3s 4ms/step - loss: 0.0247 - accuracy: 0.9893 - val_loss: 1.7622 - val_accuracy: 0.7910\n",
      "Epoch 27/50\n",
      "625/625 [==============================] - 2s 4ms/step - loss: 0.0261 - accuracy: 0.9891 - val_loss: 1.7481 - val_accuracy: 0.7882\n",
      "Epoch 28/50\n",
      "625/625 [==============================] - 2s 4ms/step - loss: 0.0283 - accuracy: 0.9872 - val_loss: 1.8883 - val_accuracy: 0.7921\n",
      "Epoch 29/50\n",
      "625/625 [==============================] - 3s 4ms/step - loss: 0.0230 - accuracy: 0.9907 - val_loss: 1.8236 - val_accuracy: 0.7891\n",
      "Epoch 30/50\n",
      "625/625 [==============================] - 3s 4ms/step - loss: 0.0246 - accuracy: 0.9915 - val_loss: 1.8382 - val_accuracy: 0.7952\n",
      "Epoch 31/50\n",
      "625/625 [==============================] - 2s 4ms/step - loss: 0.0220 - accuracy: 0.9912 - val_loss: 2.0539 - val_accuracy: 0.7988\n",
      "Epoch 32/50\n",
      "625/625 [==============================] - 3s 4ms/step - loss: 0.0189 - accuracy: 0.9921 - val_loss: 2.0362 - val_accuracy: 0.7921\n",
      "Epoch 33/50\n",
      "625/625 [==============================] - 2s 4ms/step - loss: 0.0231 - accuracy: 0.9884 - val_loss: 2.0913 - val_accuracy: 0.7922\n",
      "Epoch 34/50\n",
      "625/625 [==============================] - 2s 4ms/step - loss: 0.0318 - accuracy: 0.9870 - val_loss: 2.0979 - val_accuracy: 0.7964\n",
      "Epoch 35/50\n",
      "625/625 [==============================] - 3s 4ms/step - loss: 0.0220 - accuracy: 0.9905 - val_loss: 2.1095 - val_accuracy: 0.7882\n",
      "Epoch 36/50\n",
      "625/625 [==============================] - 3s 4ms/step - loss: 0.0210 - accuracy: 0.9903 - val_loss: 2.2034 - val_accuracy: 0.7951\n",
      "Epoch 37/50\n",
      "625/625 [==============================] - 2s 4ms/step - loss: 0.0189 - accuracy: 0.9920 - val_loss: 2.1706 - val_accuracy: 0.7913\n",
      "Epoch 38/50\n",
      "625/625 [==============================] - 3s 4ms/step - loss: 0.0285 - accuracy: 0.9890 - val_loss: 2.0566 - val_accuracy: 0.7956\n",
      "Epoch 39/50\n",
      "625/625 [==============================] - 3s 4ms/step - loss: 0.0192 - accuracy: 0.9917 - val_loss: 2.1337 - val_accuracy: 0.7927\n",
      "Epoch 40/50\n",
      "625/625 [==============================] - 3s 4ms/step - loss: 0.0166 - accuracy: 0.9931 - val_loss: 2.2387 - val_accuracy: 0.7885\n",
      "Epoch 41/50\n",
      "625/625 [==============================] - 3s 4ms/step - loss: 0.0167 - accuracy: 0.9922 - val_loss: 2.2561 - val_accuracy: 0.7894\n",
      "Epoch 42/50\n",
      "625/625 [==============================] - 3s 4ms/step - loss: 0.0156 - accuracy: 0.9931 - val_loss: 2.2872 - val_accuracy: 0.7945\n",
      "Epoch 43/50\n",
      "625/625 [==============================] - 3s 4ms/step - loss: 0.0246 - accuracy: 0.9898 - val_loss: 2.2185 - val_accuracy: 0.7937\n",
      "Epoch 44/50\n",
      "625/625 [==============================] - 3s 4ms/step - loss: 0.0224 - accuracy: 0.9908 - val_loss: 2.1478 - val_accuracy: 0.7970\n",
      "Epoch 45/50\n",
      "625/625 [==============================] - 3s 4ms/step - loss: 0.0213 - accuracy: 0.9915 - val_loss: 2.2185 - val_accuracy: 0.7965\n",
      "Epoch 46/50\n",
      "625/625 [==============================] - 3s 4ms/step - loss: 0.0159 - accuracy: 0.9927 - val_loss: 2.2401 - val_accuracy: 0.7934\n",
      "Epoch 47/50\n",
      "625/625 [==============================] - 2s 4ms/step - loss: 0.0146 - accuracy: 0.9935 - val_loss: 2.3508 - val_accuracy: 0.7934\n",
      "Epoch 48/50\n",
      "625/625 [==============================] - 2s 4ms/step - loss: 0.0166 - accuracy: 0.9925 - val_loss: 2.3105 - val_accuracy: 0.7951\n",
      "Epoch 49/50\n",
      "625/625 [==============================] - 3s 4ms/step - loss: 0.0213 - accuracy: 0.9916 - val_loss: 2.3379 - val_accuracy: 0.7945\n",
      "Epoch 50/50\n",
      "625/625 [==============================] - 3s 4ms/step - loss: 0.0235 - accuracy: 0.9897 - val_loss: 2.3385 - val_accuracy: 0.7892\n"
     ]
    }
   ],
   "source": [
    "import json\n",
    "import matplotlib.pyplot as plt\n",
    "import numpy as np\n",
    "import tensorflow as tf\n",
    "from tensorflow.keras.layers import Dense, Embedding, Flatten, Bidirectional, LSTM, Conv1D, GlobalMaxPooling1D\n",
    "from tensorflow.keras.models import Sequential\n",
    "from tensorflow.keras.preprocessing.text import Tokenizer\n",
    "from tensorflow.keras.preprocessing.sequence import pad_sequences\n",
    "from tensorflow.keras.callbacks import History\n",
    "from tensorflow.keras.backend import clear_session\n",
    "from tensorflow.compat.v1 import reset_default_graph\n",
    "\n",
    "clear_session()\n",
    "reset_default_graph()\n",
    "# 设置显存自动增长\n",
    "physical_devices = tf.config.list_physical_devices('GPU')\n",
    "for physical_device in physical_devices:\n",
    "    tf.config.experimental.set_memory_growth(physical_device, enable=True)\n",
    "\n",
    "\n",
    "vocab_size = 1000\n",
    "embedding_dim = 16\n",
    "max_length = 120\n",
    "trunc_type='post'\n",
    "padding_type='post'\n",
    "oov_tok = \"<OOV>\"\n",
    "training_size = 20000\n",
    "\n",
    "\n",
    "with open(\"../data/sarcasm/sarcasm.json\", 'r') as f:\n",
    "    datastore = json.load(f)\n",
    "\n",
    "\n",
    "sentences = []\n",
    "labels = []\n",
    "urls = []\n",
    "for item in datastore:\n",
    "    sentences.append(item['headline'])\n",
    "    labels.append(item['is_sarcastic'])\n",
    "\n",
    "training_sentences: [str] = sentences[0:training_size]\n",
    "testing_sentences: [str] = sentences[training_size:]\n",
    "training_labels: [int] = labels[0:training_size]\n",
    "testing_labels: [int] = labels[training_size:]\n",
    "\n",
    "tokenizer = Tokenizer(num_words=vocab_size, oov_token=oov_tok)\n",
    "tokenizer.fit_on_texts(training_sentences)\n",
    "word_index: dict = tokenizer.word_index\n",
    "\n",
    "training_sequences: [[int]] = tokenizer.texts_to_sequences(training_sentences)\n",
    "training_padded: np.ndarray = pad_sequences(\n",
    "    training_sequences, \n",
    "    maxlen=max_length, \n",
    "    padding=padding_type, \n",
    "    truncating=trunc_type\n",
    ")\n",
    "\n",
    "testing_sequences: [[int]] = tokenizer.texts_to_sequences(testing_sentences)\n",
    "testing_padded: np.ndarray = pad_sequences(\n",
    "    testing_sequences, \n",
    "    maxlen=max_length, \n",
    "    padding=padding_type, \n",
    "    truncating=trunc_type\n",
    ")\n",
    "\n",
    "model = Sequential([\n",
    "    Embedding(input_dim=vocab_size, output_dim=embedding_dim, name=\"embedding_1\", input_length=max_length),\n",
    "    Conv1D(filters=128, kernel_size=5, activation='relu', name=\"conv1d_2\"),\n",
    "    GlobalMaxPooling1D(name=\"avg_2\"),\n",
    "    Dense(units=24, activation='relu', name=\"dense_3\"),\n",
    "    Dense(units=1, activation='sigmoid', name=\"dense_4\")\n",
    "], name=\"sarcasm_classifier\")\n",
    "model.compile(\n",
    "    loss='binary_crossentropy',\n",
    "    optimizer='adam',\n",
    "    metrics=['accuracy']\n",
    ")\n",
    "model.summary()\n",
    "\n",
    "num_epochs = 50\n",
    "training_padded = np.array(training_padded)\n",
    "training_labels = np.array(training_labels)\n",
    "testing_padded = np.array(testing_padded)\n",
    "testing_labels = np.array(testing_labels)\n",
    "history: History = model.fit(\n",
    "    x=training_padded, \n",
    "    y=training_labels, \n",
    "    validation_data=(testing_padded, testing_labels), \n",
    "    epochs=num_epochs, \n",
    "    verbose=1,\n",
    "    workers=-1,\n",
    "    use_multiprocessing=True\n",
    ")"
   ]
  },
  {
   "cell_type": "code",
   "execution_count": 5,
   "metadata": {
    "colab": {
     "base_uri": "https://localhost:8080/",
     "height": 542
    },
    "id": "g9DC6dmLF8DC",
    "outputId": "4fe96a30-f649-413b-83ea-e344048a437a"
   },
   "outputs": [
    {
     "data": {
      "image/png": "[encoded data removed]",
      "text/plain": [
       "<Figure size 432x288 with 1 Axes>"
      ]
     },
     "metadata": {
      "needs_background": "light",
      "tags": []
     },
     "output_type": "display_data"
    },
    {
     "data": {
      "image/png": "[encoded data removed]",
      "text/plain": [
       "<Figure size 432x288 with 1 Axes>"
      ]
     },
     "metadata": {
      "needs_background": "light",
      "tags": []
     },
     "output_type": "display_data"
    }
   ],
   "source": [
    "def plot_graphs(history, string):\n",
    "    plt.plot(history.history[string])\n",
    "    plt.plot(history.history['val_'+string])\n",
    "    plt.xlabel(\"Epochs\")\n",
    "    plt.ylabel(string)\n",
    "    plt.legend([string, 'val_'+string])\n",
    "    plt.show()\n",
    "\n",
    "plot_graphs(history, 'accuracy')\n",
    "plot_graphs(history, 'loss')"
   ]
  },
  {
   "cell_type": "code",
   "execution_count": 6,
   "metadata": {
    "id": "7ZEZIUppGhdi"
   },
   "outputs": [],
   "source": [
    "model.save(\"../models/test.h5\")"
   ]
  },
  {
   "cell_type": "code",
   "execution_count": null,
   "metadata": {
    "id": "JUxZWH1KucZm"
   },
   "outputs": [],
   "source": []
  }
 ],
 "metadata": {
  "accelerator": "GPU",
  "colab": {
   "collapsed_sections": [],
   "name": "NLP_Week_3_Lesson_2c.ipynb",
   "provenance": [],
   "toc_visible": true
  },
  "kernelspec": {
   "display_name": "Python 3",
   "language": "python",
   "name": "python3"
  },
  "language_info": {
   "codemirror_mode": {
    "name": "ipython",
    "version": 3
   },
   "file_extension": ".py",
   "mimetype": "text/x-python",
   "name": "python",
   "nbconvert_exporter": "python",
   "pygments_lexer": "ipython3",
   "version": "3.7.3"
  },
  "toc": {
   "base_numbering": 1,
   "nav_menu": {},
   "number_sections": true,
   "sideBar": true,
   "skip_h1_title": false,
   "title_cell": "Table of Contents",
   "title_sidebar": "Contents",
   "toc_cell": false,
   "toc_position": {},
   "toc_section_display": true,
   "toc_window_display": false
  },
  "varInspector": {
   "cols": {
    "lenName": 16,
    "lenType": 16,
    "lenVar": 40
   },
   "kernels_config": {
    "python": {
     "delete_cmd_postfix": "",
     "delete_cmd_prefix": "del ",
     "library": "var_list.py",
     "varRefreshCmd": "print(var_dic_list())"
    },
    "r": {
     "delete_cmd_postfix": ") ",
     "delete_cmd_prefix": "rm(",
     "library": "var_list.r",
     "varRefreshCmd": "cat(var_dic_list()) "
    }
   },
   "types_to_exclude": [
    "module",
    "function",
    "builtin_function_or_method",
    "instance",
    "_Feature"
   ],
   "window_display": false
  }
 },
 "nbformat": 4,
 "nbformat_minor": 1
}
