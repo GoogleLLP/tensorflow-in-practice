{
  "nbformat": 4,
  "nbformat_minor": 0,
  "metadata": {
    "accelerator": "GPU",
    "colab": {
      "name": "NLP_Week4_Exercise_Shakespeare_Question.ipynb",
      "provenance": [],
      "toc_visible": true
    },
    "kernelspec": {
      "display_name": "Python 3",
      "name": "python3"
    }
  },
  "cells": [
    {
      "cell_type": "code",
      "metadata": {
        "id": "zX4Kg8DUTKWO"
      },
      "source": [
        "#@title Licensed under the Apache License, Version 2.0 (the \"License\");\n",
        "# you may not use this file except in compliance with the License.\n",
        "# You may obtain a copy of the License at\n",
        "#\n",
        "# https://www.apache.org/licenses/LICENSE-2.0\n",
        "#\n",
        "# Unless required by applicable law or agreed to in writing, software\n",
        "# distributed under the License is distributed on an \"AS IS\" BASIS,\n",
        "# WITHOUT WARRANTIES OR CONDITIONS OF ANY KIND, either express or implied.\n",
        "# See the License for the specific language governing permissions and\n",
        "# limitations under the License."
      ],
      "execution_count": 11,
      "outputs": []
    },
    {
      "cell_type": "code",
      "metadata": {
        "id": "BOwsuGQQY9OL"
      },
      "source": [
        "from tensorflow.keras.preprocessing.sequence import pad_sequences\n",
        "from tensorflow.keras.layers import Embedding, LSTM, Dense, Dropout, Bidirectional\n",
        "from tensorflow.keras.preprocessing.text import Tokenizer\n",
        "from tensorflow.keras.models import Sequential\n",
        "from tensorflow.keras.optimizers import Adam\n",
        "### YOUR CODE HERE\n",
        "from tensorflow.keras.regularizers import L2\n",
        "# Figure out how to import regularizers\n",
        "###\n",
        "import tensorflow.keras.utils as ku \n",
        "import numpy as np "
      ],
      "execution_count": 12,
      "outputs": []
    },
    {
      "cell_type": "code",
      "metadata": {
        "colab": {
          "base_uri": "https://localhost:8080/"
        },
        "id": "PRnDnCW-Z7qv",
        "outputId": "c1bf1f7a-c128-49e6-fe2e-ef7d27f94fb8"
      },
      "source": [
        "tokenizer = Tokenizer()\n",
        "!wget --no-check-certificate \\\n",
        "    https://storage.googleapis.com/laurencemoroney-blog.appspot.com/sonnets.txt \\\n",
        "    -O /tmp/sonnets.txt\n",
        "data = open('/tmp/sonnets.txt').read()\n",
        "\n",
        "corpus = data.lower().split(\"\\n\")\n",
        "\n",
        "\n",
        "tokenizer.fit_on_texts(corpus)\n",
        "total_words = len(tokenizer.word_index) + 1\n",
        "\n",
        "# create input sequences using list of tokens\n",
        "input_sequences = []\n",
        "for line in corpus:\n",
        "\ttoken_list = tokenizer.texts_to_sequences([line])[0]\n",
        "\tfor i in range(1, len(token_list)):\n",
        "\t\tn_gram_sequence = token_list[:i+1]\n",
        "\t\tinput_sequences.append(n_gram_sequence)\n",
        "\n",
        "\n",
        "# pad sequences \n",
        "max_sequence_len = max([len(x) for x in input_sequences])\n",
        "input_sequences = np.array(pad_sequences(input_sequences, maxlen=max_sequence_len, padding='pre'))\n",
        "\n",
        "# create predictors and label\n",
        "predictors, label = input_sequences[:,:-1],input_sequences[:,-1]\n",
        "\n",
        "label = ku.to_categorical(label, num_classes=total_words)"
      ],
      "execution_count": 13,
      "outputs": [
        {
          "output_type": "stream",
          "text": [
            "--2021-01-17 13:49:38--  https://storage.googleapis.com/laurencemoroney-blog.appspot.com/sonnets.txt\n",
            "Resolving storage.googleapis.com (storage.googleapis.com)... 172.253.115.128, 172.217.9.208, 172.217.12.240, ...\n",
            "Connecting to storage.googleapis.com (storage.googleapis.com)|172.253.115.128|:443... connected.\n",
            "HTTP request sent, awaiting response... 200 OK\n",
            "Length: 93578 (91K) [text/plain]\n",
            "Saving to: ‘/tmp/sonnets.txt’\n",
            "\n",
            "\r/tmp/sonnets.txt      0%[                    ]       0  --.-KB/s               \r/tmp/sonnets.txt    100%[===================>]  91.38K  --.-KB/s    in 0.001s  \n",
            "\n",
            "2021-01-17 13:49:38 (118 MB/s) - ‘/tmp/sonnets.txt’ saved [93578/93578]\n",
            "\n"
          ],
          "name": "stdout"
        }
      ]
    },
    {
      "cell_type": "code",
      "metadata": {
        "colab": {
          "base_uri": "https://localhost:8080/"
        },
        "id": "w9vH8Y59ajYL",
        "outputId": "6f2c1150-5291-41ef-cdde-ef4e58f46f0d"
      },
      "source": [
        "model = Sequential()\n",
        "model.add(\n",
        "    # Your Embedding Layer\n",
        "    Embedding(input_dim=total_words, output_dim=100, input_length=max_sequence_len - 1, name=\"embedding_1\")\n",
        ")\n",
        "model.add(\n",
        "    # An LSTM Layer\n",
        "    Bidirectional(LSTM(units=150, return_sequences=True), name=\"LSTM_2\")\n",
        ")\n",
        "model.add(\n",
        "    # A dropout layer\n",
        "    Dropout(rate=0.2, name=\"dropout_2\")\n",
        ")\n",
        "model.add(\n",
        "    # Another LSTM Layer\n",
        "    LSTM(units=100, return_sequences=False, name=\"LSTM_3\")\n",
        ")\n",
        "model.add(\n",
        "    # A Dense Layer including regularizers\n",
        "    Dense(units=total_words // 2, activation=\"relu\", kernel_regularizer=L2(l2=0.01), name=\"dense_4\")\n",
        ")\n",
        "model.add(\n",
        "    # A Dense Layer\n",
        "    Dense(units=total_words, activation=\"softmax\", name=\"dense_5\")\n",
        ")\n",
        "# Pick an optimizer\n",
        "model.compile(\n",
        "    # Pick a loss function and an optimizer\n",
        "    optimizer=Adam(lr=0.01),\n",
        "    loss=\"categorical_crossentropy\",\n",
        "    metrics=[\"accuracy\"]\n",
        ")\n",
        "print(model.summary())\n"
      ],
      "execution_count": 14,
      "outputs": [
        {
          "output_type": "stream",
          "text": [
            "Model: \"sequential_1\"\n",
            "_________________________________________________________________\n",
            "Layer (type)                 Output Shape              Param #   \n",
            "=================================================================\n",
            "embedding_1 (Embedding)      (None, 10, 100)           321100    \n",
            "_________________________________________________________________\n",
            "LSTM_2 (Bidirectional)       (None, 10, 300)           301200    \n",
            "_________________________________________________________________\n",
            "dropout_2 (Dropout)          (None, 10, 300)           0         \n",
            "_________________________________________________________________\n",
            "LSTM_3 (LSTM)                (None, 100)               160400    \n",
            "_________________________________________________________________\n",
            "dense_4 (Dense)              (None, 1605)              162105    \n",
            "_________________________________________________________________\n",
            "dense_5 (Dense)              (None, 3211)              5156866   \n",
            "=================================================================\n",
            "Total params: 6,101,671\n",
            "Trainable params: 6,101,671\n",
            "Non-trainable params: 0\n",
            "_________________________________________________________________\n",
            "None\n"
          ],
          "name": "stdout"
        }
      ]
    },
    {
      "cell_type": "code",
      "metadata": {
        "colab": {
          "base_uri": "https://localhost:8080/"
        },
        "id": "AIg2f1HBxqof",
        "outputId": "118c5f59-8b83-4bcb-96e8-d17ea9fd1981"
      },
      "source": [
        " history = model.fit(predictors, label, epochs=100, verbose=1, workers=-1, use_multiprocessing=True)"
      ],
      "execution_count": 15,
      "outputs": [
        {
          "output_type": "stream",
          "text": [
            "Epoch 1/100\n",
            "484/484 [==============================] - 9s 11ms/step - loss: 7.0890 - accuracy: 0.0215\n",
            "Epoch 2/100\n",
            "484/484 [==============================] - 5s 11ms/step - loss: 6.5068 - accuracy: 0.0229\n",
            "Epoch 3/100\n",
            "484/484 [==============================] - 6s 12ms/step - loss: 6.4281 - accuracy: 0.0279\n",
            "Epoch 4/100\n",
            "484/484 [==============================] - 5s 11ms/step - loss: 6.3928 - accuracy: 0.0274\n",
            "Epoch 5/100\n",
            "484/484 [==============================] - 5s 11ms/step - loss: 6.3343 - accuracy: 0.0326\n",
            "Epoch 6/100\n",
            "484/484 [==============================] - 5s 11ms/step - loss: 6.3389 - accuracy: 0.0306\n",
            "Epoch 7/100\n",
            "484/484 [==============================] - 5s 11ms/step - loss: 6.2750 - accuracy: 0.0375\n",
            "Epoch 8/100\n",
            "484/484 [==============================] - 5s 11ms/step - loss: 6.2503 - accuracy: 0.0376\n",
            "Epoch 9/100\n",
            "484/484 [==============================] - 5s 10ms/step - loss: 6.2098 - accuracy: 0.0396\n",
            "Epoch 10/100\n",
            "484/484 [==============================] - 5s 11ms/step - loss: 6.1879 - accuracy: 0.0386\n",
            "Epoch 11/100\n",
            "484/484 [==============================] - 5s 11ms/step - loss: 6.1175 - accuracy: 0.0441\n",
            "Epoch 12/100\n",
            "484/484 [==============================] - 5s 11ms/step - loss: 6.0907 - accuracy: 0.0436\n",
            "Epoch 13/100\n",
            "484/484 [==============================] - 5s 11ms/step - loss: 6.0476 - accuracy: 0.0450\n",
            "Epoch 14/100\n",
            "484/484 [==============================] - 5s 10ms/step - loss: 5.9801 - accuracy: 0.0438\n",
            "Epoch 15/100\n",
            "484/484 [==============================] - 5s 11ms/step - loss: 5.9661 - accuracy: 0.0451\n",
            "Epoch 16/100\n",
            "484/484 [==============================] - 5s 11ms/step - loss: 5.9441 - accuracy: 0.0446\n",
            "Epoch 17/100\n",
            "484/484 [==============================] - 5s 11ms/step - loss: 5.9195 - accuracy: 0.0446\n",
            "Epoch 18/100\n",
            "484/484 [==============================] - 5s 11ms/step - loss: 5.9071 - accuracy: 0.0486\n",
            "Epoch 19/100\n",
            "484/484 [==============================] - 5s 11ms/step - loss: 5.8556 - accuracy: 0.0462\n",
            "Epoch 20/100\n",
            "484/484 [==============================] - 5s 11ms/step - loss: 5.8892 - accuracy: 0.0494\n",
            "Epoch 21/100\n",
            "484/484 [==============================] - 5s 11ms/step - loss: 5.8164 - accuracy: 0.0498\n",
            "Epoch 22/100\n",
            "484/484 [==============================] - 5s 10ms/step - loss: 5.8577 - accuracy: 0.0490\n",
            "Epoch 23/100\n",
            "484/484 [==============================] - 5s 11ms/step - loss: 5.8206 - accuracy: 0.0475\n",
            "Epoch 24/100\n",
            "484/484 [==============================] - 5s 11ms/step - loss: 5.7984 - accuracy: 0.0464\n",
            "Epoch 25/100\n",
            "484/484 [==============================] - 5s 11ms/step - loss: 5.7717 - accuracy: 0.0495\n",
            "Epoch 26/100\n",
            "484/484 [==============================] - 5s 10ms/step - loss: 5.7510 - accuracy: 0.0477\n",
            "Epoch 27/100\n",
            "484/484 [==============================] - 5s 11ms/step - loss: 5.7441 - accuracy: 0.0508\n",
            "Epoch 28/100\n",
            "484/484 [==============================] - 5s 11ms/step - loss: 5.7291 - accuracy: 0.0514\n",
            "Epoch 29/100\n",
            "484/484 [==============================] - 5s 11ms/step - loss: 5.7123 - accuracy: 0.0541\n",
            "Epoch 30/100\n",
            "484/484 [==============================] - 5s 11ms/step - loss: 5.7391 - accuracy: 0.0503\n",
            "Epoch 31/100\n",
            "484/484 [==============================] - 5s 11ms/step - loss: 5.7645 - accuracy: 0.0526\n",
            "Epoch 32/100\n",
            "484/484 [==============================] - 5s 11ms/step - loss: 5.7237 - accuracy: 0.0537\n",
            "Epoch 33/100\n",
            "484/484 [==============================] - 5s 11ms/step - loss: 5.6780 - accuracy: 0.0534\n",
            "Epoch 34/100\n",
            "484/484 [==============================] - 5s 11ms/step - loss: 5.6766 - accuracy: 0.0549\n",
            "Epoch 35/100\n",
            "484/484 [==============================] - 5s 11ms/step - loss: 5.6838 - accuracy: 0.0537\n",
            "Epoch 36/100\n",
            "484/484 [==============================] - 5s 11ms/step - loss: 5.6566 - accuracy: 0.0556\n",
            "Epoch 37/100\n",
            "484/484 [==============================] - 5s 11ms/step - loss: 5.6466 - accuracy: 0.0591\n",
            "Epoch 38/100\n",
            "484/484 [==============================] - 5s 11ms/step - loss: 5.6551 - accuracy: 0.0579\n",
            "Epoch 39/100\n",
            "484/484 [==============================] - 5s 10ms/step - loss: 5.6317 - accuracy: 0.0544\n",
            "Epoch 40/100\n",
            "484/484 [==============================] - 5s 11ms/step - loss: 5.6305 - accuracy: 0.0588\n",
            "Epoch 41/100\n",
            "484/484 [==============================] - 5s 11ms/step - loss: 5.6224 - accuracy: 0.0516\n",
            "Epoch 42/100\n",
            "484/484 [==============================] - 5s 10ms/step - loss: 5.6027 - accuracy: 0.0564\n",
            "Epoch 43/100\n",
            "484/484 [==============================] - 5s 11ms/step - loss: 5.6243 - accuracy: 0.0565\n",
            "Epoch 44/100\n",
            "484/484 [==============================] - 5s 11ms/step - loss: 5.6198 - accuracy: 0.0575\n",
            "Epoch 45/100\n",
            "484/484 [==============================] - 5s 11ms/step - loss: 5.6216 - accuracy: 0.0599\n",
            "Epoch 46/100\n",
            "484/484 [==============================] - 5s 11ms/step - loss: 5.6232 - accuracy: 0.0549\n",
            "Epoch 47/100\n",
            "484/484 [==============================] - 5s 10ms/step - loss: 5.6024 - accuracy: 0.0610\n",
            "Epoch 48/100\n",
            "484/484 [==============================] - 5s 11ms/step - loss: 5.5723 - accuracy: 0.0611\n",
            "Epoch 49/100\n",
            "484/484 [==============================] - 5s 11ms/step - loss: 5.5847 - accuracy: 0.0578\n",
            "Epoch 50/100\n",
            "484/484 [==============================] - 5s 11ms/step - loss: 5.5964 - accuracy: 0.0597\n",
            "Epoch 51/100\n",
            "484/484 [==============================] - 5s 11ms/step - loss: 5.5965 - accuracy: 0.0573\n",
            "Epoch 52/100\n",
            "484/484 [==============================] - 5s 11ms/step - loss: 5.5440 - accuracy: 0.0617\n",
            "Epoch 53/100\n",
            "484/484 [==============================] - 5s 11ms/step - loss: 5.5666 - accuracy: 0.0599\n",
            "Epoch 54/100\n",
            "484/484 [==============================] - 5s 11ms/step - loss: 5.5577 - accuracy: 0.0575\n",
            "Epoch 55/100\n",
            "484/484 [==============================] - 5s 11ms/step - loss: 5.5706 - accuracy: 0.0599\n",
            "Epoch 56/100\n",
            "484/484 [==============================] - 5s 11ms/step - loss: 5.5786 - accuracy: 0.0622\n",
            "Epoch 57/100\n",
            "484/484 [==============================] - 5s 11ms/step - loss: 5.5727 - accuracy: 0.0630\n",
            "Epoch 58/100\n",
            "484/484 [==============================] - 5s 11ms/step - loss: 5.5248 - accuracy: 0.0641\n",
            "Epoch 59/100\n",
            "484/484 [==============================] - 5s 11ms/step - loss: 5.5515 - accuracy: 0.0638\n",
            "Epoch 60/100\n",
            "484/484 [==============================] - 5s 11ms/step - loss: 5.5592 - accuracy: 0.0607\n",
            "Epoch 61/100\n",
            "484/484 [==============================] - 5s 10ms/step - loss: 5.5354 - accuracy: 0.0641\n",
            "Epoch 62/100\n",
            "484/484 [==============================] - 5s 11ms/step - loss: 5.5346 - accuracy: 0.0603\n",
            "Epoch 63/100\n",
            "484/484 [==============================] - 5s 11ms/step - loss: 5.5280 - accuracy: 0.0621\n",
            "Epoch 64/100\n",
            "484/484 [==============================] - 6s 12ms/step - loss: 5.5387 - accuracy: 0.0621\n",
            "Epoch 65/100\n",
            "484/484 [==============================] - 5s 11ms/step - loss: 5.5313 - accuracy: 0.0593\n",
            "Epoch 66/100\n",
            "484/484 [==============================] - 5s 10ms/step - loss: 5.5358 - accuracy: 0.0603\n",
            "Epoch 67/100\n",
            "484/484 [==============================] - 5s 11ms/step - loss: 5.5457 - accuracy: 0.0631\n",
            "Epoch 68/100\n",
            "484/484 [==============================] - 5s 11ms/step - loss: 5.5052 - accuracy: 0.0640\n",
            "Epoch 69/100\n",
            "484/484 [==============================] - 5s 11ms/step - loss: 5.4867 - accuracy: 0.0657\n",
            "Epoch 70/100\n",
            "484/484 [==============================] - 5s 11ms/step - loss: 5.5251 - accuracy: 0.0621\n",
            "Epoch 71/100\n",
            "484/484 [==============================] - 5s 11ms/step - loss: 5.5372 - accuracy: 0.0648\n",
            "Epoch 72/100\n",
            "484/484 [==============================] - 5s 11ms/step - loss: 5.5373 - accuracy: 0.0619\n",
            "Epoch 73/100\n",
            "484/484 [==============================] - 5s 11ms/step - loss: 5.5275 - accuracy: 0.0617\n",
            "Epoch 74/100\n",
            "484/484 [==============================] - 5s 11ms/step - loss: 5.5353 - accuracy: 0.0635\n",
            "Epoch 75/100\n",
            "484/484 [==============================] - 5s 11ms/step - loss: 5.5469 - accuracy: 0.0645\n",
            "Epoch 76/100\n",
            "484/484 [==============================] - 5s 11ms/step - loss: 5.5093 - accuracy: 0.0632\n",
            "Epoch 77/100\n",
            "484/484 [==============================] - 5s 10ms/step - loss: 5.4860 - accuracy: 0.0680\n",
            "Epoch 78/100\n",
            "484/484 [==============================] - 5s 11ms/step - loss: 5.5287 - accuracy: 0.0672\n",
            "Epoch 79/100\n",
            "484/484 [==============================] - 5s 11ms/step - loss: 5.5471 - accuracy: 0.0646\n",
            "Epoch 80/100\n",
            "484/484 [==============================] - 5s 11ms/step - loss: 5.5439 - accuracy: 0.0626\n",
            "Epoch 81/100\n",
            "484/484 [==============================] - 5s 11ms/step - loss: 5.4935 - accuracy: 0.0650\n",
            "Epoch 82/100\n",
            "484/484 [==============================] - 5s 11ms/step - loss: 5.5126 - accuracy: 0.0597\n",
            "Epoch 83/100\n",
            "484/484 [==============================] - 5s 11ms/step - loss: 5.5383 - accuracy: 0.0607\n",
            "Epoch 84/100\n",
            "484/484 [==============================] - 5s 11ms/step - loss: 5.5036 - accuracy: 0.0642\n",
            "Epoch 85/100\n",
            "484/484 [==============================] - 5s 11ms/step - loss: 5.4801 - accuracy: 0.0628\n",
            "Epoch 86/100\n",
            "484/484 [==============================] - 5s 11ms/step - loss: 5.4841 - accuracy: 0.0663\n",
            "Epoch 87/100\n",
            "484/484 [==============================] - 5s 11ms/step - loss: 5.4985 - accuracy: 0.0634\n",
            "Epoch 88/100\n",
            "484/484 [==============================] - 5s 11ms/step - loss: 5.4991 - accuracy: 0.0648\n",
            "Epoch 89/100\n",
            "484/484 [==============================] - 5s 11ms/step - loss: 5.4966 - accuracy: 0.0616\n",
            "Epoch 90/100\n",
            "484/484 [==============================] - 5s 11ms/step - loss: 5.5044 - accuracy: 0.0655\n",
            "Epoch 91/100\n",
            "484/484 [==============================] - 5s 11ms/step - loss: 5.5185 - accuracy: 0.0631\n",
            "Epoch 92/100\n",
            "484/484 [==============================] - 5s 11ms/step - loss: 5.5047 - accuracy: 0.0614\n",
            "Epoch 93/100\n",
            "484/484 [==============================] - 5s 11ms/step - loss: 5.4939 - accuracy: 0.0657\n",
            "Epoch 94/100\n",
            "484/484 [==============================] - 5s 11ms/step - loss: 5.5215 - accuracy: 0.0656\n",
            "Epoch 95/100\n",
            "484/484 [==============================] - 5s 11ms/step - loss: 5.5360 - accuracy: 0.0647\n",
            "Epoch 96/100\n",
            "484/484 [==============================] - 5s 11ms/step - loss: 5.5237 - accuracy: 0.0635\n",
            "Epoch 97/100\n",
            "484/484 [==============================] - 5s 11ms/step - loss: 5.5028 - accuracy: 0.0601\n",
            "Epoch 98/100\n",
            "484/484 [==============================] - 5s 11ms/step - loss: 5.5416 - accuracy: 0.0636\n",
            "Epoch 99/100\n",
            "484/484 [==============================] - 5s 11ms/step - loss: 5.5008 - accuracy: 0.0650\n",
            "Epoch 100/100\n",
            "484/484 [==============================] - 5s 11ms/step - loss: 5.5480 - accuracy: 0.0618\n"
          ],
          "name": "stdout"
        }
      ]
    },
    {
      "cell_type": "code",
      "metadata": {
        "colab": {
          "base_uri": "https://localhost:8080/",
          "height": 545
        },
        "id": "1fXTEO3GJ282",
        "outputId": "02d6bd35-fd72-42a0-8c49-97f754a76709"
      },
      "source": [
        "import matplotlib.pyplot as plt\n",
        "acc = history.history['accuracy']\n",
        "loss = history.history['loss']\n",
        "\n",
        "epochs = range(len(acc))\n",
        "\n",
        "plt.plot(epochs, acc, 'b', label='Training accuracy')\n",
        "plt.title('Training accuracy')\n",
        "\n",
        "plt.figure()\n",
        "\n",
        "plt.plot(epochs, loss, 'b', label='Training Loss')\n",
        "plt.title('Training loss')\n",
        "plt.legend()\n",
        "\n",
        "plt.show()"
      ],
      "execution_count": 16,
      "outputs": [
        {
          "output_type": "display_data",
          "data": {
            "image/png": "[encoded data removed]",
            "text/plain": [
              "<Figure size 432x288 with 1 Axes>"
            ]
          },
          "metadata": {
            "tags": [],
            "needs_background": "light"
          }
        },
        {
          "output_type": "display_data",
          "data": {
            "image/png": "[encoded data removed]",
            "text/plain": [
              "<Figure size 432x288 with 1 Axes>"
            ]
          },
          "metadata": {
            "tags": [],
            "needs_background": "light"
          }
        }
      ]
    },
    {
      "cell_type": "code",
      "metadata": {
        "colab": {
          "base_uri": "https://localhost:8080/"
        },
        "id": "6Vc6PHgxa6Hm",
        "outputId": "c4bb18b5-f140-43d5-c19f-0c29fdbee17d"
      },
      "source": [
        "seed_text = \"Help me Obi Wan Kenobi, you're my only hope\"\n",
        "next_words = 100\n",
        "  \n",
        "for _ in range(next_words):\n",
        "\ttoken_list = tokenizer.texts_to_sequences([seed_text])[0]\n",
        "\ttoken_list = pad_sequences([token_list], maxlen=max_sequence_len-1, padding='pre')\n",
        "\tpredicted = model.predict_classes(token_list, verbose=0)\n",
        "\toutput_word = \"\"\n",
        "\tfor word, index in tokenizer.word_index.items():\n",
        "\t\tif index == predicted:\n",
        "\t\t\toutput_word = word\n",
        "\t\t\tbreak\n",
        "\tseed_text += \" \" + output_word\n",
        "print(seed_text)"
      ],
      "execution_count": 17,
      "outputs": [
        {
          "output_type": "stream",
          "text": [
            "/usr/local/lib/python3.6/dist-packages/tensorflow/python/keras/engine/sequential.py:450: UserWarning: `model.predict_classes()` is deprecated and will be removed after 2021-01-01. Please use instead:* `np.argmax(model.predict(x), axis=-1)`,   if your model does multi-class classification   (e.g. if it uses a `softmax` last-layer activation).* `(model.predict(x) > 0.5).astype(\"int32\")`,   if your model does binary classification   (e.g. if it uses a `sigmoid` last-layer activation).\n",
            "  warnings.warn('`model.predict_classes()` is deprecated and '\n"
          ],
          "name": "stderr"
        },
        {
          "output_type": "stream",
          "text": [
            "Help me Obi Wan Kenobi, you're my only hope in the world and in the world to be in my love to be in my love is i am in the world to be in my love is i am in the world to be in my love is i am in the world to be in my love is i am in the world to be in my love is i am in the world to be in my love is i am in the world to be in my love is i am in the world to be in my love is i am in the world\n"
          ],
          "name": "stdout"
        }
      ]
    },
    {
      "cell_type": "code",
      "metadata": {
        "id": "FWTIk4Ulkkgc"
      },
      "source": [
        ""
      ],
      "execution_count": 17,
      "outputs": []
    }
  ]
}