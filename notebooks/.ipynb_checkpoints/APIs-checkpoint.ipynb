{
 "cells": [
  {
   "cell_type": "markdown",
   "metadata": {},
   "source": [
    "说明：此文档是tensorflow的包结构及用法文档，tensorflow版本为2.3.0，建议开启jupyter的Table of Contents查看。h标签包围的是包；细体是函数或变量；粗体是类。"
   ]
  },
  {
   "cell_type": "code",
   "execution_count": 19,
   "metadata": {
    "ExecuteTime": {
     "end_time": "2021-02-27T23:38:08.111244Z",
     "start_time": "2021-02-27T23:38:08.107880Z"
    }
   },
   "outputs": [
    {
     "name": "stdout",
     "output_type": "stream",
     "text": [
      "2.3.0\n"
     ]
    }
   ],
   "source": [
    "import tensorflow as tf\n",
    "from tensorflow import Tensor, GradientTape, Variable\n",
    "from tensorflow.keras.layers import Input, Dense, Flatten, Layer\n",
    "from tensorflow.keras.models import Sequential, Model\n",
    "from tensorflow.keras.optimizers import Optimizer, SGD\n",
    "from tensorflow.raw_ops import TensorSliceDataset, BatchDataset\n",
    "from tensorflow import reshape, expand_dims, square, reduce_sum\n",
    "print(tf.__version__)"
   ]
  },
  {
   "cell_type": "code",
   "execution_count": 5,
   "metadata": {
    "ExecuteTime": {
     "end_time": "2021-02-27T23:12:51.202564Z",
     "start_time": "2021-02-27T23:12:51.198540Z"
    }
   },
   "outputs": [],
   "source": [
    "from typing import Union, List, Tuple\n",
    "from types import FunctionType\n",
    "batch_size = 32\n",
    "input_dim = 4"
   ]
  },
  {
   "cell_type": "markdown",
   "metadata": {},
   "source": [
    "<h1>keras</h1>"
   ]
  },
  {
   "cell_type": "markdown",
   "metadata": {},
   "source": [
    "<p>Input</p>"
   ]
  },
  {
   "cell_type": "markdown",
   "metadata": {},
   "source": [
    "<h2>layers</h2>"
   ]
  },
  {
   "cell_type": "markdown",
   "metadata": {},
   "source": [
    "<p>Input</p>"
   ]
  },
  {
   "cell_type": "markdown",
   "metadata": {},
   "source": [
    "<p><b>Layer</b></p>"
   ]
  },
  {
   "cell_type": "markdown",
   "metadata": {},
   "source": [
    "<p><b>Dense</b></p>"
   ]
  },
  {
   "cell_type": "code",
   "execution_count": 14,
   "metadata": {
    "ExecuteTime": {
     "end_time": "2021-02-27T19:44:47.699058Z",
     "start_time": "2021-02-27T19:44:47.694049Z"
    }
   },
   "outputs": [],
   "source": [
    "class Dense(Layer):                                                    # 全连接层，通常在最后几层使用\n",
    "    def __init__(\n",
    "        self,\n",
    "        units: int,                                                     # 【含义】神经元个数，输出维度；【用法】回归问题units=1；二分类units=1，多分类units=类别数\n",
    "        activation: Union[None, str, FunctionType] = None,             # 【含义】激活函数；【用法】None或\"linear\"表示线性激活，用于回归问题输出层；\"relu\"或tf.nn.relu表示relu激活，用于分类问题隐藏层；\"softmax\"或tf.nn.softmax用于多分类输出层；\"sigmoid\"或tf.nn.sigmoid用于二分类输出层\n",
    "        use_bias: bool = True,                                         # 【含义】是否带偏置\n",
    "        kernel_initializer='glorot_uniform',                            # 【含义】权重初始化方法\n",
    "        bias_initializer='zeros',                                      # 【含义】偏置初始化方法\n",
    "        kernel_regularizer=None,\n",
    "        bias_regularizer=None,\n",
    "        activity_regularizer=None,\n",
    "        kernel_constraint=None,\n",
    "        bias_constraint=None,\n",
    "        name: Union[None, str] = None,                                 # 【含义】层的名字；【用法】为None则根据网络结构自动命名\n",
    "        input_shape: Union[None, list, tuple] = None                   # 【含义】输入的张量形状；【用法】如果使用Sequential模型并且Dense出现在第一层，必须写input_shape参数：要求输入形状为[batch_size, input_dim]，则input_shape=[input_dim]。如果不是第一层则填写None\n",
    "    ) -> None: pass"
   ]
  },
  {
   "cell_type": "markdown",
   "metadata": {},
   "source": [
    "<p><b>Flatten</b></p>"
   ]
  },
  {
   "cell_type": "code",
   "execution_count": 13,
   "metadata": {
    "ExecuteTime": {
     "end_time": "2021-02-27T19:44:42.261633Z",
     "start_time": "2021-02-27T19:44:42.257632Z"
    }
   },
   "outputs": [],
   "source": [
    "class Flatten(Layer):\n",
    "    def __init__(\n",
    "        self,\n",
    "        data_format: str = \"channels_last\",             # 【含义】图像数据格式；【用法】\"channels_last\"表示通道位于最后一个轴，即一个batch的shape是[batch_size, w, h, c]；\"channels_first\"表示通道位于最开始的轴，即一个batch的shape是[batch_size, c, w, h]\n",
    "        name: Union[None, str] = None                  # 【含义】层的名字；【用法】如果为None根据网络结构自动命名\n",
    "    ) -> None: pass"
   ]
  },
  {
   "cell_type": "markdown",
   "metadata": {},
   "source": [
    "<p><b>Conv1D</b></p>"
   ]
  },
  {
   "cell_type": "markdown",
   "metadata": {},
   "source": [
    "<p><b>Conv2D</b></p>"
   ]
  },
  {
   "cell_type": "markdown",
   "metadata": {},
   "source": [
    "<p><b>GlobalAveragePooling1D</b></p>"
   ]
  },
  {
   "cell_type": "markdown",
   "metadata": {},
   "source": [
    "<p><b>GlobalAveragePooling2D</b></p>"
   ]
  },
  {
   "cell_type": "markdown",
   "metadata": {},
   "source": [
    "<p><b>MaxPool2D</b></p>"
   ]
  },
  {
   "cell_type": "markdown",
   "metadata": {},
   "source": [
    "<p><b>Dropout</b></p>"
   ]
  },
  {
   "cell_type": "markdown",
   "metadata": {},
   "source": [
    "<p><b>LSTM</b></p>"
   ]
  },
  {
   "cell_type": "markdown",
   "metadata": {},
   "source": [
    "<p><b>Bidirectional</b></p>"
   ]
  },
  {
   "cell_type": "markdown",
   "metadata": {},
   "source": [
    "<p><b>Lambda</b></p>"
   ]
  },
  {
   "cell_type": "markdown",
   "metadata": {},
   "source": [
    "<p><b>Embedding</b></p>"
   ]
  },
  {
   "cell_type": "markdown",
   "metadata": {},
   "source": [
    "<h2>models</h2>"
   ]
  },
  {
   "cell_type": "markdown",
   "metadata": {},
   "source": [
    "<p>load_model</p>"
   ]
  },
  {
   "cell_type": "markdown",
   "metadata": {},
   "source": [
    "<p><b>Model</b></p>"
   ]
  },
  {
   "cell_type": "code",
   "execution_count": 20,
   "metadata": {
    "ExecuteTime": {
     "end_time": "2021-02-27T23:47:25.653367Z",
     "start_time": "2021-02-27T23:47:25.649369Z"
    }
   },
   "outputs": [],
   "source": [
    "class Model:\n",
    "    \n",
    "    trainable_variables: List[Variable]"
   ]
  },
  {
   "cell_type": "markdown",
   "metadata": {},
   "source": [
    "<p><b>Sequential</b></p>"
   ]
  },
  {
   "cell_type": "markdown",
   "metadata": {
    "ExecuteTime": {
     "end_time": "2021-02-11T07:02:24.357125Z",
     "start_time": "2021-02-11T07:02:24.353115Z"
    }
   },
   "source": [
    "<h2>optimizers</h2>"
   ]
  },
  {
   "cell_type": "markdown",
   "metadata": {},
   "source": [
    "<p><b>Optimizer</b></p>"
   ]
  },
  {
   "cell_type": "markdown",
   "metadata": {},
   "source": [
    "<p><b>SGD</b></p>"
   ]
  },
  {
   "cell_type": "code",
   "execution_count": 32,
   "metadata": {
    "ExecuteTime": {
     "end_time": "2021-02-27T20:16:57.019189Z",
     "start_time": "2021-02-27T20:16:57.016130Z"
    }
   },
   "outputs": [],
   "source": [
    "class SGD(Optimizer):\n",
    "    def __init__(\n",
    "        self,\n",
    "        learning_rate: float = 0.01,                      # 【含义】学习率\n",
    "        momentum: float = 0.0,                            # 【含义】动量；【用法】0-1之间的一个数\n",
    "        nesterov=False,\n",
    "        name: str = \"SGD\",                                # 【含义】名称\n",
    "    ) -> None: pass"
   ]
  },
  {
   "cell_type": "markdown",
   "metadata": {},
   "source": [
    "<p><b>RMSprop</b></p>"
   ]
  },
  {
   "cell_type": "markdown",
   "metadata": {},
   "source": [
    "<p><b>Adam</b></p>"
   ]
  },
  {
   "cell_type": "markdown",
   "metadata": {},
   "source": [
    "<h2>losses</h2>"
   ]
  },
  {
   "cell_type": "markdown",
   "metadata": {},
   "source": [
    "<p><b>BinaryCrossentropy</b></p>"
   ]
  },
  {
   "cell_type": "markdown",
   "metadata": {},
   "source": [
    "<h2>datasets</h2>"
   ]
  },
  {
   "cell_type": "markdown",
   "metadata": {},
   "source": [
    "<h3>fashion_mnist</h3>"
   ]
  },
  {
   "cell_type": "markdown",
   "metadata": {},
   "source": [
    "<p>load_data</p>"
   ]
  },
  {
   "cell_type": "markdown",
   "metadata": {},
   "source": [
    "<h3>mnist</h3>"
   ]
  },
  {
   "cell_type": "markdown",
   "metadata": {},
   "source": [
    "<p>load_data</p>"
   ]
  },
  {
   "cell_type": "markdown",
   "metadata": {},
   "source": [
    "<h2>callbacks</h2>"
   ]
  },
  {
   "cell_type": "markdown",
   "metadata": {},
   "source": [
    "<p><b>Callback</b></p>"
   ]
  },
  {
   "cell_type": "markdown",
   "metadata": {},
   "source": [
    "<p><b>History</b></p>"
   ]
  },
  {
   "cell_type": "markdown",
   "metadata": {},
   "source": [
    "<p><b>TensorBoard</b></p>"
   ]
  },
  {
   "cell_type": "markdown",
   "metadata": {},
   "source": [
    "<p><b>LearningRateScheduler</b></p>"
   ]
  },
  {
   "cell_type": "markdown",
   "metadata": {},
   "source": [
    "<p><b>EarlyStopping</b></p>"
   ]
  },
  {
   "cell_type": "markdown",
   "metadata": {},
   "source": [
    "<h2>applications</h2>"
   ]
  },
  {
   "cell_type": "markdown",
   "metadata": {},
   "source": [
    "InceptionV3"
   ]
  },
  {
   "cell_type": "markdown",
   "metadata": {},
   "source": [
    "<p>MobileNetV2</p>"
   ]
  },
  {
   "cell_type": "markdown",
   "metadata": {},
   "source": [
    "<h3>inception_v3</h3>"
   ]
  },
  {
   "cell_type": "markdown",
   "metadata": {},
   "source": [
    "<p>InceptionV3</p>"
   ]
  },
  {
   "cell_type": "markdown",
   "metadata": {},
   "source": [
    "<h3>mobilenet_v2</h3>"
   ]
  },
  {
   "cell_type": "markdown",
   "metadata": {},
   "source": [
    "<p>MobileNetV2</p>"
   ]
  },
  {
   "cell_type": "markdown",
   "metadata": {},
   "source": [
    "<h2>preprocessing</h2>"
   ]
  },
  {
   "cell_type": "markdown",
   "metadata": {},
   "source": [
    "<h3>image</h3>"
   ]
  },
  {
   "cell_type": "markdown",
   "metadata": {},
   "source": [
    "<p>load_img</p>"
   ]
  },
  {
   "cell_type": "markdown",
   "metadata": {},
   "source": [
    "<p>img_to_array</p>"
   ]
  },
  {
   "cell_type": "markdown",
   "metadata": {},
   "source": [
    "<p><b>ImageDataGenerator</b></p>"
   ]
  },
  {
   "cell_type": "markdown",
   "metadata": {},
   "source": [
    "<p><b>DirectoryIterator</b></p>"
   ]
  },
  {
   "cell_type": "markdown",
   "metadata": {},
   "source": [
    "<h3>text</h3>"
   ]
  },
  {
   "cell_type": "markdown",
   "metadata": {},
   "source": [
    "<p><b>DirectoryIterator</b></p>"
   ]
  },
  {
   "cell_type": "markdown",
   "metadata": {},
   "source": [
    "<h3>sequence</h3>"
   ]
  },
  {
   "cell_type": "markdown",
   "metadata": {},
   "source": [
    "<p>pad_sequences</p>"
   ]
  },
  {
   "cell_type": "markdown",
   "metadata": {},
   "source": [
    "<h2>backend</h2>"
   ]
  },
  {
   "cell_type": "markdown",
   "metadata": {},
   "source": [
    "<p>clear_session</p>"
   ]
  },
  {
   "cell_type": "markdown",
   "metadata": {},
   "source": [
    "<h2>utils</h2>"
   ]
  },
  {
   "cell_type": "markdown",
   "metadata": {},
   "source": [
    "<p>to_categorical</p>"
   ]
  },
  {
   "cell_type": "markdown",
   "metadata": {},
   "source": [
    "<h2>metrics</h2>"
   ]
  },
  {
   "cell_type": "markdown",
   "metadata": {},
   "source": [
    "<p>mean_squared_error</p>"
   ]
  },
  {
   "cell_type": "markdown",
   "metadata": {},
   "source": [
    "<p>mean_absolute_error</p>"
   ]
  },
  {
   "cell_type": "markdown",
   "metadata": {},
   "source": [
    "<h1>nn</h1>"
   ]
  },
  {
   "cell_type": "markdown",
   "metadata": {},
   "source": [
    "<p>relu</p>"
   ]
  },
  {
   "cell_type": "markdown",
   "metadata": {},
   "source": [
    "<p>softmax</p>"
   ]
  },
  {
   "cell_type": "markdown",
   "metadata": {},
   "source": [
    "<h1>optimizers</h1>"
   ]
  },
  {
   "cell_type": "markdown",
   "metadata": {},
   "source": [
    "<p><b>Adam</b></p>"
   ]
  },
  {
   "cell_type": "markdown",
   "metadata": {},
   "source": [
    "<p><b>RMSprop</b></p>"
   ]
  },
  {
   "cell_type": "markdown",
   "metadata": {},
   "source": [
    "<h1>data</h1>"
   ]
  },
  {
   "cell_type": "markdown",
   "metadata": {},
   "source": [
    "<p><b>Dataset</b></p>"
   ]
  },
  {
   "cell_type": "code",
   "execution_count": 30,
   "metadata": {
    "ExecuteTime": {
     "end_time": "2021-02-27T20:10:03.245138Z",
     "start_time": "2021-02-27T20:10:03.241139Z"
    }
   },
   "outputs": [],
   "source": [
    "class Dataset:\n",
    "    def __init__(\n",
    "        self\n",
    "    ) -> None: pass\n",
    "    \n",
    "    @staticmethod\n",
    "    def from_tensor_slices(\n",
    "        tensors: List[np.ndarray]                 # 【含义】要转换的数组\n",
    "    ) -> List[Tensor]: pass"
   ]
  },
  {
   "cell_type": "markdown",
   "metadata": {},
   "source": [
    "<h1>compat</h1>"
   ]
  },
  {
   "cell_type": "markdown",
   "metadata": {},
   "source": [
    "<h2>v1</h2>"
   ]
  },
  {
   "cell_type": "markdown",
   "metadata": {},
   "source": [
    "<p>reset_default_graph</p>"
   ]
  },
  {
   "cell_type": "markdown",
   "metadata": {},
   "source": [
    "<p>ConfigProto</p>"
   ]
  },
  {
   "cell_type": "markdown",
   "metadata": {},
   "source": [
    "<p><b>Session</b></p>"
   ]
  },
  {
   "cell_type": "markdown",
   "metadata": {},
   "source": [
    "<h3>data</h3>"
   ]
  },
  {
   "cell_type": "markdown",
   "metadata": {},
   "source": [
    "<p>get_output_shapes</p>"
   ]
  },
  {
   "cell_type": "markdown",
   "metadata": {},
   "source": [
    "<h2>v2</h2>"
   ]
  },
  {
   "cell_type": "markdown",
   "metadata": {},
   "source": [
    "<h1>raw_ops</h1>"
   ]
  },
  {
   "cell_type": "markdown",
   "metadata": {},
   "source": [
    "<p><b>TensorSliceDataset</b></p>"
   ]
  },
  {
   "cell_type": "code",
   "execution_count": 29,
   "metadata": {
    "ExecuteTime": {
     "end_time": "2021-02-27T20:05:12.155787Z",
     "start_time": "2021-02-27T20:05:12.149790Z"
    }
   },
   "outputs": [],
   "source": [
    "class TensorSliceDataset:\n",
    "    def __init__(\n",
    "        self,\n",
    "        tensors: List[np.ndarray]                                              # 【含义】要转换的张量\n",
    "    ) -> None: pass\n",
    "    \n",
    "    def batch(\n",
    "        self,\n",
    "        batch_size: int,                                                       # 【含义】一个batch包含多少个样本\n",
    "        drop_remainder: bool = False                                          # 【含义】是否丢弃长度不足的样本；【用法】在时间表序列中通常指定为True\n",
    "    ) -> BatchDataset: pass"
   ]
  },
  {
   "cell_type": "markdown",
   "metadata": {},
   "source": [
    "<p><b>WindowDataset</b></p>"
   ]
  },
  {
   "cell_type": "markdown",
   "metadata": {},
   "source": [
    "<p><b>FlatMapDataset</b></p>"
   ]
  },
  {
   "cell_type": "markdown",
   "metadata": {},
   "source": [
    "<p><b>BatchDataset</b></p>"
   ]
  },
  {
   "cell_type": "markdown",
   "metadata": {},
   "source": [
    "<p><b>PaddedBatchDataset</b></p>"
   ]
  },
  {
   "cell_type": "markdown",
   "metadata": {},
   "source": [
    "<p><b>PrefetchDataset</b></p>"
   ]
  },
  {
   "cell_type": "markdown",
   "metadata": {},
   "source": [
    "<h1>Tensor</h1>"
   ]
  },
  {
   "cell_type": "code",
   "execution_count": 18,
   "metadata": {
    "ExecuteTime": {
     "end_time": "2021-02-27T23:30:13.881347Z",
     "start_time": "2021-02-27T23:30:13.877349Z"
    }
   },
   "outputs": [],
   "source": [
    "class Tensor:\n",
    "    \n",
    "    shape: Tuple[int]                        # 张量的形状\n",
    "    \n",
    "    def numpy(                               # 将Tensor转换成numpy数组\n",
    "        self\n",
    "    ) -> np.ndarray: pass"
   ]
  },
  {
   "cell_type": "markdown",
   "metadata": {},
   "source": [
    "<h1>GradientTape</h1>"
   ]
  },
  {
   "cell_type": "code",
   "execution_count": 21,
   "metadata": {
    "ExecuteTime": {
     "end_time": "2021-02-27T23:49:11.073454Z",
     "start_time": "2021-02-27T23:49:11.067456Z"
    }
   },
   "outputs": [],
   "source": [
    "class GradientTape(object):\n",
    "    def __init__(\n",
    "        self,\n",
    "        persistent: bool = False,              # 【含义】是否持久化\n",
    "        watch_accessed_variables: bool = True  # 【含义】是否看变量\n",
    "    ) -> None: pass\n",
    "    \n",
    "    def gradient(                              # 自动求导\n",
    "        self,\n",
    "        target: Tensor,                        # 【含义】谁的导数；【用法】通常为loss\n",
    "        sources: List[Variable],               # 【含义】对谁的导数；【用法】通常为参数\n",
    "        output_gradients=None,\n",
    "        unconnected_gradients=\"none\"\n",
    "    ) -> List[Variable]: pass"
   ]
  },
  {
   "cell_type": "markdown",
   "metadata": {},
   "source": [
    "<h1>convert_to_tensor</h1>"
   ]
  },
  {
   "cell_type": "markdown",
   "metadata": {},
   "source": [
    "<h1>expand_dims</h1>"
   ]
  },
  {
   "cell_type": "code",
   "execution_count": 41,
   "metadata": {
    "ExecuteTime": {
     "end_time": "2021-02-27T20:32:37.173725Z",
     "start_time": "2021-02-27T20:32:37.169588Z"
    }
   },
   "outputs": [],
   "source": [
    "def expand_dims(                               # 将张量扩展维度，用法同np.expand_dims\n",
    "    input: Union[Tensor, np.ndarray],          # 【含义】输入的张量或数组\n",
    "    axis: int,                                 # 【含义】在第几个维度扩展\n",
    "    name: Union[None, str] = None             # 【含义】操作的名称\n",
    ") -> Tensor: pass"
   ]
  },
  {
   "cell_type": "markdown",
   "metadata": {},
   "source": [
    "<h1>reshape</h1>"
   ]
  },
  {
   "cell_type": "code",
   "execution_count": 37,
   "metadata": {
    "ExecuteTime": {
     "end_time": "2021-02-27T20:24:26.194443Z",
     "start_time": "2021-02-27T20:24:26.191474Z"
    }
   },
   "outputs": [],
   "source": [
    "def reshape(                                   # 将张量改变形状，用法同np.reshape\n",
    "    tensor: Union[Tensor, np.ndarray],         # 【含义】要整形的张量或数组\n",
    "    shape: Tuple[int],                         # 【含义】新的shape\n",
    "    name: Union[None, str] = None             # 【含义】操作的名称\n",
    ") -> Tensor: pass"
   ]
  },
  {
   "cell_type": "markdown",
   "metadata": {},
   "source": [
    "<h1>square</h1>"
   ]
  },
  {
   "cell_type": "code",
   "execution_count": 6,
   "metadata": {
    "ExecuteTime": {
     "end_time": "2021-02-27T23:14:10.153317Z",
     "start_time": "2021-02-27T23:14:10.149323Z"
    }
   },
   "outputs": [],
   "source": [
    "def square(                                    # 将张量每个元素平方\n",
    "    x: Union[Tensor, np.ndarray],              # 【含义】待平方的张量\n",
    "    name: Union[None, str] = None             # 【含义】操作的名称\n",
    ") -> Tensor: pass"
   ]
  },
  {
   "cell_type": "markdown",
   "metadata": {},
   "source": [
    "<h1>reduce_sum</h1>"
   ]
  },
  {
   "cell_type": "code",
   "execution_count": 12,
   "metadata": {
    "ExecuteTime": {
     "end_time": "2021-02-27T23:20:35.213372Z",
     "start_time": "2021-02-27T23:20:35.209371Z"
    }
   },
   "outputs": [],
   "source": [
    "def reduce_sum(                                # 张量相加，用法同np.sum\n",
    "    input_tensor: Union[Tensor, np.ndarray],   # 【含义】待求和张量\n",
    "    axis: Union[None, int],                    # 【含义】对哪个维度相加\n",
    "    keepdims: bool = False,                   # 【含义】输出是否保持输入的shape\n",
    "    name: Union[None, str] = None             # 【含义】操作的名称\n",
    ") -> Tensor: pass"
   ]
  },
  {
   "cell_type": "code",
   "execution_count": null,
   "metadata": {},
   "outputs": [],
   "source": []
  }
 ],
 "metadata": {
  "kernelspec": {
   "display_name": "Python 3",
   "language": "python",
   "name": "python3"
  },
  "language_info": {
   "codemirror_mode": {
    "name": "ipython",
    "version": 3
   },
   "file_extension": ".py",
   "mimetype": "text/x-python",
   "name": "python",
   "nbconvert_exporter": "python",
   "pygments_lexer": "ipython3",
   "version": "3.7.3"
  },
  "toc": {
   "base_numbering": 1,
   "nav_menu": {},
   "number_sections": true,
   "sideBar": true,
   "skip_h1_title": false,
   "title_cell": "Table of Contents",
   "title_sidebar": "Contents",
   "toc_cell": false,
   "toc_position": {
    "height": "calc(100% - 180px)",
    "left": "10px",
    "top": "150px",
    "width": "251.038px"
   },
   "toc_section_display": true,
   "toc_window_display": true
  },
  "varInspector": {
   "cols": {
    "lenName": 16,
    "lenType": 16,
    "lenVar": 40
   },
   "kernels_config": {
    "python": {
     "delete_cmd_postfix": "",
     "delete_cmd_prefix": "del ",
     "library": "var_list.py",
     "varRefreshCmd": "print(var_dic_list())"
    },
    "r": {
     "delete_cmd_postfix": ") ",
     "delete_cmd_prefix": "rm(",
     "library": "var_list.r",
     "varRefreshCmd": "cat(var_dic_list()) "
    }
   },
   "types_to_exclude": [
    "module",
    "function",
    "builtin_function_or_method",
    "instance",
    "_Feature"
   ],
   "window_display": false
  }
 },
 "nbformat": 4,
 "nbformat_minor": 4
}
