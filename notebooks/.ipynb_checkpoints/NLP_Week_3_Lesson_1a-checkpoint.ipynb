{
 "cells": [
  {
   "cell_type": "code",
   "execution_count": null,
   "metadata": {
    "id": "zX4Kg8DUTKWO"
   },
   "outputs": [],
   "source": [
    "#@title Licensed under the Apache License, Version 2.0 (the \"License\");\n",
    "# you may not use this file except in compliance with the License.\n",
    "# You may obtain a copy of the License at\n",
    "#\n",
    "# https://www.apache.org/licenses/LICENSE-2.0\n",
    "#\n",
    "# Unless required by applicable law or agreed to in writing, software\n",
    "# distributed under the License is distributed on an \"AS IS\" BASIS,\n",
    "# WITHOUT WARRANTIES OR CONDITIONS OF ANY KIND, either express or implied.\n",
    "# See the License for the specific language governing permissions and\n",
    "# limitations under the License."
   ]
  },
  {
   "cell_type": "markdown",
   "metadata": {
    "id": "rFiCyWQ-NC5D"
   },
   "source": [
    "# Single Layer LSTM"
   ]
  },
  {
   "cell_type": "code",
   "execution_count": 1,
   "metadata": {
    "ExecuteTime": {
     "end_time": "2021-02-13T03:21:15.284026Z",
     "start_time": "2021-02-13T03:21:12.758017Z"
    },
    "colab": {
     "base_uri": "https://localhost:8080/"
    },
    "id": "Y20Lud2ZMBhW",
    "outputId": "0fa6284e-41a4-4a86-84f8-993545fd1e60"
   },
   "outputs": [
    {
     "name": "stdout",
     "output_type": "stream",
     "text": [
      "2.3.0\n"
     ]
    }
   ],
   "source": [
    "from __future__ import absolute_import, division, print_function, unicode_literals\n",
    "import matplotlib.pyplot as plt\n",
    "import tensorflow_datasets as tfds\n",
    "import tensorflow as tf\n",
    "from tensorflow.keras.models import Sequential\n",
    "from tensorflow.keras.layers import Dense, Flatten, GlobalAveragePooling1D, LSTM, Embedding, Bidirectional\n",
    "from tensorflow.compat.v1.data import get_output_shapes\n",
    "from tensorflow.keras.backend import clear_session\n",
    "from tensorflow.compat.v1 import reset_default_graph\n",
    "print(tf.__version__)"
   ]
  },
  {
   "cell_type": "code",
   "execution_count": 8,
   "metadata": {
    "ExecuteTime": {
     "end_time": "2021-02-13T03:01:39.899369Z",
     "start_time": "2021-02-13T03:01:39.770885Z"
    },
    "id": "MuHclBSrV8MT"
   },
   "outputs": [],
   "source": [
    "clear_session()\n",
    "reset_default_graph()\n",
    "# 设置显存自动增长\n",
    "physical_devices = tf.config.list_physical_devices('GPU')\n",
    "for physical_device in physical_devices:\n",
    "    tf.config.experimental.set_memory_growth(physical_device, enable=True)"
   ]
  },
  {
   "cell_type": "code",
   "execution_count": 9,
   "metadata": {
    "ExecuteTime": {
     "end_time": "2021-02-13T03:01:43.625995Z",
     "start_time": "2021-02-13T03:01:42.771016Z"
    },
    "colab": {
     "base_uri": "https://localhost:8080/"
    },
    "id": "AW-4Vo4TMUHb",
    "outputId": "6ab71e8f-ada8-4334-def5-9299d7d2127f"
   },
   "outputs": [
    {
     "name": "stderr",
     "output_type": "stream",
     "text": [
      "WARNING:absl:TFDS datasets with text encoding are deprecated and will be removed in a future version. Instead, you should use the plain text version and tokenize the text using `tensorflow_text` (See: https://www.tensorflow.org/tutorials/tensorflow_text/intro#tfdata_example)\n"
     ]
    }
   ],
   "source": [
    "# Get the data\n",
    "dataset, info = tfds.load('imdb_reviews/subwords8k', with_info=True, as_supervised=True)\n",
    "train_dataset: tf.raw_ops.PrefetchDataset = dataset[\"train\"]\n",
    "test_dataset: tf.raw_ops.PrefetchDataset = dataset[\"test\"]"
   ]
  },
  {
   "cell_type": "code",
   "execution_count": 10,
   "metadata": {
    "ExecuteTime": {
     "end_time": "2021-02-13T03:01:43.637982Z",
     "start_time": "2021-02-13T03:01:43.633985Z"
    },
    "id": "DVfhKpHsPOxq"
   },
   "outputs": [],
   "source": [
    "tokenizer: tfds.deprecated.text.SubwordTextEncoder = info.features['text'].encoder"
   ]
  },
  {
   "cell_type": "code",
   "execution_count": 11,
   "metadata": {
    "ExecuteTime": {
     "end_time": "2021-02-13T03:01:43.652981Z",
     "start_time": "2021-02-13T03:01:43.645989Z"
    },
    "id": "ffvRUI0_McDS"
   },
   "outputs": [],
   "source": [
    "BUFFER_SIZE = 10000\n",
    "BATCH_SIZE = 64\n",
    "\n",
    "train_dataset: tf.raw_ops.ShuffleDataset = train_dataset.shuffle(BUFFER_SIZE)\n",
    "train_dataset: tf.raw_ops.PaddedBatchDataset = train_dataset.padded_batch(BATCH_SIZE, get_output_shapes(train_dataset))\n",
    "test_dataset: tf.raw_ops.PaddedBatchDataset = test_dataset.padded_batch(BATCH_SIZE, get_output_shapes(test_dataset))"
   ]
  },
  {
   "cell_type": "code",
   "execution_count": 12,
   "metadata": {
    "ExecuteTime": {
     "end_time": "2021-02-13T03:01:44.705690Z",
     "start_time": "2021-02-13T03:01:44.368679Z"
    },
    "colab": {
     "base_uri": "https://localhost:8080/"
    },
    "id": "FxQooMEkMgur",
    "outputId": "3f25252e-1cca-4030-e393-466ab9ae5422"
   },
   "outputs": [
    {
     "name": "stdout",
     "output_type": "stream",
     "text": [
      "Model: \"IMDBsubwords_classifier\"\n",
      "_________________________________________________________________\n",
      "Layer (type)                 Output Shape              Param #   \n",
      "=================================================================\n",
      "embedding_1 (Embedding)      (None, None, 64)          523840    \n",
      "_________________________________________________________________\n",
      "LSTM_2 (Bidirectional)       (None, 128)               66048     \n",
      "_________________________________________________________________\n",
      "dense_3 (Dense)              (None, 64)                8256      \n",
      "_________________________________________________________________\n",
      "dense_4 (Dense)              (None, 1)                 65        \n",
      "=================================================================\n",
      "Total params: 598,209\n",
      "Trainable params: 598,209\n",
      "Non-trainable params: 0\n",
      "_________________________________________________________________\n"
     ]
    }
   ],
   "source": [
    "model = Sequential([\n",
    "    Embedding(input_dim=tokenizer.vocab_size, output_dim=64, name=\"embedding_1\", input_length=None),    # input_length=None表示长度可变\n",
    "    Bidirectional(LSTM(units=64, return_sequences=False), name=\"LSTM_2\"),\n",
    "    Dense(units=64, activation='relu', name=\"dense_3\"),\n",
    "    Dense(units=1, activation='sigmoid', name=\"dense_4\")\n",
    "], name=\"IMDBsubwords_classifier\")\n",
    "model.compile(\n",
    "    loss='binary_crossentropy', \n",
    "    optimizer='adam', \n",
    "    metrics=['accuracy']\n",
    ")\n",
    "model.summary()"
   ]
  },
  {
   "cell_type": "code",
   "execution_count": 13,
   "metadata": {
    "ExecuteTime": {
     "end_time": "2021-02-13T03:01:51.806046Z",
     "start_time": "2021-02-13T03:01:47.243672Z"
    },
    "colab": {
     "base_uri": "https://localhost:8080/"
    },
    "id": "7mlgzaRDMtF6",
    "outputId": "0b11735e-56f7-446e-fcba-ebcf1774e941"
   },
   "outputs": [
    {
     "name": "stdout",
     "output_type": "stream",
     "text": [
      "Epoch 1/10\n",
      "391/391 [==============================] - 64s 139ms/step - loss: 0.6071 - accuracy: 0.6447 - val_loss: 0.4946 - val_accuracy: 0.7879\n",
      "Epoch 2/10\n",
      "391/391 [==============================] - 54s 137ms/step - loss: 0.3658 - accuracy: 0.8551 - val_loss: 0.4962 - val_accuracy: 0.8352\n",
      "Epoch 3/10\n",
      "391/391 [==============================] - 54s 138ms/step - loss: 0.3321 - accuracy: 0.8635 - val_loss: 0.4431 - val_accuracy: 0.8150\n",
      "Epoch 4/10\n",
      "391/391 [==============================] - 55s 139ms/step - loss: 0.2518 - accuracy: 0.9034 - val_loss: 0.3941 - val_accuracy: 0.8356\n",
      "Epoch 5/10\n",
      "391/391 [==============================] - 54s 136ms/step - loss: 0.1952 - accuracy: 0.9298 - val_loss: 0.4329 - val_accuracy: 0.8322\n",
      "Epoch 6/10\n",
      "391/391 [==============================] - 54s 136ms/step - loss: 0.1866 - accuracy: 0.9274 - val_loss: 0.6364 - val_accuracy: 0.6466\n",
      "Epoch 7/10\n",
      "391/391 [==============================] - 54s 137ms/step - loss: 0.2889 - accuracy: 0.8780 - val_loss: 0.5157 - val_accuracy: 0.8284\n",
      "Epoch 8/10\n",
      "391/391 [==============================] - 54s 136ms/step - loss: 0.1301 - accuracy: 0.9555 - val_loss: 0.5591 - val_accuracy: 0.8326\n",
      "Epoch 9/10\n",
      "391/391 [==============================] - 54s 136ms/step - loss: 0.1086 - accuracy: 0.9638 - val_loss: 0.6473 - val_accuracy: 0.8132\n",
      "Epoch 10/10\n",
      "391/391 [==============================] - 54s 137ms/step - loss: 0.1237 - accuracy: 0.9569 - val_loss: 0.6123 - val_accuracy: 0.7668\n"
     ]
    }
   ],
   "source": [
    "NUM_EPOCHS = 10\n",
    "history = model.fit(\n",
    "    train_dataset, \n",
    "    validation_data=test_dataset,\n",
    "    epochs=NUM_EPOCHS, \n",
    "    workers=-1,\n",
    "    use_multiprocessing=True\n",
    ")"
   ]
  },
  {
   "cell_type": "code",
   "execution_count": 14,
   "metadata": {
    "id": "Mp1Z7P9pYRSK"
   },
   "outputs": [],
   "source": [
    "def plot_graphs(history, string):\n",
    "    plt.plot(history.history[string])\n",
    "    plt.plot(history.history['val_'+string])\n",
    "    plt.xlabel(\"Epochs\")\n",
    "    plt.ylabel(string)\n",
    "    plt.legend([string, 'val_'+string])\n",
    "    plt.show()"
   ]
  },
  {
   "cell_type": "code",
   "execution_count": 15,
   "metadata": {
    "colab": {
     "base_uri": "https://localhost:8080/",
     "height": 279
    },
    "id": "R_sX6ilIM515",
    "outputId": "6f17e6b1-366a-43a5-f385-5823beb166e5"
   },
   "outputs": [
    {
     "data": {
      "image/png": "[encoded data removed]",
      "text/plain": [
       "<Figure size 432x288 with 1 Axes>"
      ]
     },
     "metadata": {
      "needs_background": "light",
      "tags": []
     },
     "output_type": "display_data"
    }
   ],
   "source": [
    "plot_graphs(history, 'accuracy')"
   ]
  },
  {
   "cell_type": "code",
   "execution_count": 16,
   "metadata": {
    "colab": {
     "base_uri": "https://localhost:8080/",
     "height": 279
    },
    "id": "RFEXtKtqNARB",
    "outputId": "518e4ecd-7721-4dee-ddd9-7c77a21c5e91"
   },
   "outputs": [
    {
     "data": {
      "image/png": "[encoded data removed]",
      "text/plain": [
       "<Figure size 432x288 with 1 Axes>"
      ]
     },
     "metadata": {
      "needs_background": "light",
      "tags": []
     },
     "output_type": "display_data"
    }
   ],
   "source": [
    "plot_graphs(history, 'loss')"
   ]
  }
 ],
 "metadata": {
  "accelerator": "GPU",
  "colab": {
   "collapsed_sections": [],
   "name": "NLP_Week_3_Lesson_1a.ipynb",
   "provenance": [],
   "toc_visible": true
  },
  "kernelspec": {
   "display_name": "Python 3",
   "language": "python",
   "name": "python3"
  },
  "language_info": {
   "codemirror_mode": {
    "name": "ipython",
    "version": 3
   },
   "file_extension": ".py",
   "mimetype": "text/x-python",
   "name": "python",
   "nbconvert_exporter": "python",
   "pygments_lexer": "ipython3",
   "version": "3.7.3"
  },
  "toc": {
   "base_numbering": 1,
   "nav_menu": {},
   "number_sections": true,
   "sideBar": true,
   "skip_h1_title": false,
   "title_cell": "Table of Contents",
   "title_sidebar": "Contents",
   "toc_cell": false,
   "toc_position": {},
   "toc_section_display": true,
   "toc_window_display": false
  },
  "varInspector": {
   "cols": {
    "lenName": 16,
    "lenType": 16,
    "lenVar": 40
   },
   "kernels_config": {
    "python": {
     "delete_cmd_postfix": "",
     "delete_cmd_prefix": "del ",
     "library": "var_list.py",
     "varRefreshCmd": "print(var_dic_list())"
    },
    "r": {
     "delete_cmd_postfix": ") ",
     "delete_cmd_prefix": "rm(",
     "library": "var_list.r",
     "varRefreshCmd": "cat(var_dic_list()) "
    }
   },
   "types_to_exclude": [
    "module",
    "function",
    "builtin_function_or_method",
    "instance",
    "_Feature"
   ],
   "window_display": false
  }
 },
 "nbformat": 4,
 "nbformat_minor": 1
}
