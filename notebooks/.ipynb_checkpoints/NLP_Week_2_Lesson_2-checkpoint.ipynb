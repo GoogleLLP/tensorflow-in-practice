{
 "cells": [
  {
   "cell_type": "code",
   "execution_count": null,
   "metadata": {
    "id": "zX4Kg8DUTKWO"
   },
   "outputs": [],
   "source": [
    "#@title Licensed under the Apache License, Version 2.0 (the \"License\");\n",
    "# you may not use this file except in compliance with the License.\n",
    "# You may obtain a copy of the License at\n",
    "#\n",
    "# https://www.apache.org/licenses/LICENSE-2.0\n",
    "#\n",
    "# Unless required by applicable law or agreed to in writing, software\n",
    "# distributed under the License is distributed on an \"AS IS\" BASIS,\n",
    "# WITHOUT WARRANTIES OR CONDITIONS OF ANY KIND, either express or implied.\n",
    "# See the License for the specific language governing permissions and\n",
    "# limitations under the License."
   ]
  },
  {
   "cell_type": "markdown",
   "metadata": {
    "id": "view-in-github"
   },
   "source": [
    "<a href=\"https://colab.research.google.com/github/lmoroney/dlaicourse/blob/master/TensorFlow%20In%20Practice/Course%203%20-%20NLP/Course%203%20-%20Week%202%20-%20Lesson%202.ipynb\" target=\"_parent\"><img src=\"https://colab.research.google.com/assets/colab-badge.svg\" alt=\"Open In Colab\"/></a>"
   ]
  },
  {
   "cell_type": "code",
   "execution_count": null,
   "metadata": {
    "id": "BQVuQrZNkPn9"
   },
   "outputs": [],
   "source": [
    "!wget --no-check-certificate https://storage.googleapis.com/laurencemoroney-blog.appspot.com/sarcasm.json -O ../data/sarcasm/sarcasm.json"
   ]
  },
  {
   "cell_type": "code",
   "execution_count": 18,
   "metadata": {
    "ExecuteTime": {
     "end_time": "2021-02-13T02:02:57.170956Z",
     "start_time": "2021-02-13T02:02:57.165749Z"
    },
    "id": "XYYDvoskkE61"
   },
   "outputs": [
    {
     "name": "stdout",
     "output_type": "stream",
     "text": [
      "2.3.0\n"
     ]
    }
   ],
   "source": [
    "import json\n",
    "import io\n",
    "import numpy as np\n",
    "import matplotlib.pyplot as plt\n",
    "import tensorflow as tf\n",
    "from tensorflow.keras.models import Model, Sequential\n",
    "from tensorflow.keras.layers import Flatten, Dense, GlobalAveragePooling1D, Embedding\n",
    "from tensorflow.keras.preprocessing.text import Tokenizer\n",
    "from tensorflow.keras.preprocessing.sequence import pad_sequences\n",
    "print(tf.__version__)"
   ]
  },
  {
   "cell_type": "code",
   "execution_count": 2,
   "metadata": {
    "ExecuteTime": {
     "end_time": "2021-02-13T01:52:48.499793Z",
     "start_time": "2021-02-13T01:52:48.495823Z"
    },
    "id": "0eJSTTYnkJQd"
   },
   "outputs": [],
   "source": [
    "vocab_size = 10000\n",
    "embedding_dim = 16\n",
    "max_length = 100\n",
    "trunc_type='post'\n",
    "padding_type='post'\n",
    "oov_tok = \"<OOV>\"\n",
    "training_size = 20000"
   ]
  },
  {
   "cell_type": "code",
   "execution_count": 3,
   "metadata": {
    "ExecuteTime": {
     "end_time": "2021-02-13T01:53:09.044745Z",
     "start_time": "2021-02-13T01:53:08.975672Z"
    },
    "id": "oaLaaqhNkUPd"
   },
   "outputs": [],
   "source": [
    "with open(\"../data/sarcasm/sarcasm.json\", 'r') as f:\n",
    "    datastore = json.load(f)\n",
    "\n",
    "sentences = []\n",
    "labels = []\n",
    "\n",
    "for item in datastore:\n",
    "    sentences.append(item['headline'])\n",
    "    labels.append(item['is_sarcastic'])"
   ]
  },
  {
   "cell_type": "code",
   "execution_count": 4,
   "metadata": {
    "ExecuteTime": {
     "end_time": "2021-02-13T01:53:33.443107Z",
     "start_time": "2021-02-13T01:53:33.439143Z"
    },
    "id": "S1sD-7v0kYWk"
   },
   "outputs": [],
   "source": [
    "training_sentences: [str] = sentences[0:training_size]\n",
    "testing_sentences: [str] = sentences[training_size:]\n",
    "training_labels: [int] = labels[0:training_size]\n",
    "testing_labels: [int] = labels[training_size:]"
   ]
  },
  {
   "cell_type": "code",
   "execution_count": 5,
   "metadata": {
    "ExecuteTime": {
     "end_time": "2021-02-13T01:54:58.958371Z",
     "start_time": "2021-02-13T01:54:58.420278Z"
    },
    "id": "3u8UB0MCkZ5N"
   },
   "outputs": [],
   "source": [
    "tokenizer = Tokenizer(\n",
    "    num_words=vocab_size, \n",
    "    oov_token=oov_tok\n",
    ")\n",
    "tokenizer.fit_on_texts(training_sentences)\n",
    "word_index: dict = tokenizer.word_index\n",
    "\n",
    "training_sequences: [[int]] = tokenizer.texts_to_sequences(training_sentences)\n",
    "training_padded: np.ndarray = pad_sequences(\n",
    "    training_sequences, \n",
    "    maxlen=max_length, \n",
    "    padding=padding_type, \n",
    "    truncating=trunc_type\n",
    ")\n",
    "\n",
    "testing_sequences: [[int]] = tokenizer.texts_to_sequences(testing_sentences)\n",
    "testing_padded: np.ndarray = pad_sequences(\n",
    "    testing_sequences, \n",
    "    maxlen=max_length, \n",
    "    padding=padding_type, \n",
    "    truncating=trunc_type\n",
    ")"
   ]
  },
  {
   "cell_type": "code",
   "execution_count": 6,
   "metadata": {
    "ExecuteTime": {
     "end_time": "2021-02-13T01:55:07.521380Z",
     "start_time": "2021-02-13T01:55:07.511383Z"
    },
    "id": "GrAlWBKf99Ya"
   },
   "outputs": [],
   "source": [
    "training_padded = np.array(training_padded)\n",
    "training_labels = np.array(training_labels)\n",
    "testing_padded = np.array(testing_padded)\n",
    "testing_labels = np.array(testing_labels)"
   ]
  },
  {
   "cell_type": "code",
   "execution_count": 9,
   "metadata": {
    "ExecuteTime": {
     "end_time": "2021-02-13T01:57:45.860104Z",
     "start_time": "2021-02-13T01:57:44.839831Z"
    },
    "id": "FufaT4vlkiDE"
   },
   "outputs": [],
   "source": [
    "model = Sequential([\n",
    "    Embedding(input_dim=vocab_size, output_dim=embedding_dim, name=\"embedding_1\", input_length=max_length),\n",
    "    GlobalAveragePooling1D(name=\"embedding_2\"),\n",
    "    Dense(units=24, activation='relu', name=\"dense_2\"),\n",
    "    Dense(units=1, activation='sigmoid', name=\"dense_3\")\n",
    "], name=\"sarcasm_classifier\")\n",
    "model.compile(\n",
    "    loss='binary_crossentropy',\n",
    "    optimizer='adam',\n",
    "    metrics=['accuracy']\n",
    ")"
   ]
  },
  {
   "cell_type": "code",
   "execution_count": 10,
   "metadata": {
    "ExecuteTime": {
     "end_time": "2021-02-13T01:57:48.941363Z",
     "start_time": "2021-02-13T01:57:48.934364Z"
    },
    "id": "XfDt1hmYkiys"
   },
   "outputs": [
    {
     "name": "stdout",
     "output_type": "stream",
     "text": [
      "Model: \"sarcasm_classifier\"\n",
      "_________________________________________________________________\n",
      "Layer (type)                 Output Shape              Param #   \n",
      "=================================================================\n",
      "embedding_1 (Embedding)      (None, 100, 16)           160000    \n",
      "_________________________________________________________________\n",
      "embedding_2 (GlobalAveragePo (None, 16)                0         \n",
      "_________________________________________________________________\n",
      "dense_2 (Dense)              (None, 24)                408       \n",
      "_________________________________________________________________\n",
      "dense_3 (Dense)              (None, 1)                 25        \n",
      "=================================================================\n",
      "Total params: 160,433\n",
      "Trainable params: 160,433\n",
      "Non-trainable params: 0\n",
      "_________________________________________________________________\n"
     ]
    }
   ],
   "source": [
    "model.summary()"
   ]
  },
  {
   "cell_type": "code",
   "execution_count": 11,
   "metadata": {
    "ExecuteTime": {
     "end_time": "2021-02-13T01:59:46.179991Z",
     "start_time": "2021-02-13T01:58:45.902113Z"
    },
    "id": "2DTKQFf1kkyc"
   },
   "outputs": [
    {
     "name": "stdout",
     "output_type": "stream",
     "text": [
      "Epoch 1/30\n",
      "625/625 [==============================] - 2s 3ms/step - loss: 0.6658 - accuracy: 0.5854 - val_loss: 0.5830 - val_accuracy: 0.7482\n",
      "Epoch 2/30\n",
      "625/625 [==============================] - 2s 3ms/step - loss: 0.4379 - accuracy: 0.8267 - val_loss: 0.3888 - val_accuracy: 0.8378\n",
      "Epoch 3/30\n",
      "625/625 [==============================] - 2s 3ms/step - loss: 0.3148 - accuracy: 0.8750 - val_loss: 0.3546 - val_accuracy: 0.8517\n",
      "Epoch 4/30\n",
      "625/625 [==============================] - 2s 3ms/step - loss: 0.2630 - accuracy: 0.8955 - val_loss: 0.3470 - val_accuracy: 0.8539\n",
      "Epoch 5/30\n",
      "625/625 [==============================] - 2s 3ms/step - loss: 0.2258 - accuracy: 0.9130 - val_loss: 0.3499 - val_accuracy: 0.8541\n",
      "Epoch 6/30\n",
      "625/625 [==============================] - 2s 3ms/step - loss: 0.1985 - accuracy: 0.9233 - val_loss: 0.3576 - val_accuracy: 0.8502\n",
      "Epoch 7/30\n",
      "625/625 [==============================] - 2s 3ms/step - loss: 0.1764 - accuracy: 0.9342 - val_loss: 0.3636 - val_accuracy: 0.8527\n",
      "Epoch 8/30\n",
      "625/625 [==============================] - 2s 3ms/step - loss: 0.1590 - accuracy: 0.9409 - val_loss: 0.3762 - val_accuracy: 0.8535\n",
      "Epoch 9/30\n",
      "625/625 [==============================] - 2s 3ms/step - loss: 0.1461 - accuracy: 0.9463 - val_loss: 0.4010 - val_accuracy: 0.8463\n",
      "Epoch 10/30\n",
      "625/625 [==============================] - 2s 3ms/step - loss: 0.1303 - accuracy: 0.9536 - val_loss: 0.4077 - val_accuracy: 0.8502\n",
      "Epoch 11/30\n",
      "625/625 [==============================] - 2s 3ms/step - loss: 0.1183 - accuracy: 0.9595 - val_loss: 0.4396 - val_accuracy: 0.8435\n",
      "Epoch 12/30\n",
      "625/625 [==============================] - 2s 3ms/step - loss: 0.1082 - accuracy: 0.9635 - val_loss: 0.4498 - val_accuracy: 0.8465\n",
      "Epoch 13/30\n",
      "625/625 [==============================] - 2s 3ms/step - loss: 0.0995 - accuracy: 0.9671 - val_loss: 0.4855 - val_accuracy: 0.8396\n",
      "Epoch 14/30\n",
      "625/625 [==============================] - 2s 3ms/step - loss: 0.0909 - accuracy: 0.9696 - val_loss: 0.4999 - val_accuracy: 0.8426\n",
      "Epoch 15/30\n",
      "625/625 [==============================] - 2s 3ms/step - loss: 0.0852 - accuracy: 0.9721 - val_loss: 0.5331 - val_accuracy: 0.8368\n",
      "Epoch 16/30\n",
      "625/625 [==============================] - 2s 3ms/step - loss: 0.0768 - accuracy: 0.9751 - val_loss: 0.5790 - val_accuracy: 0.8313\n",
      "Epoch 17/30\n",
      "625/625 [==============================] - 2s 3ms/step - loss: 0.0700 - accuracy: 0.9783 - val_loss: 0.5872 - val_accuracy: 0.8337\n",
      "Epoch 18/30\n",
      "625/625 [==============================] - 2s 3ms/step - loss: 0.0647 - accuracy: 0.9800 - val_loss: 0.6173 - val_accuracy: 0.8310\n",
      "Epoch 19/30\n",
      "625/625 [==============================] - 2s 3ms/step - loss: 0.0597 - accuracy: 0.9804 - val_loss: 0.6768 - val_accuracy: 0.8226\n",
      "Epoch 20/30\n",
      "625/625 [==============================] - 2s 3ms/step - loss: 0.0558 - accuracy: 0.9819 - val_loss: 0.7114 - val_accuracy: 0.8225\n",
      "Epoch 21/30\n",
      "625/625 [==============================] - 2s 3ms/step - loss: 0.0507 - accuracy: 0.9854 - val_loss: 0.7195 - val_accuracy: 0.8261\n",
      "Epoch 22/30\n",
      "625/625 [==============================] - 2s 3ms/step - loss: 0.0474 - accuracy: 0.9857 - val_loss: 0.7675 - val_accuracy: 0.8222\n",
      "Epoch 23/30\n",
      "625/625 [==============================] - 2s 3ms/step - loss: 0.0430 - accuracy: 0.9879 - val_loss: 0.7980 - val_accuracy: 0.8213\n",
      "Epoch 24/30\n",
      "625/625 [==============================] - 2s 3ms/step - loss: 0.0406 - accuracy: 0.9884 - val_loss: 0.8207 - val_accuracy: 0.8214\n",
      "Epoch 25/30\n",
      "625/625 [==============================] - 2s 3ms/step - loss: 0.0377 - accuracy: 0.9890 - val_loss: 0.8826 - val_accuracy: 0.8174\n",
      "Epoch 26/30\n",
      "625/625 [==============================] - 2s 3ms/step - loss: 0.0365 - accuracy: 0.9892 - val_loss: 0.8937 - val_accuracy: 0.8195\n",
      "Epoch 27/30\n",
      "625/625 [==============================] - 2s 3ms/step - loss: 0.0319 - accuracy: 0.9910 - val_loss: 0.9672 - val_accuracy: 0.8132\n",
      "Epoch 28/30\n",
      "625/625 [==============================] - 2s 3ms/step - loss: 0.0310 - accuracy: 0.9912 - val_loss: 0.9612 - val_accuracy: 0.8149\n",
      "Epoch 29/30\n",
      "625/625 [==============================] - 2s 3ms/step - loss: 0.0280 - accuracy: 0.9923 - val_loss: 0.9987 - val_accuracy: 0.8123\n",
      "Epoch 30/30\n",
      "625/625 [==============================] - 2s 3ms/step - loss: 0.0247 - accuracy: 0.9935 - val_loss: 1.0473 - val_accuracy: 0.8150\n"
     ]
    }
   ],
   "source": [
    "num_epochs = 30\n",
    "history = model.fit(\n",
    "    x=training_padded, \n",
    "    y=training_labels, \n",
    "    validation_data=(testing_padded, testing_labels), \n",
    "    epochs=num_epochs,\n",
    "    workers=-1,\n",
    "    use_multiprocessing=True\n",
    ")"
   ]
  },
  {
   "cell_type": "code",
   "execution_count": 14,
   "metadata": {
    "ExecuteTime": {
     "end_time": "2021-02-13T02:01:44.656099Z",
     "start_time": "2021-02-13T02:01:44.429066Z"
    },
    "id": "2HYfBKXjkmU8"
   },
   "outputs": [
    {
     "data": {
      "image/png": "[encoded data removed]",
      "text/plain": [
       "<Figure size 432x288 with 1 Axes>"
      ]
     },
     "metadata": {
      "needs_background": "light"
     },
     "output_type": "display_data"
    },
    {
     "data": {
      "image/png": "[encoded data removed]",
      "text/plain": [
       "<Figure size 432x288 with 1 Axes>"
      ]
     },
     "metadata": {
      "needs_background": "light"
     },
     "output_type": "display_data"
    }
   ],
   "source": [
    "def plot_graphs(history, string):\n",
    "    plt.plot(history.history[string])\n",
    "    plt.plot(history.history['val_'+string])\n",
    "    plt.xlabel(\"Epochs\")\n",
    "    plt.ylabel(string)\n",
    "    plt.legend([string, 'val_'+string])\n",
    "    plt.show()\n",
    "\n",
    "plot_graphs(history, \"accuracy\")\n",
    "plot_graphs(history, \"loss\")"
   ]
  },
  {
   "cell_type": "code",
   "execution_count": 15,
   "metadata": {
    "ExecuteTime": {
     "end_time": "2021-02-13T02:01:53.225965Z",
     "start_time": "2021-02-13T02:01:53.212978Z"
    },
    "id": "7SBdAZAenvzL"
   },
   "outputs": [
    {
     "name": "stdout",
     "output_type": "stream",
     "text": [
      "former <OOV> store clerk sues over secret 'black <OOV> for minority shoppers ? ? ? ? ? ? ? ? ? ? ? ? ? ? ? ? ? ? ? ? ? ? ? ? ? ? ? ? ? ? ? ? ? ? ? ? ? ? ? ? ? ? ? ? ? ? ? ? ? ? ? ? ? ? ? ? ? ? ? ? ? ? ? ? ? ? ? ? ? ? ? ? ? ? ? ? ? ? ? ? ? ? ? ? ? ? ? ?\n",
      "mom starting to fear son's web series closest thing she will have to grandchild\n",
      "1\n"
     ]
    }
   ],
   "source": [
    "reverse_word_index = dict([(value, key) for (key, value) in word_index.items()])\n",
    "\n",
    "def decode_sentence(text):\n",
    "    return ' '.join([reverse_word_index.get(i, '?') for i in text])\n",
    "\n",
    "print(decode_sentence(training_padded[0]))\n",
    "print(training_sentences[2])\n",
    "print(labels[2])"
   ]
  },
  {
   "cell_type": "code",
   "execution_count": 17,
   "metadata": {
    "ExecuteTime": {
     "end_time": "2021-02-13T02:02:45.132792Z",
     "start_time": "2021-02-13T02:02:45.109795Z"
    },
    "id": "c9MqihtEkzQ9"
   },
   "outputs": [
    {
     "name": "stdout",
     "output_type": "stream",
     "text": [
      "(10000, 16)\n"
     ]
    }
   ],
   "source": [
    "e: Embedding = model.layers[0]\n",
    "weights: np.ndarray = e.get_weights()[0]\n",
    "print(weights.shape) # shape: (vocab_size, embedding_dim)"
   ]
  },
  {
   "cell_type": "code",
   "execution_count": 19,
   "metadata": {
    "ExecuteTime": {
     "end_time": "2021-02-13T02:03:53.897142Z",
     "start_time": "2021-02-13T02:03:53.774133Z"
    },
    "id": "LoBXVffknldU"
   },
   "outputs": [],
   "source": [
    "out_v = io.open('../data/sarcasm/vecs.tsv', 'w', encoding='utf-8')\n",
    "out_m = io.open('../data/sarcasm/meta.tsv', 'w', encoding='utf-8')\n",
    "for word_num in range(1, vocab_size):\n",
    "    word = reverse_word_index[word_num]\n",
    "    embeddings = weights[word_num]\n",
    "    out_m.write(word + \"\\n\")\n",
    "    out_v.write('\\t'.join([str(x) for x in embeddings]) + \"\\n\")\n",
    "out_v.close()\n",
    "out_m.close()"
   ]
  },
  {
   "cell_type": "markdown",
   "metadata": {},
   "source": [
    "<b>把\"../data/sarcasm/vecs.tsv\"文件和\"../data/sarcasm/meta.tsv\"文件放到<a href=\"https://projector.tensorflow.org/\" target=\"_blank\">这个网址</a>进行可视化展示</b>"
   ]
  },
  {
   "cell_type": "code",
   "execution_count": 20,
   "metadata": {
    "ExecuteTime": {
     "end_time": "2021-02-13T02:04:26.757473Z",
     "start_time": "2021-02-13T02:04:26.741459Z"
    },
    "id": "U4eZ5HtVnnEE"
   },
   "outputs": [
    {
     "name": "stdout",
     "output_type": "stream",
     "text": [
      "No module named 'termios'\n"
     ]
    }
   ],
   "source": [
    "try:\n",
    "    from google.colab import files\n",
    "except ImportError as e:\n",
    "    print(e)\n",
    "else:\n",
    "    files.download('vecs.tsv')\n",
    "    files.download('meta.tsv')"
   ]
  },
  {
   "cell_type": "code",
   "execution_count": 21,
   "metadata": {
    "ExecuteTime": {
     "end_time": "2021-02-13T02:04:53.918716Z",
     "start_time": "2021-02-13T02:04:53.813686Z"
    },
    "id": "cG8-ArY-qDcz"
   },
   "outputs": [
    {
     "name": "stdout",
     "output_type": "stream",
     "text": [
      "[[9.4589764e-01]\n",
      " [3.5659587e-06]]\n"
     ]
    }
   ],
   "source": [
    "sentence: [str] = [\"granny starting to fear spiders in the garden might be real\", \"game of thrones season finale showing this sunday night\"]\n",
    "sequences: [[int]] = tokenizer.texts_to_sequences(sentence)\n",
    "padded: np.ndarray = pad_sequences(sequences, maxlen=max_length, padding=padding_type, truncating=trunc_type)\n",
    "print(model.predict(padded))"
   ]
  },
  {
   "cell_type": "code",
   "execution_count": null,
   "metadata": {},
   "outputs": [],
   "source": []
  }
 ],
 "metadata": {
  "accelerator": "GPU",
  "colab": {
   "collapsed_sections": [],
   "name": "Course 3 - Week 2 - Lesson 2.ipynb",
   "provenance": [],
   "toc_visible": true
  },
  "kernelspec": {
   "display_name": "Python 3",
   "language": "python",
   "name": "python3"
  },
  "language_info": {
   "codemirror_mode": {
    "name": "ipython",
    "version": 3
   },
   "file_extension": ".py",
   "mimetype": "text/x-python",
   "name": "python",
   "nbconvert_exporter": "python",
   "pygments_lexer": "ipython3",
   "version": "3.7.3"
  },
  "toc": {
   "base_numbering": 1,
   "nav_menu": {},
   "number_sections": true,
   "sideBar": true,
   "skip_h1_title": false,
   "title_cell": "Table of Contents",
   "title_sidebar": "Contents",
   "toc_cell": false,
   "toc_position": {},
   "toc_section_display": true,
   "toc_window_display": true
  },
  "varInspector": {
   "cols": {
    "lenName": 16,
    "lenType": 16,
    "lenVar": 40
   },
   "kernels_config": {
    "python": {
     "delete_cmd_postfix": "",
     "delete_cmd_prefix": "del ",
     "library": "var_list.py",
     "varRefreshCmd": "print(var_dic_list())"
    },
    "r": {
     "delete_cmd_postfix": ") ",
     "delete_cmd_prefix": "rm(",
     "library": "var_list.r",
     "varRefreshCmd": "cat(var_dic_list()) "
    }
   },
   "position": {
    "height": "163.4px",
    "left": "1165.2px",
    "right": "20px",
    "top": "120px",
    "width": "350px"
   },
   "types_to_exclude": [
    "module",
    "function",
    "builtin_function_or_method",
    "instance",
    "_Feature"
   ],
   "window_display": true
  }
 },
 "nbformat": 4,
 "nbformat_minor": 1
}
