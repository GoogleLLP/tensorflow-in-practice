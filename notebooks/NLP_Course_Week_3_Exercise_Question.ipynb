{
  "nbformat": 4,
  "nbformat_minor": 0,
  "metadata": {
    "accelerator": "GPU",
    "colab": {
      "name": "NLP Course - Week 3 Exercise Question.ipynb",
      "provenance": [],
      "toc_visible": true
    },
    "kernelspec": {
      "display_name": "Python 3",
      "name": "python3"
    }
  },
  "cells": [
    {
      "cell_type": "code",
      "metadata": {
        "id": "zX4Kg8DUTKWO"
      },
      "source": [
        "#@title Licensed under the Apache License, Version 2.0 (the \"License\");\n",
        "# you may not use this file except in compliance with the License.\n",
        "# You may obtain a copy of the License at\n",
        "#\n",
        "# https://www.apache.org/licenses/LICENSE-2.0\n",
        "#\n",
        "# Unless required by applicable law or agreed to in writing, software\n",
        "# distributed under the License is distributed on an \"AS IS\" BASIS,\n",
        "# WITHOUT WARRANTIES OR CONDITIONS OF ANY KIND, either express or implied.\n",
        "# See the License for the specific language governing permissions and\n",
        "# limitations under the License."
      ],
      "execution_count": 40,
      "outputs": []
    },
    {
      "cell_type": "code",
      "metadata": {
        "id": "hmA6EzkQJ5jt"
      },
      "source": [
        "import json\n",
        "import tensorflow as tf\n",
        "import csv\n",
        "import random\n",
        "import numpy as np\n",
        "\n",
        "from tensorflow.keras.layers import Dense, Conv1D, Flatten, LSTM, Embedding, Bidirectional, Dropout, MaxPool1D\n",
        "from tensorflow.keras.preprocessing.text import Tokenizer\n",
        "from tensorflow.keras.preprocessing.sequence import pad_sequences\n",
        "from tensorflow.keras.utils import to_categorical\n",
        "from tensorflow.keras import regularizers\n",
        "\n",
        "\n",
        "embedding_dim = 100\n",
        "max_length = 16\n",
        "trunc_type='post'\n",
        "padding_type='post'\n",
        "oov_tok = \"<OOV>\"\n",
        "training_size = 160000 #Your dataset size here. Experiment using smaller values (i.e. 16000), but don't forget to train on at least 160000 to see the best effects\n",
        "test_portion=.1\n",
        "\n",
        "corpus = []\n"
      ],
      "execution_count": 41,
      "outputs": []
    },
    {
      "cell_type": "code",
      "metadata": {
        "colab": {
          "base_uri": "https://localhost:8080/"
        },
        "id": "bM0l_dORKqE0",
        "outputId": "7bbb3edf-8f6d-47cf-dd17-851143f757d6"
      },
      "source": [
        "# Note that I cleaned the Stanford dataset to remove LATIN1 encoding to make it easier for Python CSV reader\n",
        "# You can do that yourself with:\n",
        "# iconv -f LATIN1 -t UTF8 training.1600000.processed.noemoticon.csv -o training_cleaned.csv\n",
        "# I then hosted it on my site to make it easier to use in this notebook\n",
        "\n",
        "!wget --no-check-certificate \\\n",
        "    https://storage.googleapis.com/laurencemoroney-blog.appspot.com/training_cleaned.csv \\\n",
        "    -O /tmp/training_cleaned.csv\n",
        "\n",
        "num_sentences = 0\n",
        "\n",
        "with open(\"/tmp/training_cleaned.csv\") as csvfile:\n",
        "    reader = csv.reader(csvfile, delimiter=',')\n",
        "    for row in reader:\n",
        "      # Your Code here. Create list items where the first item is the text, found in row[5], and the second is the label. Note that the label is a '0' or a '4' in the text. When it's the former, make\n",
        "      # your label to be 0, otherwise 1. Keep a count of the number of sentences in num_sentences\n",
        "        list_item=[]\n",
        "        # YOUR CODE HERE\n",
        "        list_item.append(row[5])\n",
        "        if row[0] == \"0\":\n",
        "          list_item.append(0)\n",
        "        else:\n",
        "          list_item.append(1)\n",
        "        num_sentences = num_sentences + 1\n",
        "        corpus.append(list_item)\n"
      ],
      "execution_count": 42,
      "outputs": [
        {
          "output_type": "stream",
          "text": [
            "--2021-01-16 05:31:17--  https://storage.googleapis.com/laurencemoroney-blog.appspot.com/training_cleaned.csv\n",
            "Resolving storage.googleapis.com (storage.googleapis.com)... 74.125.20.128, 74.125.195.128, 74.125.197.128, ...\n",
            "Connecting to storage.googleapis.com (storage.googleapis.com)|74.125.20.128|:443... connected.\n",
            "HTTP request sent, awaiting response... 200 OK\n",
            "Length: 238942690 (228M) [application/octet-stream]\n",
            "Saving to: ‘/tmp/training_cleaned.csv’\n",
            "\n",
            "/tmp/training_clean 100%[===================>] 227.87M   233MB/s    in 1.0s    \n",
            "\n",
            "2021-01-16 05:31:18 (233 MB/s) - ‘/tmp/training_cleaned.csv’ saved [238942690/238942690]\n",
            "\n"
          ],
          "name": "stdout"
        }
      ]
    },
    {
      "cell_type": "code",
      "metadata": {
        "colab": {
          "base_uri": "https://localhost:8080/"
        },
        "id": "3kxblBUjEUX-",
        "outputId": "a0ec490c-8d6d-4894-f18b-c6e548ffea79"
      },
      "source": [
        "print(num_sentences)\n",
        "print(len(corpus))\n",
        "print(corpus[1])\n",
        "\n",
        "# Expected Output:\n",
        "# 1600000\n",
        "# 1600000\n",
        "# [\"is upset that he can't update his Facebook by texting it... and might cry as a result  School today also. Blah!\", 0]"
      ],
      "execution_count": 43,
      "outputs": [
        {
          "output_type": "stream",
          "text": [
            "1600000\n",
            "1600000\n",
            "[\"is upset that he can't update his Facebook by texting it... and might cry as a result  School today also. Blah!\", 0]\n"
          ],
          "name": "stdout"
        }
      ]
    },
    {
      "cell_type": "code",
      "metadata": {
        "id": "ohOGz24lsNAD"
      },
      "source": [
        "sentences=[]\n",
        "labels=[]\n",
        "random.shuffle(corpus)\n",
        "for x in range(training_size):\n",
        "    sentences.append(corpus[x][0]) # YOUR CODE HERE\n",
        "    labels.append(corpus[x][1]) # YOUR CODE HERE\n",
        "\n",
        "\n",
        "tokenizer = Tokenizer()\n",
        "tokenizer.fit_on_texts(\n",
        "    # YOUR CODE HERE\n",
        "    sentences\n",
        ")\n",
        "\n",
        "word_index = tokenizer.word_index\n",
        "vocab_size=len(word_index) # YOUR CODE HERE\n",
        "\n",
        "sequences = tokenizer.texts_to_sequences(sentences) # YOUR CODE HERE\n",
        "padded = pad_sequences(sequences) # YOUR CODE HERE\n",
        "\n",
        "split = int(test_portion * training_size)\n",
        "\n",
        "test_sequences = padded[0:split] # YOUR CODE HERE\n",
        "training_sequences = padded[split:] # YOUR CODE HERE\n",
        "test_labels = labels[0:split] # YOUR CODE HERE\n",
        "training_labels = labels[split:] # YOUR CODE HERE"
      ],
      "execution_count": 44,
      "outputs": []
    },
    {
      "cell_type": "code",
      "metadata": {
        "colab": {
          "base_uri": "https://localhost:8080/"
        },
        "id": "gIrtRem1En3N",
        "outputId": "f155ae87-1484-4c6d-a829-6073794a6585"
      },
      "source": [
        "print(vocab_size)\n",
        "print(word_index['i'])\n",
        "# Expected Output\n",
        "# 138858\n",
        "# 1"
      ],
      "execution_count": 45,
      "outputs": [
        {
          "output_type": "stream",
          "text": [
            "138861\n",
            "1\n"
          ],
          "name": "stdout"
        }
      ]
    },
    {
      "cell_type": "code",
      "metadata": {
        "colab": {
          "base_uri": "https://localhost:8080/"
        },
        "id": "C1zdgJkusRh0",
        "outputId": "34c035ea-9174-49f1-ecb8-bfd07a941c59"
      },
      "source": [
        "# Note this is the 100 dimension version of GloVe from Stanford\n",
        "# I unzipped and hosted it on my site to make this notebook easier\n",
        "!wget --no-check-certificate \\\n",
        "    https://storage.googleapis.com/laurencemoroney-blog.appspot.com/glove.6B.100d.txt \\\n",
        "    -O /tmp/glove.6B.100d.txt\n",
        "embeddings_index = {};\n",
        "with open('/tmp/glove.6B.100d.txt') as f:\n",
        "    for line in f:\n",
        "        values = line.split();\n",
        "        word = values[0];\n",
        "        coefs = np.asarray(values[1:], dtype='float32');\n",
        "        embeddings_index[word] = coefs;\n",
        "\n",
        "embeddings_matrix = np.zeros((vocab_size+1, embedding_dim));\n",
        "for word, i in word_index.items():\n",
        "    embedding_vector = embeddings_index.get(word);\n",
        "    if embedding_vector is not None:\n",
        "        embeddings_matrix[i] = embedding_vector;"
      ],
      "execution_count": 46,
      "outputs": [
        {
          "output_type": "stream",
          "text": [
            "--2021-01-16 05:31:30--  https://storage.googleapis.com/laurencemoroney-blog.appspot.com/glove.6B.100d.txt\n",
            "Resolving storage.googleapis.com (storage.googleapis.com)... 74.125.195.128, 74.125.142.128, 74.125.20.128, ...\n",
            "Connecting to storage.googleapis.com (storage.googleapis.com)|74.125.195.128|:443... connected.\n",
            "HTTP request sent, awaiting response... 200 OK\n",
            "Length: 347116733 (331M) [text/plain]\n",
            "Saving to: ‘/tmp/glove.6B.100d.txt’\n",
            "\n",
            "/tmp/glove.6B.100d. 100%[===================>] 331.04M   230MB/s    in 1.4s    \n",
            "\n",
            "2021-01-16 05:31:31 (230 MB/s) - ‘/tmp/glove.6B.100d.txt’ saved [347116733/347116733]\n",
            "\n"
          ],
          "name": "stdout"
        }
      ]
    },
    {
      "cell_type": "code",
      "metadata": {
        "colab": {
          "base_uri": "https://localhost:8080/"
        },
        "id": "71NLk_lpFLNt",
        "outputId": "1ca1db17-edb3-4379-b3bb-cd4a5a686f48"
      },
      "source": [
        "print(len(embeddings_matrix))\n",
        "# Expected Output\n",
        "# 138859"
      ],
      "execution_count": 47,
      "outputs": [
        {
          "output_type": "stream",
          "text": [
            "138862\n"
          ],
          "name": "stdout"
        }
      ]
    },
    {
      "cell_type": "code",
      "metadata": {
        "colab": {
          "base_uri": "https://localhost:8080/"
        },
        "id": "0q2MgpXHuVff",
        "outputId": "17b9a203-b2dc-499b-86ef-bada40515993"
      },
      "source": [
        "model = tf.keras.Sequential([\r\n",
        "    Embedding(vocab_size+1, embedding_dim, input_length=max_length, weights=[embeddings_matrix], trainable=False, name=\"embedding_1\"),\r\n",
        "    # YOUR CODE HERE - experiment with combining different types, such as convolutions and LSTMs\r\n",
        "    Conv1D(filters=64, kernel_size=5, activation=\"relu\", name=\"conv1d_2\"),\r\n",
        "    Dense(units=64, activation=\"relu\", name=\"dense_3\"),\r\n",
        "    Dense(units=1, activation=\"sigmoid\", name=\"dense_4\")\r\n",
        "])\r\n",
        "model.compile(\r\n",
        "    # YOUR CODE HERE\r\n",
        "    optimizer=\"adam\",\r\n",
        "    loss=\"binary_crossentropy\",\r\n",
        "    metrics=[\"accuracy\"]\r\n",
        ")\r\n",
        "model.summary()\r\n",
        "\r\n",
        "num_epochs = 50\r\n",
        "history = model.fit(\r\n",
        "    training_sequences, \r\n",
        "    np.array(training_labels), \r\n",
        "    epochs=num_epochs, \r\n",
        "    validation_data=(test_sequences, np.array(test_labels)), \r\n",
        "    workers=-1,\r\n",
        "    use_multiprocessing=True\r\n",
        ")\r\n",
        "\r\n",
        "print(\"Training Complete\")\r\n"
      ],
      "execution_count": 57,
      "outputs": [
        {
          "output_type": "stream",
          "text": [
            "Model: \"sequential_8\"\n",
            "_________________________________________________________________\n",
            "Layer (type)                 Output Shape              Param #   \n",
            "=================================================================\n",
            "embedding_1 (Embedding)      (None, 16, 100)           13886200  \n",
            "_________________________________________________________________\n",
            "conv1d_2 (Conv1D)            (None, 12, 64)            32064     \n",
            "_________________________________________________________________\n",
            "dense_3 (Dense)              (None, 12, 64)            4160      \n",
            "_________________________________________________________________\n",
            "dense_4 (Dense)              (None, 12, 1)             65        \n",
            "=================================================================\n",
            "Total params: 13,922,489\n",
            "Trainable params: 36,289\n",
            "Non-trainable params: 13,886,200\n",
            "_________________________________________________________________\n",
            "Epoch 1/50\n",
            "WARNING:tensorflow:Model was constructed with shape (None, 16) for input KerasTensor(type_spec=TensorSpec(shape=(None, 16), dtype=tf.float32, name='embedding_1_input'), name='embedding_1_input', description=\"created by layer 'embedding_1_input'\"), but it was called on an input with incompatible shape (32, 36).\n",
            "WARNING:tensorflow:Model was constructed with shape (None, 16) for input KerasTensor(type_spec=TensorSpec(shape=(None, 16), dtype=tf.float32, name='embedding_1_input'), name='embedding_1_input', description=\"created by layer 'embedding_1_input'\"), but it was called on an input with incompatible shape (32, 36).\n",
            "4491/4500 [============================>.] - ETA: 0s - loss: 0.6780 - accuracy: 0.5464WARNING:tensorflow:Model was constructed with shape (None, 16) for input KerasTensor(type_spec=TensorSpec(shape=(None, 16), dtype=tf.float32, name='embedding_1_input'), name='embedding_1_input', description=\"created by layer 'embedding_1_input'\"), but it was called on an input with incompatible shape (32, 36).\n",
            "4500/4500 [==============================] - 12s 3ms/step - loss: 0.6780 - accuracy: 0.5465 - val_loss: 0.6699 - val_accuracy: 0.5620\n",
            "Epoch 2/50\n",
            "4500/4500 [==============================] - 13s 3ms/step - loss: 0.6682 - accuracy: 0.5628 - val_loss: 0.6686 - val_accuracy: 0.5637\n",
            "Epoch 3/50\n",
            "4500/4500 [==============================] - 12s 3ms/step - loss: 0.6660 - accuracy: 0.5659 - val_loss: 0.6674 - val_accuracy: 0.5651\n",
            "Epoch 4/50\n",
            "4500/4500 [==============================] - 12s 3ms/step - loss: 0.6648 - accuracy: 0.5664 - val_loss: 0.6668 - val_accuracy: 0.5657\n",
            "Epoch 5/50\n",
            "4500/4500 [==============================] - 12s 3ms/step - loss: 0.6637 - accuracy: 0.5672 - val_loss: 0.6661 - val_accuracy: 0.5665\n",
            "Epoch 6/50\n",
            "4500/4500 [==============================] - 12s 3ms/step - loss: 0.6627 - accuracy: 0.5692 - val_loss: 0.6674 - val_accuracy: 0.5652\n",
            "Epoch 7/50\n",
            "4500/4500 [==============================] - 12s 3ms/step - loss: 0.6619 - accuracy: 0.5692 - val_loss: 0.6663 - val_accuracy: 0.5664\n",
            "Epoch 8/50\n",
            "4500/4500 [==============================] - 12s 3ms/step - loss: 0.6617 - accuracy: 0.5693 - val_loss: 0.6683 - val_accuracy: 0.5652\n",
            "Epoch 9/50\n",
            "4500/4500 [==============================] - 12s 3ms/step - loss: 0.6608 - accuracy: 0.5721 - val_loss: 0.6661 - val_accuracy: 0.5667\n",
            "Epoch 10/50\n",
            "4500/4500 [==============================] - 12s 3ms/step - loss: 0.6601 - accuracy: 0.5717 - val_loss: 0.6659 - val_accuracy: 0.5665\n",
            "Epoch 11/50\n",
            "4500/4500 [==============================] - 12s 3ms/step - loss: 0.6601 - accuracy: 0.5711 - val_loss: 0.6662 - val_accuracy: 0.5663\n",
            "Epoch 12/50\n",
            "4500/4500 [==============================] - 12s 3ms/step - loss: 0.6595 - accuracy: 0.5717 - val_loss: 0.6661 - val_accuracy: 0.5665\n",
            "Epoch 13/50\n",
            "4500/4500 [==============================] - 12s 3ms/step - loss: 0.6594 - accuracy: 0.5723 - val_loss: 0.6659 - val_accuracy: 0.5671\n",
            "Epoch 14/50\n",
            "4500/4500 [==============================] - 12s 3ms/step - loss: 0.6588 - accuracy: 0.5748 - val_loss: 0.6670 - val_accuracy: 0.5663\n",
            "Epoch 15/50\n",
            "4500/4500 [==============================] - 12s 3ms/step - loss: 0.6580 - accuracy: 0.5735 - val_loss: 0.6668 - val_accuracy: 0.5664\n",
            "Epoch 16/50\n",
            "4500/4500 [==============================] - 12s 3ms/step - loss: 0.6582 - accuracy: 0.5744 - val_loss: 0.6663 - val_accuracy: 0.5666\n",
            "Epoch 17/50\n",
            "4500/4500 [==============================] - 12s 3ms/step - loss: 0.6581 - accuracy: 0.5734 - val_loss: 0.6666 - val_accuracy: 0.5666\n",
            "Epoch 18/50\n",
            "4500/4500 [==============================] - 12s 3ms/step - loss: 0.6580 - accuracy: 0.5733 - val_loss: 0.6664 - val_accuracy: 0.5664\n",
            "Epoch 19/50\n",
            "4500/4500 [==============================] - 12s 3ms/step - loss: 0.6584 - accuracy: 0.5732 - val_loss: 0.6672 - val_accuracy: 0.5669\n",
            "Epoch 20/50\n",
            "4500/4500 [==============================] - 12s 3ms/step - loss: 0.6570 - accuracy: 0.5737 - val_loss: 0.6671 - val_accuracy: 0.5665\n",
            "Epoch 21/50\n",
            "4500/4500 [==============================] - 12s 3ms/step - loss: 0.6578 - accuracy: 0.5727 - val_loss: 0.6667 - val_accuracy: 0.5666\n",
            "Epoch 22/50\n",
            "4500/4500 [==============================] - 12s 3ms/step - loss: 0.6568 - accuracy: 0.5755 - val_loss: 0.6670 - val_accuracy: 0.5665\n",
            "Epoch 23/50\n",
            "4500/4500 [==============================] - 12s 3ms/step - loss: 0.6570 - accuracy: 0.5743 - val_loss: 0.6675 - val_accuracy: 0.5654\n",
            "Epoch 24/50\n",
            "4500/4500 [==============================] - 12s 3ms/step - loss: 0.6570 - accuracy: 0.5739 - val_loss: 0.6672 - val_accuracy: 0.5663\n",
            "Epoch 25/50\n",
            "4500/4500 [==============================] - 12s 3ms/step - loss: 0.6568 - accuracy: 0.5747 - val_loss: 0.6676 - val_accuracy: 0.5663\n",
            "Epoch 26/50\n",
            "4500/4500 [==============================] - 12s 3ms/step - loss: 0.6564 - accuracy: 0.5761 - val_loss: 0.6681 - val_accuracy: 0.5651\n",
            "Epoch 27/50\n",
            "4500/4500 [==============================] - 12s 3ms/step - loss: 0.6562 - accuracy: 0.5756 - val_loss: 0.6675 - val_accuracy: 0.5662\n",
            "Epoch 28/50\n",
            "4500/4500 [==============================] - 12s 3ms/step - loss: 0.6566 - accuracy: 0.5748 - val_loss: 0.6670 - val_accuracy: 0.5661\n",
            "Epoch 29/50\n",
            "4500/4500 [==============================] - 12s 3ms/step - loss: 0.6564 - accuracy: 0.5755 - val_loss: 0.6696 - val_accuracy: 0.5646\n",
            "Epoch 30/50\n",
            "4500/4500 [==============================] - 12s 3ms/step - loss: 0.6565 - accuracy: 0.5739 - val_loss: 0.6692 - val_accuracy: 0.5648\n",
            "Epoch 31/50\n",
            "4500/4500 [==============================] - 12s 3ms/step - loss: 0.6565 - accuracy: 0.5748 - val_loss: 0.6675 - val_accuracy: 0.5658\n",
            "Epoch 32/50\n",
            "4500/4500 [==============================] - 12s 3ms/step - loss: 0.6555 - accuracy: 0.5756 - val_loss: 0.6677 - val_accuracy: 0.5660\n",
            "Epoch 33/50\n",
            "4500/4500 [==============================] - 12s 3ms/step - loss: 0.6562 - accuracy: 0.5759 - val_loss: 0.6677 - val_accuracy: 0.5663\n",
            "Epoch 34/50\n",
            "4500/4500 [==============================] - 12s 3ms/step - loss: 0.6557 - accuracy: 0.5761 - val_loss: 0.6686 - val_accuracy: 0.5644\n",
            "Epoch 35/50\n",
            "4500/4500 [==============================] - 12s 3ms/step - loss: 0.6562 - accuracy: 0.5753 - val_loss: 0.6683 - val_accuracy: 0.5660\n",
            "Epoch 36/50\n",
            "4500/4500 [==============================] - 12s 3ms/step - loss: 0.6558 - accuracy: 0.5752 - val_loss: 0.6674 - val_accuracy: 0.5656\n",
            "Epoch 37/50\n",
            "4500/4500 [==============================] - 12s 3ms/step - loss: 0.6559 - accuracy: 0.5756 - val_loss: 0.6685 - val_accuracy: 0.5654\n",
            "Epoch 38/50\n",
            "4500/4500 [==============================] - 12s 3ms/step - loss: 0.6554 - accuracy: 0.5759 - val_loss: 0.6684 - val_accuracy: 0.5662\n",
            "Epoch 39/50\n",
            "4500/4500 [==============================] - 12s 3ms/step - loss: 0.6557 - accuracy: 0.5737 - val_loss: 0.6687 - val_accuracy: 0.5656\n",
            "Epoch 40/50\n",
            "4500/4500 [==============================] - 12s 3ms/step - loss: 0.6553 - accuracy: 0.5782 - val_loss: 0.6680 - val_accuracy: 0.5656\n",
            "Epoch 41/50\n",
            "4500/4500 [==============================] - 12s 3ms/step - loss: 0.6555 - accuracy: 0.5750 - val_loss: 0.6693 - val_accuracy: 0.5654\n",
            "Epoch 42/50\n",
            "4500/4500 [==============================] - 12s 3ms/step - loss: 0.6554 - accuracy: 0.5758 - val_loss: 0.6684 - val_accuracy: 0.5658\n",
            "Epoch 43/50\n",
            "4500/4500 [==============================] - 12s 3ms/step - loss: 0.6556 - accuracy: 0.5765 - val_loss: 0.6684 - val_accuracy: 0.5655\n",
            "Epoch 44/50\n",
            "4500/4500 [==============================] - 12s 3ms/step - loss: 0.6552 - accuracy: 0.5774 - val_loss: 0.6688 - val_accuracy: 0.5658\n",
            "Epoch 45/50\n",
            "4500/4500 [==============================] - 12s 3ms/step - loss: 0.6547 - accuracy: 0.5762 - val_loss: 0.6687 - val_accuracy: 0.5655\n",
            "Epoch 46/50\n",
            "4500/4500 [==============================] - 12s 3ms/step - loss: 0.6551 - accuracy: 0.5759 - val_loss: 0.6695 - val_accuracy: 0.5654\n",
            "Epoch 47/50\n",
            "4500/4500 [==============================] - 12s 3ms/step - loss: 0.6550 - accuracy: 0.5766 - val_loss: 0.6690 - val_accuracy: 0.5654\n",
            "Epoch 48/50\n",
            "4500/4500 [==============================] - 12s 3ms/step - loss: 0.6544 - accuracy: 0.5779 - val_loss: 0.6696 - val_accuracy: 0.5651\n",
            "Epoch 49/50\n",
            "4500/4500 [==============================] - 12s 3ms/step - loss: 0.6548 - accuracy: 0.5757 - val_loss: 0.6689 - val_accuracy: 0.5651\n",
            "Epoch 50/50\n",
            "4500/4500 [==============================] - 12s 3ms/step - loss: 0.6547 - accuracy: 0.5767 - val_loss: 0.6689 - val_accuracy: 0.5658\n",
            "Training Complete\n"
          ],
          "name": "stdout"
        }
      ]
    },
    {
      "cell_type": "code",
      "metadata": {
        "colab": {
          "base_uri": "https://localhost:8080/",
          "height": 606
        },
        "id": "_dTPM0v3uU_L",
        "outputId": "1d14b14c-45c1-4a1c-8a29-e3be7ce3817f"
      },
      "source": [
        "import matplotlib.image  as mpimg\r\n",
        "import matplotlib.pyplot as plt\r\n",
        "\r\n",
        "#-----------------------------------------------------------\r\n",
        "# Retrieve a list of list results on training and test data\r\n",
        "# sets for each training epoch\r\n",
        "#-----------------------------------------------------------\r\n",
        "acc=history.history['accuracy']\r\n",
        "val_acc=history.history['val_accuracy']\r\n",
        "loss=history.history['loss']\r\n",
        "val_loss=history.history['val_loss']\r\n",
        "\r\n",
        "epochs=range(len(acc)) # Get number of epochs\r\n",
        "\r\n",
        "#------------------------------------------------\r\n",
        "# Plot training and validation accuracy per epoch\r\n",
        "#------------------------------------------------\r\n",
        "plt.plot(epochs, acc, 'r')\r\n",
        "plt.plot(epochs, val_acc, 'b')\r\n",
        "plt.title('Training and validation accuracy')\r\n",
        "plt.xlabel(\"Epochs\")\r\n",
        "plt.ylabel(\"Accuracy\")\r\n",
        "plt.legend([\"Accuracy\", \"Validation Accuracy\"])\r\n",
        "\r\n",
        "plt.figure()\r\n",
        "\r\n",
        "#------------------------------------------------\r\n",
        "# Plot training and validation loss per epoch\r\n",
        "#------------------------------------------------\r\n",
        "plt.plot(epochs, loss, 'r')\r\n",
        "plt.plot(epochs, val_loss, 'b')\r\n",
        "plt.title('Training and validation loss')\r\n",
        "plt.xlabel(\"Epochs\")\r\n",
        "plt.ylabel(\"Loss\")\r\n",
        "plt.legend([\"Loss\", \"Validation Loss\"])\r\n",
        "\r\n",
        "plt.figure()\r\n",
        "\r\n",
        "\r\n",
        "# Expected Output\r\n",
        "# A chart where the validation loss does not increase sharply!"
      ],
      "execution_count": 58,
      "outputs": [
        {
          "output_type": "execute_result",
          "data": {
            "text/plain": [
              "<Figure size 432x288 with 0 Axes>"
            ]
          },
          "metadata": {
            "tags": []
          },
          "execution_count": 58
        },
        {
          "output_type": "display_data",
          "data": {
            "image/png": "[encoded data removed]",
            "text/plain": [
              "<Figure size 432x288 with 1 Axes>"
            ]
          },
          "metadata": {
            "tags": [],
            "needs_background": "light"
          }
        },
        {
          "output_type": "display_data",
          "data": {
            "image/png": "[encoded data removed]",
            "text/plain": [
              "<Figure size 432x288 with 1 Axes>"
            ]
          },
          "metadata": {
            "tags": [],
            "needs_background": "light"
          }
        },
        {
          "output_type": "display_data",
          "data": {
            "text/plain": [
              "<Figure size 432x288 with 0 Axes>"
            ]
          },
          "metadata": {
            "tags": []
          }
        }
      ]
    },
    {
      "cell_type": "code",
      "metadata": {
        "id": "iKKvbuEBOGFz",
        "colab": {
          "base_uri": "https://localhost:8080/"
        },
        "outputId": "2206c033-8c1e-4cd5-8303-25dcafcab510"
      },
      "source": [
        "model = tf.keras.Sequential([\n",
        "    Embedding(vocab_size+1, embedding_dim, input_length=max_length, weights=[embeddings_matrix], trainable=False, name=\"embedding_1\"),\n",
        "    # YOUR CODE HERE - experiment with combining different types, such as convolutions and LSTMs\n",
        "    Conv1D(filters=64, kernel_size=5, activation=\"relu\", name=\"conv1d_2\"),\n",
        "    MaxPool1D(pool_size=4, name=\"pool1d_2\"),\n",
        "    Dense(units=64, activation=\"relu\", name=\"dense_3\"),\n",
        "    Dense(units=1, activation=\"sigmoid\", name=\"dense_4\")\n",
        "])\n",
        "model.compile(\n",
        "    # YOUR CODE HERE\n",
        "    optimizer=\"adam\",\n",
        "    loss=\"binary_crossentropy\",\n",
        "    metrics=[\"accuracy\"]\n",
        ")\n",
        "model.summary()\n",
        "\n",
        "num_epochs = 50\n",
        "history = model.fit(\n",
        "    training_sequences, \n",
        "    np.array(training_labels), \n",
        "    epochs=num_epochs, \n",
        "    validation_data=(test_sequences, np.array(test_labels)), \n",
        "    workers=-1,\n",
        "    use_multiprocessing=True\n",
        ")\n",
        "\n",
        "print(\"Training Complete\")\n"
      ],
      "execution_count": 49,
      "outputs": [
        {
          "output_type": "stream",
          "text": [
            "Model: \"sequential_4\"\n",
            "_________________________________________________________________\n",
            "Layer (type)                 Output Shape              Param #   \n",
            "=================================================================\n",
            "embedding_1 (Embedding)      (None, 16, 100)           13886200  \n",
            "_________________________________________________________________\n",
            "conv1d_2 (Conv1D)            (None, 12, 64)            32064     \n",
            "_________________________________________________________________\n",
            "pool1d_2 (MaxPooling1D)      (None, 3, 64)             0         \n",
            "_________________________________________________________________\n",
            "dense_3 (Dense)              (None, 3, 64)             4160      \n",
            "_________________________________________________________________\n",
            "dense_4 (Dense)              (None, 3, 1)              65        \n",
            "=================================================================\n",
            "Total params: 13,922,489\n",
            "Trainable params: 36,289\n",
            "Non-trainable params: 13,886,200\n",
            "_________________________________________________________________\n",
            "Epoch 1/50\n",
            "WARNING:tensorflow:Model was constructed with shape (None, 16) for input KerasTensor(type_spec=TensorSpec(shape=(None, 16), dtype=tf.float32, name='embedding_1_input'), name='embedding_1_input', description=\"created by layer 'embedding_1_input'\"), but it was called on an input with incompatible shape (32, 36).\n",
            "WARNING:tensorflow:Model was constructed with shape (None, 16) for input KerasTensor(type_spec=TensorSpec(shape=(None, 16), dtype=tf.float32, name='embedding_1_input'), name='embedding_1_input', description=\"created by layer 'embedding_1_input'\"), but it was called on an input with incompatible shape (32, 36).\n",
            "4497/4500 [============================>.] - ETA: 0s - loss: 0.6694 - accuracy: 0.5640WARNING:tensorflow:Model was constructed with shape (None, 16) for input KerasTensor(type_spec=TensorSpec(shape=(None, 16), dtype=tf.float32, name='embedding_1_input'), name='embedding_1_input', description=\"created by layer 'embedding_1_input'\"), but it was called on an input with incompatible shape (32, 36).\n",
            "4500/4500 [==============================] - 13s 3ms/step - loss: 0.6694 - accuracy: 0.5640 - val_loss: 0.6568 - val_accuracy: 0.5805\n",
            "Epoch 2/50\n",
            "4500/4500 [==============================] - 12s 3ms/step - loss: 0.6543 - accuracy: 0.5837 - val_loss: 0.6536 - val_accuracy: 0.5841\n",
            "Epoch 3/50\n",
            "4500/4500 [==============================] - 12s 3ms/step - loss: 0.6501 - accuracy: 0.5857 - val_loss: 0.6543 - val_accuracy: 0.5833\n",
            "Epoch 4/50\n",
            "4500/4500 [==============================] - 12s 3ms/step - loss: 0.6470 - accuracy: 0.5895 - val_loss: 0.6525 - val_accuracy: 0.5848\n",
            "Epoch 5/50\n",
            "4500/4500 [==============================] - 12s 3ms/step - loss: 0.6439 - accuracy: 0.5891 - val_loss: 0.6529 - val_accuracy: 0.5842\n",
            "Epoch 6/50\n",
            "4500/4500 [==============================] - 12s 3ms/step - loss: 0.6412 - accuracy: 0.5930 - val_loss: 0.6520 - val_accuracy: 0.5849\n",
            "Epoch 7/50\n",
            "4500/4500 [==============================] - 12s 3ms/step - loss: 0.6394 - accuracy: 0.5960 - val_loss: 0.6546 - val_accuracy: 0.5855\n",
            "Epoch 8/50\n",
            "4500/4500 [==============================] - 12s 3ms/step - loss: 0.6380 - accuracy: 0.5968 - val_loss: 0.6547 - val_accuracy: 0.5834\n",
            "Epoch 9/50\n",
            "4500/4500 [==============================] - 12s 3ms/step - loss: 0.6355 - accuracy: 0.5984 - val_loss: 0.6557 - val_accuracy: 0.5831\n",
            "Epoch 10/50\n",
            "4500/4500 [==============================] - 12s 3ms/step - loss: 0.6347 - accuracy: 0.5982 - val_loss: 0.6568 - val_accuracy: 0.5851\n",
            "Epoch 11/50\n",
            "4500/4500 [==============================] - 12s 3ms/step - loss: 0.6335 - accuracy: 0.5967 - val_loss: 0.6564 - val_accuracy: 0.5844\n",
            "Epoch 12/50\n",
            "4500/4500 [==============================] - 12s 3ms/step - loss: 0.6326 - accuracy: 0.6007 - val_loss: 0.6573 - val_accuracy: 0.5828\n",
            "Epoch 13/50\n",
            "4500/4500 [==============================] - 12s 3ms/step - loss: 0.6316 - accuracy: 0.6020 - val_loss: 0.6574 - val_accuracy: 0.5831\n",
            "Epoch 14/50\n",
            "4500/4500 [==============================] - 13s 3ms/step - loss: 0.6314 - accuracy: 0.6015 - val_loss: 0.6588 - val_accuracy: 0.5834\n",
            "Epoch 15/50\n",
            "4500/4500 [==============================] - 12s 3ms/step - loss: 0.6295 - accuracy: 0.6029 - val_loss: 0.6587 - val_accuracy: 0.5842\n",
            "Epoch 16/50\n",
            "4500/4500 [==============================] - 12s 3ms/step - loss: 0.6290 - accuracy: 0.6016 - val_loss: 0.6622 - val_accuracy: 0.5824\n",
            "Epoch 17/50\n",
            "4500/4500 [==============================] - 12s 3ms/step - loss: 0.6275 - accuracy: 0.6056 - val_loss: 0.6608 - val_accuracy: 0.5827\n",
            "Epoch 18/50\n",
            "4500/4500 [==============================] - 12s 3ms/step - loss: 0.6270 - accuracy: 0.6051 - val_loss: 0.6633 - val_accuracy: 0.5812\n",
            "Epoch 19/50\n",
            "4500/4500 [==============================] - 12s 3ms/step - loss: 0.6260 - accuracy: 0.6048 - val_loss: 0.6632 - val_accuracy: 0.5822\n",
            "Epoch 20/50\n",
            "4500/4500 [==============================] - 12s 3ms/step - loss: 0.6251 - accuracy: 0.6051 - val_loss: 0.6647 - val_accuracy: 0.5824\n",
            "Epoch 21/50\n",
            "4500/4500 [==============================] - 12s 3ms/step - loss: 0.6251 - accuracy: 0.6056 - val_loss: 0.6667 - val_accuracy: 0.5825\n",
            "Epoch 22/50\n",
            "4500/4500 [==============================] - 12s 3ms/step - loss: 0.6249 - accuracy: 0.6064 - val_loss: 0.6646 - val_accuracy: 0.5810\n",
            "Epoch 23/50\n",
            "4500/4500 [==============================] - 12s 3ms/step - loss: 0.6239 - accuracy: 0.6057 - val_loss: 0.6658 - val_accuracy: 0.5811\n",
            "Epoch 24/50\n",
            "4500/4500 [==============================] - 12s 3ms/step - loss: 0.6226 - accuracy: 0.6073 - val_loss: 0.6663 - val_accuracy: 0.5792\n",
            "Epoch 25/50\n",
            "4500/4500 [==============================] - 12s 3ms/step - loss: 0.6232 - accuracy: 0.6077 - val_loss: 0.6685 - val_accuracy: 0.5807\n",
            "Epoch 26/50\n",
            "4500/4500 [==============================] - 12s 3ms/step - loss: 0.6221 - accuracy: 0.6083 - val_loss: 0.6707 - val_accuracy: 0.5809\n",
            "Epoch 27/50\n",
            "4500/4500 [==============================] - 12s 3ms/step - loss: 0.6221 - accuracy: 0.6076 - val_loss: 0.6688 - val_accuracy: 0.5804\n",
            "Epoch 28/50\n",
            "4500/4500 [==============================] - 12s 3ms/step - loss: 0.6213 - accuracy: 0.6091 - val_loss: 0.6687 - val_accuracy: 0.5808\n",
            "Epoch 29/50\n",
            "4500/4500 [==============================] - 12s 3ms/step - loss: 0.6204 - accuracy: 0.6104 - val_loss: 0.6712 - val_accuracy: 0.5807\n",
            "Epoch 30/50\n",
            "4500/4500 [==============================] - 12s 3ms/step - loss: 0.6200 - accuracy: 0.6095 - val_loss: 0.6708 - val_accuracy: 0.5806\n",
            "Epoch 31/50\n",
            "4500/4500 [==============================] - 12s 3ms/step - loss: 0.6190 - accuracy: 0.6099 - val_loss: 0.6742 - val_accuracy: 0.5796\n",
            "Epoch 32/50\n",
            "4500/4500 [==============================] - 12s 3ms/step - loss: 0.6194 - accuracy: 0.6090 - val_loss: 0.6712 - val_accuracy: 0.5803\n",
            "Epoch 33/50\n",
            "4500/4500 [==============================] - 12s 3ms/step - loss: 0.6187 - accuracy: 0.6105 - val_loss: 0.6745 - val_accuracy: 0.5798\n",
            "Epoch 34/50\n",
            "4500/4500 [==============================] - 12s 3ms/step - loss: 0.6185 - accuracy: 0.6097 - val_loss: 0.6743 - val_accuracy: 0.5792\n",
            "Epoch 35/50\n",
            "4500/4500 [==============================] - 12s 3ms/step - loss: 0.6179 - accuracy: 0.6091 - val_loss: 0.6725 - val_accuracy: 0.5789\n",
            "Epoch 36/50\n",
            "4500/4500 [==============================] - 12s 3ms/step - loss: 0.6181 - accuracy: 0.6111 - val_loss: 0.6778 - val_accuracy: 0.5800\n",
            "Epoch 37/50\n",
            "4500/4500 [==============================] - 12s 3ms/step - loss: 0.6173 - accuracy: 0.6105 - val_loss: 0.6749 - val_accuracy: 0.5793\n",
            "Epoch 38/50\n",
            "4500/4500 [==============================] - 12s 3ms/step - loss: 0.6177 - accuracy: 0.6118 - val_loss: 0.6759 - val_accuracy: 0.5796\n",
            "Epoch 39/50\n",
            "4500/4500 [==============================] - 13s 3ms/step - loss: 0.6163 - accuracy: 0.6124 - val_loss: 0.6786 - val_accuracy: 0.5783\n",
            "Epoch 40/50\n",
            "4500/4500 [==============================] - 12s 3ms/step - loss: 0.6164 - accuracy: 0.6121 - val_loss: 0.6788 - val_accuracy: 0.5797\n",
            "Epoch 41/50\n",
            "4500/4500 [==============================] - 12s 3ms/step - loss: 0.6165 - accuracy: 0.6111 - val_loss: 0.6787 - val_accuracy: 0.5778\n",
            "Epoch 42/50\n",
            "4500/4500 [==============================] - 12s 3ms/step - loss: 0.6160 - accuracy: 0.6124 - val_loss: 0.6810 - val_accuracy: 0.5773\n",
            "Epoch 43/50\n",
            "4500/4500 [==============================] - 12s 3ms/step - loss: 0.6155 - accuracy: 0.6123 - val_loss: 0.6788 - val_accuracy: 0.5785\n",
            "Epoch 44/50\n",
            "4500/4500 [==============================] - 12s 3ms/step - loss: 0.6151 - accuracy: 0.6118 - val_loss: 0.6795 - val_accuracy: 0.5783\n",
            "Epoch 45/50\n",
            "4500/4500 [==============================] - 12s 3ms/step - loss: 0.6140 - accuracy: 0.6138 - val_loss: 0.6795 - val_accuracy: 0.5781\n",
            "Epoch 46/50\n",
            "4500/4500 [==============================] - 12s 3ms/step - loss: 0.6149 - accuracy: 0.6133 - val_loss: 0.6846 - val_accuracy: 0.5779\n",
            "Epoch 47/50\n",
            "4500/4500 [==============================] - 12s 3ms/step - loss: 0.6147 - accuracy: 0.6112 - val_loss: 0.6849 - val_accuracy: 0.5764\n",
            "Epoch 48/50\n",
            "4500/4500 [==============================] - 12s 3ms/step - loss: 0.6145 - accuracy: 0.6128 - val_loss: 0.6849 - val_accuracy: 0.5785\n",
            "Epoch 49/50\n",
            "4500/4500 [==============================] - 12s 3ms/step - loss: 0.6138 - accuracy: 0.6138 - val_loss: 0.6849 - val_accuracy: 0.5785\n",
            "Epoch 50/50\n",
            "4500/4500 [==============================] - 12s 3ms/step - loss: 0.6148 - accuracy: 0.6115 - val_loss: 0.6850 - val_accuracy: 0.5777\n",
            "Training Complete\n"
          ],
          "name": "stdout"
        }
      ]
    },
    {
      "cell_type": "code",
      "metadata": {
        "id": "qxju4ItJKO8F",
        "colab": {
          "base_uri": "https://localhost:8080/",
          "height": 606
        },
        "outputId": "2a2a7911-48d1-4f38-a950-892c9d598451"
      },
      "source": [
        "import matplotlib.image  as mpimg\n",
        "import matplotlib.pyplot as plt\n",
        "\n",
        "#-----------------------------------------------------------\n",
        "# Retrieve a list of list results on training and test data\n",
        "# sets for each training epoch\n",
        "#-----------------------------------------------------------\n",
        "acc=history.history['accuracy']\n",
        "val_acc=history.history['val_accuracy']\n",
        "loss=history.history['loss']\n",
        "val_loss=history.history['val_loss']\n",
        "\n",
        "epochs=range(len(acc)) # Get number of epochs\n",
        "\n",
        "#------------------------------------------------\n",
        "# Plot training and validation accuracy per epoch\n",
        "#------------------------------------------------\n",
        "plt.plot(epochs, acc, 'r')\n",
        "plt.plot(epochs, val_acc, 'b')\n",
        "plt.title('Training and validation accuracy')\n",
        "plt.xlabel(\"Epochs\")\n",
        "plt.ylabel(\"Accuracy\")\n",
        "plt.legend([\"Accuracy\", \"Validation Accuracy\"])\n",
        "\n",
        "plt.figure()\n",
        "\n",
        "#------------------------------------------------\n",
        "# Plot training and validation loss per epoch\n",
        "#------------------------------------------------\n",
        "plt.plot(epochs, loss, 'r')\n",
        "plt.plot(epochs, val_loss, 'b')\n",
        "plt.title('Training and validation loss')\n",
        "plt.xlabel(\"Epochs\")\n",
        "plt.ylabel(\"Loss\")\n",
        "plt.legend([\"Loss\", \"Validation Loss\"])\n",
        "\n",
        "plt.figure()\n",
        "\n",
        "\n",
        "# Expected Output\n",
        "# A chart where the validation loss does not increase sharply!"
      ],
      "execution_count": 50,
      "outputs": [
        {
          "output_type": "execute_result",
          "data": {
            "text/plain": [
              "<Figure size 432x288 with 0 Axes>"
            ]
          },
          "metadata": {
            "tags": []
          },
          "execution_count": 50
        },
        {
          "output_type": "display_data",
          "data": {
            "image/png": "[encoded data removed]",
            "text/plain": [
              "<Figure size 432x288 with 1 Axes>"
            ]
          },
          "metadata": {
            "tags": [],
            "needs_background": "light"
          }
        },
        {
          "output_type": "display_data",
          "data": {
            "image/png": "[encoded data removed]",
            "text/plain": [
              "<Figure size 432x288 with 1 Axes>"
            ]
          },
          "metadata": {
            "tags": [],
            "needs_background": "light"
          }
        },
        {
          "output_type": "display_data",
          "data": {
            "text/plain": [
              "<Figure size 432x288 with 0 Axes>"
            ]
          },
          "metadata": {
            "tags": []
          }
        }
      ]
    },
    {
      "cell_type": "code",
      "metadata": {
        "colab": {
          "base_uri": "https://localhost:8080/"
        },
        "id": "STWG3Kq1m5bF",
        "outputId": "8762f5cb-fa85-4038-a82f-e12a9401a77f"
      },
      "source": [
        "model = tf.keras.Sequential([\r\n",
        "    Embedding(vocab_size+1, embedding_dim, input_length=max_length, weights=[embeddings_matrix], trainable=False, name=\"embedding_1\"),\r\n",
        "    # YOUR CODE HERE - experiment with combining different types, such as convolutions and LSTMs\r\n",
        "    Bidirectional(LSTM(units=64, return_sequences=False), name=\"LSTM_2\"),\r\n",
        "    Dense(units=64, activation=\"relu\", name=\"dense_3\"),\r\n",
        "    Dense(units=1, activation=\"sigmoid\", name=\"dense_4\")\r\n",
        "])\r\n",
        "model.compile(\r\n",
        "    # YOUR CODE HERE\r\n",
        "    optimizer=\"adam\",\r\n",
        "    loss=\"binary_crossentropy\",\r\n",
        "    metrics=[\"accuracy\"]\r\n",
        ")\r\n",
        "model.summary()\r\n",
        "\r\n",
        "num_epochs = 50\r\n",
        "history = model.fit(\r\n",
        "    training_sequences, \r\n",
        "    np.array(training_labels), \r\n",
        "    epochs=num_epochs, \r\n",
        "    validation_data=(test_sequences, np.array(test_labels)), \r\n",
        "    workers=-1,\r\n",
        "    use_multiprocessing=True\r\n",
        ")\r\n",
        "\r\n",
        "print(\"Training Complete\")"
      ],
      "execution_count": 51,
      "outputs": [
        {
          "output_type": "stream",
          "text": [
            "Model: \"sequential_5\"\n",
            "_________________________________________________________________\n",
            "Layer (type)                 Output Shape              Param #   \n",
            "=================================================================\n",
            "embedding_1 (Embedding)      (None, 16, 100)           13886200  \n",
            "_________________________________________________________________\n",
            "LSTM_2 (Bidirectional)       (None, 128)               84480     \n",
            "_________________________________________________________________\n",
            "dense_3 (Dense)              (None, 64)                8256      \n",
            "_________________________________________________________________\n",
            "dense_4 (Dense)              (None, 1)                 65        \n",
            "=================================================================\n",
            "Total params: 13,979,001\n",
            "Trainable params: 92,801\n",
            "Non-trainable params: 13,886,200\n",
            "_________________________________________________________________\n",
            "Epoch 1/50\n",
            "WARNING:tensorflow:Model was constructed with shape (None, 16) for input KerasTensor(type_spec=TensorSpec(shape=(None, 16), dtype=tf.float32, name='embedding_1_input'), name='embedding_1_input', description=\"created by layer 'embedding_1_input'\"), but it was called on an input with incompatible shape (32, 36).\n",
            "WARNING:tensorflow:Model was constructed with shape (None, 16) for input KerasTensor(type_spec=TensorSpec(shape=(None, 16), dtype=tf.float32, name='embedding_1_input'), name='embedding_1_input', description=\"created by layer 'embedding_1_input'\"), but it was called on an input with incompatible shape (32, 36).\n",
            "4496/4500 [============================>.] - ETA: 0s - loss: 0.5507 - accuracy: 0.7134WARNING:tensorflow:Model was constructed with shape (None, 16) for input KerasTensor(type_spec=TensorSpec(shape=(None, 16), dtype=tf.float32, name='embedding_1_input'), name='embedding_1_input', description=\"created by layer 'embedding_1_input'\"), but it was called on an input with incompatible shape (32, 36).\n",
            "4500/4500 [==============================] - 33s 7ms/step - loss: 0.5507 - accuracy: 0.7134 - val_loss: 0.4846 - val_accuracy: 0.7685\n",
            "Epoch 2/50\n",
            "4500/4500 [==============================] - 31s 7ms/step - loss: 0.4693 - accuracy: 0.7752 - val_loss: 0.4604 - val_accuracy: 0.7823\n",
            "Epoch 3/50\n",
            "4500/4500 [==============================] - 31s 7ms/step - loss: 0.4415 - accuracy: 0.7932 - val_loss: 0.4532 - val_accuracy: 0.7872\n",
            "Epoch 4/50\n",
            "4500/4500 [==============================] - 31s 7ms/step - loss: 0.4218 - accuracy: 0.8021 - val_loss: 0.4548 - val_accuracy: 0.7881\n",
            "Epoch 5/50\n",
            "4500/4500 [==============================] - 31s 7ms/step - loss: 0.4066 - accuracy: 0.8128 - val_loss: 0.4509 - val_accuracy: 0.7914\n",
            "Epoch 6/50\n",
            "4500/4500 [==============================] - 31s 7ms/step - loss: 0.3867 - accuracy: 0.8247 - val_loss: 0.4566 - val_accuracy: 0.7864\n",
            "Epoch 7/50\n",
            "4500/4500 [==============================] - 31s 7ms/step - loss: 0.3717 - accuracy: 0.8308 - val_loss: 0.4676 - val_accuracy: 0.7886\n",
            "Epoch 8/50\n",
            "4500/4500 [==============================] - 31s 7ms/step - loss: 0.3536 - accuracy: 0.8404 - val_loss: 0.5086 - val_accuracy: 0.7771\n",
            "Epoch 9/50\n",
            "4500/4500 [==============================] - 31s 7ms/step - loss: 0.3377 - accuracy: 0.8482 - val_loss: 0.4972 - val_accuracy: 0.7814\n",
            "Epoch 10/50\n",
            "4500/4500 [==============================] - 31s 7ms/step - loss: 0.3202 - accuracy: 0.8585 - val_loss: 0.5257 - val_accuracy: 0.7803\n",
            "Epoch 11/50\n",
            "4500/4500 [==============================] - 31s 7ms/step - loss: 0.3057 - accuracy: 0.8640 - val_loss: 0.5458 - val_accuracy: 0.7755\n",
            "Epoch 12/50\n",
            "4500/4500 [==============================] - 31s 7ms/step - loss: 0.2890 - accuracy: 0.8714 - val_loss: 0.5533 - val_accuracy: 0.7747\n",
            "Epoch 13/50\n",
            "4500/4500 [==============================] - 31s 7ms/step - loss: 0.2734 - accuracy: 0.8790 - val_loss: 0.5770 - val_accuracy: 0.7682\n",
            "Epoch 14/50\n",
            "4500/4500 [==============================] - 31s 7ms/step - loss: 0.2598 - accuracy: 0.8856 - val_loss: 0.6249 - val_accuracy: 0.7716\n",
            "Epoch 15/50\n",
            "4500/4500 [==============================] - 31s 7ms/step - loss: 0.2463 - accuracy: 0.8921 - val_loss: 0.6829 - val_accuracy: 0.7692\n",
            "Epoch 16/50\n",
            "4500/4500 [==============================] - 31s 7ms/step - loss: 0.2341 - accuracy: 0.8974 - val_loss: 0.6996 - val_accuracy: 0.7642\n",
            "Epoch 17/50\n",
            "4500/4500 [==============================] - 31s 7ms/step - loss: 0.2233 - accuracy: 0.9037 - val_loss: 0.7641 - val_accuracy: 0.7661\n",
            "Epoch 18/50\n",
            "4500/4500 [==============================] - 31s 7ms/step - loss: 0.2121 - accuracy: 0.9077 - val_loss: 0.7499 - val_accuracy: 0.7631\n",
            "Epoch 19/50\n",
            "4500/4500 [==============================] - 31s 7ms/step - loss: 0.2029 - accuracy: 0.9108 - val_loss: 0.7816 - val_accuracy: 0.7617\n",
            "Epoch 20/50\n",
            "4500/4500 [==============================] - 31s 7ms/step - loss: 0.1917 - accuracy: 0.9174 - val_loss: 0.8764 - val_accuracy: 0.7564\n",
            "Epoch 21/50\n",
            "4500/4500 [==============================] - 31s 7ms/step - loss: 0.1851 - accuracy: 0.9197 - val_loss: 0.8684 - val_accuracy: 0.7556\n",
            "Epoch 22/50\n",
            "4500/4500 [==============================] - 31s 7ms/step - loss: 0.1787 - accuracy: 0.9241 - val_loss: 0.9579 - val_accuracy: 0.7578\n",
            "Epoch 23/50\n",
            "4500/4500 [==============================] - 31s 7ms/step - loss: 0.1702 - accuracy: 0.9260 - val_loss: 1.0526 - val_accuracy: 0.7574\n",
            "Epoch 24/50\n",
            "4500/4500 [==============================] - 31s 7ms/step - loss: 0.1637 - accuracy: 0.9310 - val_loss: 1.0171 - val_accuracy: 0.7573\n",
            "Epoch 25/50\n",
            "4500/4500 [==============================] - 31s 7ms/step - loss: 0.1586 - accuracy: 0.9321 - val_loss: 1.0856 - val_accuracy: 0.7534\n",
            "Epoch 26/50\n",
            "4500/4500 [==============================] - 31s 7ms/step - loss: 0.1541 - accuracy: 0.9348 - val_loss: 1.1330 - val_accuracy: 0.7556\n",
            "Epoch 27/50\n",
            "4500/4500 [==============================] - 31s 7ms/step - loss: 0.1462 - accuracy: 0.9380 - val_loss: 1.1015 - val_accuracy: 0.7546\n",
            "Epoch 28/50\n",
            "4500/4500 [==============================] - 31s 7ms/step - loss: 0.1458 - accuracy: 0.9382 - val_loss: 1.0717 - val_accuracy: 0.7559\n",
            "Epoch 29/50\n",
            "4500/4500 [==============================] - 31s 7ms/step - loss: 0.1377 - accuracy: 0.9422 - val_loss: 1.2541 - val_accuracy: 0.7563\n",
            "Epoch 30/50\n",
            "4500/4500 [==============================] - 31s 7ms/step - loss: 0.1340 - accuracy: 0.9437 - val_loss: 1.2531 - val_accuracy: 0.7541\n",
            "Epoch 31/50\n",
            "4500/4500 [==============================] - 31s 7ms/step - loss: 0.1302 - accuracy: 0.9452 - val_loss: 1.2196 - val_accuracy: 0.7529\n",
            "Epoch 32/50\n",
            "4500/4500 [==============================] - 31s 7ms/step - loss: 0.1268 - accuracy: 0.9465 - val_loss: 1.3203 - val_accuracy: 0.7504\n",
            "Epoch 33/50\n",
            "4500/4500 [==============================] - 31s 7ms/step - loss: 0.1244 - accuracy: 0.9480 - val_loss: 1.3010 - val_accuracy: 0.7543\n",
            "Epoch 34/50\n",
            "4500/4500 [==============================] - 31s 7ms/step - loss: 0.1213 - accuracy: 0.9493 - val_loss: 1.2966 - val_accuracy: 0.7562\n",
            "Epoch 35/50\n",
            "4500/4500 [==============================] - 31s 7ms/step - loss: 0.1167 - accuracy: 0.9513 - val_loss: 1.3542 - val_accuracy: 0.7536\n",
            "Epoch 36/50\n",
            "4500/4500 [==============================] - 31s 7ms/step - loss: 0.1135 - accuracy: 0.9527 - val_loss: 1.3704 - val_accuracy: 0.7492\n",
            "Epoch 37/50\n",
            "4500/4500 [==============================] - 31s 7ms/step - loss: 0.1138 - accuracy: 0.9541 - val_loss: 1.3429 - val_accuracy: 0.7492\n",
            "Epoch 38/50\n",
            "4500/4500 [==============================] - 31s 7ms/step - loss: 0.1107 - accuracy: 0.9547 - val_loss: 1.4303 - val_accuracy: 0.7510\n",
            "Epoch 39/50\n",
            "4500/4500 [==============================] - 31s 7ms/step - loss: 0.1076 - accuracy: 0.9559 - val_loss: 1.4577 - val_accuracy: 0.7498\n",
            "Epoch 40/50\n",
            "4500/4500 [==============================] - 31s 7ms/step - loss: 0.1046 - accuracy: 0.9568 - val_loss: 1.4250 - val_accuracy: 0.7504\n",
            "Epoch 41/50\n",
            "4500/4500 [==============================] - 31s 7ms/step - loss: 0.1042 - accuracy: 0.9577 - val_loss: 1.4621 - val_accuracy: 0.7513\n",
            "Epoch 42/50\n",
            "4500/4500 [==============================] - 31s 7ms/step - loss: 0.0987 - accuracy: 0.9590 - val_loss: 1.5817 - val_accuracy: 0.7566\n",
            "Epoch 43/50\n",
            "4500/4500 [==============================] - 31s 7ms/step - loss: 0.1007 - accuracy: 0.9589 - val_loss: 1.5206 - val_accuracy: 0.7500\n",
            "Epoch 44/50\n",
            "4500/4500 [==============================] - 31s 7ms/step - loss: 0.1013 - accuracy: 0.9591 - val_loss: 1.5617 - val_accuracy: 0.7466\n",
            "Epoch 45/50\n",
            "4500/4500 [==============================] - 31s 7ms/step - loss: 0.0981 - accuracy: 0.9603 - val_loss: 1.5034 - val_accuracy: 0.7456\n",
            "Epoch 46/50\n",
            "4500/4500 [==============================] - 31s 7ms/step - loss: 0.0938 - accuracy: 0.9625 - val_loss: 1.6076 - val_accuracy: 0.7492\n",
            "Epoch 47/50\n",
            "4500/4500 [==============================] - 31s 7ms/step - loss: 0.0937 - accuracy: 0.9623 - val_loss: 1.5894 - val_accuracy: 0.7499\n",
            "Epoch 48/50\n",
            "4500/4500 [==============================] - 31s 7ms/step - loss: 0.0897 - accuracy: 0.9636 - val_loss: 1.5411 - val_accuracy: 0.7479\n",
            "Epoch 49/50\n",
            "4500/4500 [==============================] - 31s 7ms/step - loss: 0.0910 - accuracy: 0.9636 - val_loss: 1.6499 - val_accuracy: 0.7515\n",
            "Epoch 50/50\n",
            "4500/4500 [==============================] - 31s 7ms/step - loss: 0.0871 - accuracy: 0.9648 - val_loss: 1.6363 - val_accuracy: 0.7486\n",
            "Training Complete\n"
          ],
          "name": "stdout"
        }
      ]
    },
    {
      "cell_type": "code",
      "metadata": {
        "colab": {
          "base_uri": "https://localhost:8080/",
          "height": 606
        },
        "id": "Us50Nqy7nq8N",
        "outputId": "f8da6be7-c33a-4cf3-9ebf-bcd9aa851bef"
      },
      "source": [
        "import matplotlib.image  as mpimg\r\n",
        "import matplotlib.pyplot as plt\r\n",
        "\r\n",
        "#-----------------------------------------------------------\r\n",
        "# Retrieve a list of list results on training and test data\r\n",
        "# sets for each training epoch\r\n",
        "#-----------------------------------------------------------\r\n",
        "acc=history.history['accuracy']\r\n",
        "val_acc=history.history['val_accuracy']\r\n",
        "loss=history.history['loss']\r\n",
        "val_loss=history.history['val_loss']\r\n",
        "\r\n",
        "epochs=range(len(acc)) # Get number of epochs\r\n",
        "\r\n",
        "#------------------------------------------------\r\n",
        "# Plot training and validation accuracy per epoch\r\n",
        "#------------------------------------------------\r\n",
        "plt.plot(epochs, acc, 'r')\r\n",
        "plt.plot(epochs, val_acc, 'b')\r\n",
        "plt.title('Training and validation accuracy')\r\n",
        "plt.xlabel(\"Epochs\")\r\n",
        "plt.ylabel(\"Accuracy\")\r\n",
        "plt.legend([\"Accuracy\", \"Validation Accuracy\"])\r\n",
        "\r\n",
        "plt.figure()\r\n",
        "\r\n",
        "#------------------------------------------------\r\n",
        "# Plot training and validation loss per epoch\r\n",
        "#------------------------------------------------\r\n",
        "plt.plot(epochs, loss, 'r')\r\n",
        "plt.plot(epochs, val_loss, 'b')\r\n",
        "plt.title('Training and validation loss')\r\n",
        "plt.xlabel(\"Epochs\")\r\n",
        "plt.ylabel(\"Loss\")\r\n",
        "plt.legend([\"Loss\", \"Validation Loss\"])\r\n",
        "\r\n",
        "plt.figure()\r\n",
        "\r\n",
        "\r\n",
        "# Expected Output\r\n",
        "# A chart where the validation loss does not increase sharply!"
      ],
      "execution_count": 52,
      "outputs": [
        {
          "output_type": "execute_result",
          "data": {
            "text/plain": [
              "<Figure size 432x288 with 0 Axes>"
            ]
          },
          "metadata": {
            "tags": []
          },
          "execution_count": 52
        },
        {
          "output_type": "display_data",
          "data": {
            "image/png": "[encoded data removed]",
            "text/plain": [
              "<Figure size 432x288 with 1 Axes>"
            ]
          },
          "metadata": {
            "tags": [],
            "needs_background": "light"
          }
        },
        {
          "output_type": "display_data",
          "data": {
            "image/png": "[encoded data removed]",
            "text/plain": [
              "<Figure size 432x288 with 1 Axes>"
            ]
          },
          "metadata": {
            "tags": [],
            "needs_background": "light"
          }
        },
        {
          "output_type": "display_data",
          "data": {
            "text/plain": [
              "<Figure size 432x288 with 0 Axes>"
            ]
          },
          "metadata": {
            "tags": []
          }
        }
      ]
    },
    {
      "cell_type": "code",
      "metadata": {
        "colab": {
          "base_uri": "https://localhost:8080/"
        },
        "id": "ptkTVsPkp65f",
        "outputId": "ed562625-6895-468a-8fd9-cc183e0160b0"
      },
      "source": [
        "model = tf.keras.Sequential([\r\n",
        "    Embedding(vocab_size+1, embedding_dim, input_length=max_length, weights=[embeddings_matrix], trainable=False, name=\"embedding_1\"),\r\n",
        "    # YOUR CODE HERE - experiment with combining different types, such as convolutions and LSTMs\r\n",
        "    Bidirectional(LSTM(units=64, return_sequences=True), name=\"LSTM_2\"),\r\n",
        "    LSTM(units=64, return_sequences=False, name=\"LSTM_3\"),\r\n",
        "    Dense(units=64, activation=\"relu\", name=\"dense_4\"),\r\n",
        "    Dense(units=1, activation=\"sigmoid\", name=\"dense_5\")\r\n",
        "])\r\n",
        "model.compile(\r\n",
        "    # YOUR CODE HERE\r\n",
        "    optimizer=\"adam\",\r\n",
        "    loss=\"binary_crossentropy\",\r\n",
        "    metrics=[\"accuracy\"]\r\n",
        ")\r\n",
        "model.summary()\r\n",
        "\r\n",
        "num_epochs = 50\r\n",
        "history = model.fit(\r\n",
        "    training_sequences, \r\n",
        "    np.array(training_labels), \r\n",
        "    epochs=num_epochs, \r\n",
        "    validation_data=(test_sequences, np.array(test_labels)), \r\n",
        "    workers=-1,\r\n",
        "    use_multiprocessing=True\r\n",
        ")\r\n",
        "\r\n",
        "print(\"Training Complete\")"
      ],
      "execution_count": 53,
      "outputs": [
        {
          "output_type": "stream",
          "text": [
            "Model: \"sequential_6\"\n",
            "_________________________________________________________________\n",
            "Layer (type)                 Output Shape              Param #   \n",
            "=================================================================\n",
            "embedding_1 (Embedding)      (None, 16, 100)           13886200  \n",
            "_________________________________________________________________\n",
            "LSTM_2 (Bidirectional)       (None, 16, 128)           84480     \n",
            "_________________________________________________________________\n",
            "LSTM_3 (LSTM)                (None, 64)                49408     \n",
            "_________________________________________________________________\n",
            "dense_4 (Dense)              (None, 64)                4160      \n",
            "_________________________________________________________________\n",
            "dense_5 (Dense)              (None, 1)                 65        \n",
            "=================================================================\n",
            "Total params: 14,024,313\n",
            "Trainable params: 138,113\n",
            "Non-trainable params: 13,886,200\n",
            "_________________________________________________________________\n",
            "Epoch 1/50\n",
            "WARNING:tensorflow:Model was constructed with shape (None, 16) for input KerasTensor(type_spec=TensorSpec(shape=(None, 16), dtype=tf.float32, name='embedding_1_input'), name='embedding_1_input', description=\"created by layer 'embedding_1_input'\"), but it was called on an input with incompatible shape (32, 36).\n",
            "WARNING:tensorflow:Model was constructed with shape (None, 16) for input KerasTensor(type_spec=TensorSpec(shape=(None, 16), dtype=tf.float32, name='embedding_1_input'), name='embedding_1_input', description=\"created by layer 'embedding_1_input'\"), but it was called on an input with incompatible shape (32, 36).\n",
            "4498/4500 [============================>.] - ETA: 0s - loss: 0.5497 - accuracy: 0.7142WARNING:tensorflow:Model was constructed with shape (None, 16) for input KerasTensor(type_spec=TensorSpec(shape=(None, 16), dtype=tf.float32, name='embedding_1_input'), name='embedding_1_input', description=\"created by layer 'embedding_1_input'\"), but it was called on an input with incompatible shape (32, 36).\n",
            "4500/4500 [==============================] - 45s 9ms/step - loss: 0.5497 - accuracy: 0.7142 - val_loss: 0.4736 - val_accuracy: 0.7712\n",
            "Epoch 2/50\n",
            "4500/4500 [==============================] - 41s 9ms/step - loss: 0.4629 - accuracy: 0.7783 - val_loss: 0.4477 - val_accuracy: 0.7909\n",
            "Epoch 3/50\n",
            "4500/4500 [==============================] - 40s 9ms/step - loss: 0.4302 - accuracy: 0.7981 - val_loss: 0.4411 - val_accuracy: 0.7934\n",
            "Epoch 4/50\n",
            "4500/4500 [==============================] - 40s 9ms/step - loss: 0.4034 - accuracy: 0.8134 - val_loss: 0.4467 - val_accuracy: 0.7895\n",
            "Epoch 5/50\n",
            "4500/4500 [==============================] - 41s 9ms/step - loss: 0.3783 - accuracy: 0.8271 - val_loss: 0.4443 - val_accuracy: 0.7955\n",
            "Epoch 6/50\n",
            "4500/4500 [==============================] - 40s 9ms/step - loss: 0.3573 - accuracy: 0.8400 - val_loss: 0.4565 - val_accuracy: 0.7958\n",
            "Epoch 7/50\n",
            "4500/4500 [==============================] - 40s 9ms/step - loss: 0.3297 - accuracy: 0.8534 - val_loss: 0.4692 - val_accuracy: 0.7910\n",
            "Epoch 8/50\n",
            "4500/4500 [==============================] - 40s 9ms/step - loss: 0.3026 - accuracy: 0.8678 - val_loss: 0.4884 - val_accuracy: 0.7911\n",
            "Epoch 9/50\n",
            "4500/4500 [==============================] - 40s 9ms/step - loss: 0.2778 - accuracy: 0.8788 - val_loss: 0.5290 - val_accuracy: 0.7858\n",
            "Epoch 10/50\n",
            "4500/4500 [==============================] - 41s 9ms/step - loss: 0.2474 - accuracy: 0.8937 - val_loss: 0.5636 - val_accuracy: 0.7871\n",
            "Epoch 11/50\n",
            "4500/4500 [==============================] - 40s 9ms/step - loss: 0.2236 - accuracy: 0.9058 - val_loss: 0.6331 - val_accuracy: 0.7808\n",
            "Epoch 12/50\n",
            "4500/4500 [==============================] - 41s 9ms/step - loss: 0.2017 - accuracy: 0.9154 - val_loss: 0.6710 - val_accuracy: 0.7759\n",
            "Epoch 13/50\n",
            "4500/4500 [==============================] - 40s 9ms/step - loss: 0.1807 - accuracy: 0.9237 - val_loss: 0.7510 - val_accuracy: 0.7776\n",
            "Epoch 14/50\n",
            "4500/4500 [==============================] - 41s 9ms/step - loss: 0.1663 - accuracy: 0.9304 - val_loss: 0.7904 - val_accuracy: 0.7729\n",
            "Epoch 15/50\n",
            "4500/4500 [==============================] - 40s 9ms/step - loss: 0.1482 - accuracy: 0.9376 - val_loss: 0.8620 - val_accuracy: 0.7732\n",
            "Epoch 16/50\n",
            "4500/4500 [==============================] - 41s 9ms/step - loss: 0.1382 - accuracy: 0.9427 - val_loss: 0.8846 - val_accuracy: 0.7714\n",
            "Epoch 17/50\n",
            "4500/4500 [==============================] - 41s 9ms/step - loss: 0.1267 - accuracy: 0.9479 - val_loss: 0.9255 - val_accuracy: 0.7722\n",
            "Epoch 18/50\n",
            "4500/4500 [==============================] - 41s 9ms/step - loss: 0.1171 - accuracy: 0.9522 - val_loss: 0.9830 - val_accuracy: 0.7673\n",
            "Epoch 19/50\n",
            "4500/4500 [==============================] - 40s 9ms/step - loss: 0.1089 - accuracy: 0.9551 - val_loss: 1.0295 - val_accuracy: 0.7664\n",
            "Epoch 20/50\n",
            "4500/4500 [==============================] - 41s 9ms/step - loss: 0.1009 - accuracy: 0.9597 - val_loss: 1.0811 - val_accuracy: 0.7578\n",
            "Epoch 21/50\n",
            "4500/4500 [==============================] - 40s 9ms/step - loss: 0.0946 - accuracy: 0.9620 - val_loss: 1.0979 - val_accuracy: 0.7611\n",
            "Epoch 22/50\n",
            "4500/4500 [==============================] - 41s 9ms/step - loss: 0.0861 - accuracy: 0.9657 - val_loss: 1.1672 - val_accuracy: 0.7677\n",
            "Epoch 23/50\n",
            "4500/4500 [==============================] - 40s 9ms/step - loss: 0.0835 - accuracy: 0.9675 - val_loss: 1.2209 - val_accuracy: 0.7644\n",
            "Epoch 24/50\n",
            "4500/4500 [==============================] - 40s 9ms/step - loss: 0.0813 - accuracy: 0.9678 - val_loss: 1.2190 - val_accuracy: 0.7628\n",
            "Epoch 25/50\n",
            "4500/4500 [==============================] - 40s 9ms/step - loss: 0.0737 - accuracy: 0.9711 - val_loss: 1.3190 - val_accuracy: 0.7701\n",
            "Epoch 26/50\n",
            "4500/4500 [==============================] - 40s 9ms/step - loss: 0.0731 - accuracy: 0.9717 - val_loss: 1.2263 - val_accuracy: 0.7629\n",
            "Epoch 27/50\n",
            "4500/4500 [==============================] - 40s 9ms/step - loss: 0.0698 - accuracy: 0.9734 - val_loss: 1.3085 - val_accuracy: 0.7663\n",
            "Epoch 28/50\n",
            "4500/4500 [==============================] - 40s 9ms/step - loss: 0.0671 - accuracy: 0.9740 - val_loss: 1.3370 - val_accuracy: 0.7618\n",
            "Epoch 29/50\n",
            "4500/4500 [==============================] - 40s 9ms/step - loss: 0.0668 - accuracy: 0.9743 - val_loss: 1.2821 - val_accuracy: 0.7615\n",
            "Epoch 30/50\n",
            "4500/4500 [==============================] - 40s 9ms/step - loss: 0.0622 - accuracy: 0.9765 - val_loss: 1.3385 - val_accuracy: 0.7629\n",
            "Epoch 31/50\n",
            "4500/4500 [==============================] - 40s 9ms/step - loss: 0.0605 - accuracy: 0.9770 - val_loss: 1.3369 - val_accuracy: 0.7623\n",
            "Epoch 32/50\n",
            "4500/4500 [==============================] - 40s 9ms/step - loss: 0.0589 - accuracy: 0.9772 - val_loss: 1.3572 - val_accuracy: 0.7653\n",
            "Epoch 33/50\n",
            "4500/4500 [==============================] - 42s 9ms/step - loss: 0.0587 - accuracy: 0.9776 - val_loss: 1.3637 - val_accuracy: 0.7644\n",
            "Epoch 34/50\n",
            "4500/4500 [==============================] - 42s 9ms/step - loss: 0.0551 - accuracy: 0.9794 - val_loss: 1.3922 - val_accuracy: 0.7633\n",
            "Epoch 35/50\n",
            "4500/4500 [==============================] - 41s 9ms/step - loss: 0.0547 - accuracy: 0.9796 - val_loss: 1.4238 - val_accuracy: 0.7644\n",
            "Epoch 36/50\n",
            "4500/4500 [==============================] - 41s 9ms/step - loss: 0.0534 - accuracy: 0.9799 - val_loss: 1.4172 - val_accuracy: 0.7634\n",
            "Epoch 37/50\n",
            "4500/4500 [==============================] - 41s 9ms/step - loss: 0.0506 - accuracy: 0.9809 - val_loss: 1.4834 - val_accuracy: 0.7606\n",
            "Epoch 38/50\n",
            "4500/4500 [==============================] - 41s 9ms/step - loss: 0.0526 - accuracy: 0.9807 - val_loss: 1.4386 - val_accuracy: 0.7611\n",
            "Epoch 39/50\n",
            "4500/4500 [==============================] - 41s 9ms/step - loss: 0.0523 - accuracy: 0.9804 - val_loss: 1.5061 - val_accuracy: 0.7639\n",
            "Epoch 40/50\n",
            "4500/4500 [==============================] - 42s 9ms/step - loss: 0.0500 - accuracy: 0.9806 - val_loss: 1.4329 - val_accuracy: 0.7609\n",
            "Epoch 41/50\n",
            "4500/4500 [==============================] - 41s 9ms/step - loss: 0.0491 - accuracy: 0.9820 - val_loss: 1.4605 - val_accuracy: 0.7588\n",
            "Epoch 42/50\n",
            "4500/4500 [==============================] - 41s 9ms/step - loss: 0.0479 - accuracy: 0.9820 - val_loss: 1.5238 - val_accuracy: 0.7646\n",
            "Epoch 43/50\n",
            "4500/4500 [==============================] - 41s 9ms/step - loss: 0.0454 - accuracy: 0.9825 - val_loss: 1.4649 - val_accuracy: 0.7594\n",
            "Epoch 44/50\n",
            "4500/4500 [==============================] - 41s 9ms/step - loss: 0.0456 - accuracy: 0.9831 - val_loss: 1.4282 - val_accuracy: 0.7616\n",
            "Epoch 45/50\n",
            "4500/4500 [==============================] - 41s 9ms/step - loss: 0.0464 - accuracy: 0.9829 - val_loss: 1.4876 - val_accuracy: 0.7629\n",
            "Epoch 46/50\n",
            "4500/4500 [==============================] - 42s 9ms/step - loss: 0.0464 - accuracy: 0.9826 - val_loss: 1.4092 - val_accuracy: 0.7599\n",
            "Epoch 47/50\n",
            "4500/4500 [==============================] - 41s 9ms/step - loss: 0.0443 - accuracy: 0.9836 - val_loss: 1.4996 - val_accuracy: 0.7668\n",
            "Epoch 48/50\n",
            "4500/4500 [==============================] - 41s 9ms/step - loss: 0.0454 - accuracy: 0.9824 - val_loss: 1.4715 - val_accuracy: 0.7651\n",
            "Epoch 49/50\n",
            "4500/4500 [==============================] - 42s 9ms/step - loss: 0.0453 - accuracy: 0.9829 - val_loss: 1.5202 - val_accuracy: 0.7658\n",
            "Epoch 50/50\n",
            "4500/4500 [==============================] - 41s 9ms/step - loss: 0.0438 - accuracy: 0.9838 - val_loss: 1.4910 - val_accuracy: 0.7632\n",
            "Training Complete\n"
          ],
          "name": "stdout"
        }
      ]
    },
    {
      "cell_type": "code",
      "metadata": {
        "colab": {
          "base_uri": "https://localhost:8080/",
          "height": 606
        },
        "id": "0FIcidTJqStQ",
        "outputId": "b9b82d59-7d81-44cd-a954-b4d8b5c861f7"
      },
      "source": [
        "import matplotlib.image  as mpimg\r\n",
        "import matplotlib.pyplot as plt\r\n",
        "\r\n",
        "#-----------------------------------------------------------\r\n",
        "# Retrieve a list of list results on training and test data\r\n",
        "# sets for each training epoch\r\n",
        "#-----------------------------------------------------------\r\n",
        "acc=history.history['accuracy']\r\n",
        "val_acc=history.history['val_accuracy']\r\n",
        "loss=history.history['loss']\r\n",
        "val_loss=history.history['val_loss']\r\n",
        "\r\n",
        "epochs=range(len(acc)) # Get number of epochs\r\n",
        "\r\n",
        "#------------------------------------------------\r\n",
        "# Plot training and validation accuracy per epoch\r\n",
        "#------------------------------------------------\r\n",
        "plt.plot(epochs, acc, 'r')\r\n",
        "plt.plot(epochs, val_acc, 'b')\r\n",
        "plt.title('Training and validation accuracy')\r\n",
        "plt.xlabel(\"Epochs\")\r\n",
        "plt.ylabel(\"Accuracy\")\r\n",
        "plt.legend([\"Accuracy\", \"Validation Accuracy\"])\r\n",
        "\r\n",
        "plt.figure()\r\n",
        "\r\n",
        "#------------------------------------------------\r\n",
        "# Plot training and validation loss per epoch\r\n",
        "#------------------------------------------------\r\n",
        "plt.plot(epochs, loss, 'r')\r\n",
        "plt.plot(epochs, val_loss, 'b')\r\n",
        "plt.title('Training and validation loss')\r\n",
        "plt.xlabel(\"Epochs\")\r\n",
        "plt.ylabel(\"Loss\")\r\n",
        "plt.legend([\"Loss\", \"Validation Loss\"])\r\n",
        "\r\n",
        "plt.figure()\r\n",
        "\r\n",
        "\r\n",
        "# Expected Output\r\n",
        "# A chart where the validation loss does not increase sharply!"
      ],
      "execution_count": 54,
      "outputs": [
        {
          "output_type": "execute_result",
          "data": {
            "text/plain": [
              "<Figure size 432x288 with 0 Axes>"
            ]
          },
          "metadata": {
            "tags": []
          },
          "execution_count": 54
        },
        {
          "output_type": "display_data",
          "data": {
            "image/png": "[encoded data removed]",
            "text/plain": [
              "<Figure size 432x288 with 1 Axes>"
            ]
          },
          "metadata": {
            "tags": [],
            "needs_background": "light"
          }
        },
        {
          "output_type": "display_data",
          "data": {
            "image/png": "[encoded data removed]",
            "text/plain": [
              "<Figure size 432x288 with 1 Axes>"
            ]
          },
          "metadata": {
            "tags": [],
            "needs_background": "light"
          }
        },
        {
          "output_type": "display_data",
          "data": {
            "text/plain": [
              "<Figure size 432x288 with 0 Axes>"
            ]
          },
          "metadata": {
            "tags": []
          }
        }
      ]
    },
    {
      "cell_type": "code",
      "metadata": {
        "colab": {
          "base_uri": "https://localhost:8080/"
        },
        "id": "mxvThuV_qXQi",
        "outputId": "357b237f-5e06-4a1f-bd1d-c4cf99c0f79a"
      },
      "source": [
        "model = tf.keras.Sequential([\r\n",
        "    Embedding(vocab_size+1, embedding_dim, input_length=max_length, weights=[embeddings_matrix], trainable=False, name=\"embedding_1\"),\r\n",
        "    # YOUR CODE HERE - experiment with combining different types, such as convolutions and LSTMs\r\n",
        "    Dropout(rate=0.2, name=\"dropout_1\"),\r\n",
        "    Conv1D(filters=64, kernel_size=5, activation=\"relu\", name=\"conv1d_2\"),\r\n",
        "    MaxPool1D(pool_size=4, name=\"pool1d_2\"),\r\n",
        "    LSTM(units=64, return_sequences=False, name=\"LSTM_3\"),\r\n",
        "    Dense(units=1, activation=\"sigmoid\", name=\"dense_4\")\r\n",
        "])\r\n",
        "model.compile(\r\n",
        "    # YOUR CODE HERE\r\n",
        "    optimizer=\"adam\",\r\n",
        "    loss=\"binary_crossentropy\",\r\n",
        "    metrics=[\"accuracy\"]\r\n",
        ")\r\n",
        "model.summary()\r\n",
        "\r\n",
        "num_epochs = 50\r\n",
        "history = model.fit(\r\n",
        "    training_sequences, \r\n",
        "    np.array(training_labels), \r\n",
        "    epochs=num_epochs, \r\n",
        "    validation_data=(test_sequences, np.array(test_labels)), \r\n",
        "    workers=-1,\r\n",
        "    use_multiprocessing=True\r\n",
        ")\r\n",
        "\r\n",
        "print(\"Training Complete\")"
      ],
      "execution_count": 55,
      "outputs": [
        {
          "output_type": "stream",
          "text": [
            "Model: \"sequential_7\"\n",
            "_________________________________________________________________\n",
            "Layer (type)                 Output Shape              Param #   \n",
            "=================================================================\n",
            "embedding_1 (Embedding)      (None, 16, 100)           13886200  \n",
            "_________________________________________________________________\n",
            "dropout_1 (Dropout)          (None, 16, 100)           0         \n",
            "_________________________________________________________________\n",
            "conv1d_2 (Conv1D)            (None, 12, 64)            32064     \n",
            "_________________________________________________________________\n",
            "pool1d_2 (MaxPooling1D)      (None, 3, 64)             0         \n",
            "_________________________________________________________________\n",
            "LSTM_3 (LSTM)                (None, 64)                33024     \n",
            "_________________________________________________________________\n",
            "dense_4 (Dense)              (None, 1)                 65        \n",
            "=================================================================\n",
            "Total params: 13,951,353\n",
            "Trainable params: 65,153\n",
            "Non-trainable params: 13,886,200\n",
            "_________________________________________________________________\n",
            "Epoch 1/50\n",
            "WARNING:tensorflow:Model was constructed with shape (None, 16) for input KerasTensor(type_spec=TensorSpec(shape=(None, 16), dtype=tf.float32, name='embedding_1_input'), name='embedding_1_input', description=\"created by layer 'embedding_1_input'\"), but it was called on an input with incompatible shape (32, 36).\n",
            "WARNING:tensorflow:Model was constructed with shape (None, 16) for input KerasTensor(type_spec=TensorSpec(shape=(None, 16), dtype=tf.float32, name='embedding_1_input'), name='embedding_1_input', description=\"created by layer 'embedding_1_input'\"), but it was called on an input with incompatible shape (32, 36).\n",
            "4496/4500 [============================>.] - ETA: 0s - loss: 0.5809 - accuracy: 0.6831WARNING:tensorflow:Model was constructed with shape (None, 16) for input KerasTensor(type_spec=TensorSpec(shape=(None, 16), dtype=tf.float32, name='embedding_1_input'), name='embedding_1_input', description=\"created by layer 'embedding_1_input'\"), but it was called on an input with incompatible shape (32, 36).\n",
            "4500/4500 [==============================] - 20s 4ms/step - loss: 0.5809 - accuracy: 0.6831 - val_loss: 0.4963 - val_accuracy: 0.7589\n",
            "Epoch 2/50\n",
            "4500/4500 [==============================] - 18s 4ms/step - loss: 0.5061 - accuracy: 0.7503 - val_loss: 0.4986 - val_accuracy: 0.7534\n",
            "Epoch 3/50\n",
            "4500/4500 [==============================] - 18s 4ms/step - loss: 0.4884 - accuracy: 0.7607 - val_loss: 0.4939 - val_accuracy: 0.7583\n",
            "Epoch 4/50\n",
            "4500/4500 [==============================] - 18s 4ms/step - loss: 0.4709 - accuracy: 0.7711 - val_loss: 0.4772 - val_accuracy: 0.7708\n",
            "Epoch 5/50\n",
            "4500/4500 [==============================] - 19s 4ms/step - loss: 0.4618 - accuracy: 0.7771 - val_loss: 0.4748 - val_accuracy: 0.7729\n",
            "Epoch 6/50\n",
            "4500/4500 [==============================] - 18s 4ms/step - loss: 0.4540 - accuracy: 0.7812 - val_loss: 0.4724 - val_accuracy: 0.7759\n",
            "Epoch 7/50\n",
            "4500/4500 [==============================] - 18s 4ms/step - loss: 0.4481 - accuracy: 0.7853 - val_loss: 0.4727 - val_accuracy: 0.7756\n",
            "Epoch 8/50\n",
            "4500/4500 [==============================] - 18s 4ms/step - loss: 0.4421 - accuracy: 0.7912 - val_loss: 0.4745 - val_accuracy: 0.7760\n",
            "Epoch 9/50\n",
            "4500/4500 [==============================] - 18s 4ms/step - loss: 0.4397 - accuracy: 0.7926 - val_loss: 0.4795 - val_accuracy: 0.7704\n",
            "Epoch 10/50\n",
            "4500/4500 [==============================] - 18s 4ms/step - loss: 0.4305 - accuracy: 0.7972 - val_loss: 0.4718 - val_accuracy: 0.7766\n",
            "Epoch 11/50\n",
            "4500/4500 [==============================] - 18s 4ms/step - loss: 0.4300 - accuracy: 0.7965 - val_loss: 0.4742 - val_accuracy: 0.7771\n",
            "Epoch 12/50\n",
            "4500/4500 [==============================] - 18s 4ms/step - loss: 0.4257 - accuracy: 0.8009 - val_loss: 0.4749 - val_accuracy: 0.7778\n",
            "Epoch 13/50\n",
            "4500/4500 [==============================] - 18s 4ms/step - loss: 0.4235 - accuracy: 0.8012 - val_loss: 0.4758 - val_accuracy: 0.7754\n",
            "Epoch 14/50\n",
            "4500/4500 [==============================] - 18s 4ms/step - loss: 0.4207 - accuracy: 0.8025 - val_loss: 0.4783 - val_accuracy: 0.7771\n",
            "Epoch 15/50\n",
            "4500/4500 [==============================] - 18s 4ms/step - loss: 0.4206 - accuracy: 0.8032 - val_loss: 0.4776 - val_accuracy: 0.7771\n",
            "Epoch 16/50\n",
            "4500/4500 [==============================] - 18s 4ms/step - loss: 0.4152 - accuracy: 0.8061 - val_loss: 0.4767 - val_accuracy: 0.7742\n",
            "Epoch 17/50\n",
            "4500/4500 [==============================] - 18s 4ms/step - loss: 0.4172 - accuracy: 0.8048 - val_loss: 0.4787 - val_accuracy: 0.7752\n",
            "Epoch 18/50\n",
            "4500/4500 [==============================] - 18s 4ms/step - loss: 0.4144 - accuracy: 0.8053 - val_loss: 0.4839 - val_accuracy: 0.7755\n",
            "Epoch 19/50\n",
            "4500/4500 [==============================] - 18s 4ms/step - loss: 0.4137 - accuracy: 0.8055 - val_loss: 0.4864 - val_accuracy: 0.7723\n",
            "Epoch 20/50\n",
            "4500/4500 [==============================] - 18s 4ms/step - loss: 0.4117 - accuracy: 0.8073 - val_loss: 0.4790 - val_accuracy: 0.7742\n",
            "Epoch 21/50\n",
            "4500/4500 [==============================] - 18s 4ms/step - loss: 0.4108 - accuracy: 0.8072 - val_loss: 0.4878 - val_accuracy: 0.7731\n",
            "Epoch 22/50\n",
            "4500/4500 [==============================] - 18s 4ms/step - loss: 0.4068 - accuracy: 0.8114 - val_loss: 0.4814 - val_accuracy: 0.7732\n",
            "Epoch 23/50\n",
            "4500/4500 [==============================] - 18s 4ms/step - loss: 0.4065 - accuracy: 0.8106 - val_loss: 0.4893 - val_accuracy: 0.7726\n",
            "Epoch 24/50\n",
            "4500/4500 [==============================] - 18s 4ms/step - loss: 0.4069 - accuracy: 0.8098 - val_loss: 0.4891 - val_accuracy: 0.7746\n",
            "Epoch 25/50\n",
            "4500/4500 [==============================] - 18s 4ms/step - loss: 0.4060 - accuracy: 0.8114 - val_loss: 0.4899 - val_accuracy: 0.7707\n",
            "Epoch 26/50\n",
            "4500/4500 [==============================] - 18s 4ms/step - loss: 0.4027 - accuracy: 0.8127 - val_loss: 0.4890 - val_accuracy: 0.7716\n",
            "Epoch 27/50\n",
            "4500/4500 [==============================] - 18s 4ms/step - loss: 0.4052 - accuracy: 0.8110 - val_loss: 0.4863 - val_accuracy: 0.7726\n",
            "Epoch 28/50\n",
            "4500/4500 [==============================] - 18s 4ms/step - loss: 0.4037 - accuracy: 0.8131 - val_loss: 0.4865 - val_accuracy: 0.7714\n",
            "Epoch 29/50\n",
            "4500/4500 [==============================] - 18s 4ms/step - loss: 0.4021 - accuracy: 0.8127 - val_loss: 0.4887 - val_accuracy: 0.7716\n",
            "Epoch 30/50\n",
            "4500/4500 [==============================] - 18s 4ms/step - loss: 0.3997 - accuracy: 0.8143 - val_loss: 0.4947 - val_accuracy: 0.7697\n",
            "Epoch 31/50\n",
            "4500/4500 [==============================] - 18s 4ms/step - loss: 0.3991 - accuracy: 0.8146 - val_loss: 0.4933 - val_accuracy: 0.7711\n",
            "Epoch 32/50\n",
            "4500/4500 [==============================] - 18s 4ms/step - loss: 0.4020 - accuracy: 0.8131 - val_loss: 0.4920 - val_accuracy: 0.7704\n",
            "Epoch 33/50\n",
            "4500/4500 [==============================] - 18s 4ms/step - loss: 0.3985 - accuracy: 0.8151 - val_loss: 0.4891 - val_accuracy: 0.7699\n",
            "Epoch 34/50\n",
            "4500/4500 [==============================] - 18s 4ms/step - loss: 0.3998 - accuracy: 0.8132 - val_loss: 0.4963 - val_accuracy: 0.7720\n",
            "Epoch 35/50\n",
            "4500/4500 [==============================] - 18s 4ms/step - loss: 0.3982 - accuracy: 0.8144 - val_loss: 0.4906 - val_accuracy: 0.7705\n",
            "Epoch 36/50\n",
            "4500/4500 [==============================] - 18s 4ms/step - loss: 0.3972 - accuracy: 0.8173 - val_loss: 0.4958 - val_accuracy: 0.7710\n",
            "Epoch 37/50\n",
            "4500/4500 [==============================] - 18s 4ms/step - loss: 0.3957 - accuracy: 0.8179 - val_loss: 0.4925 - val_accuracy: 0.7685\n",
            "Epoch 38/50\n",
            "4500/4500 [==============================] - 18s 4ms/step - loss: 0.3982 - accuracy: 0.8157 - val_loss: 0.4978 - val_accuracy: 0.7693\n",
            "Epoch 39/50\n",
            "4500/4500 [==============================] - 18s 4ms/step - loss: 0.3969 - accuracy: 0.8168 - val_loss: 0.4918 - val_accuracy: 0.7706\n",
            "Epoch 40/50\n",
            "4500/4500 [==============================] - 18s 4ms/step - loss: 0.3953 - accuracy: 0.8164 - val_loss: 0.4934 - val_accuracy: 0.7711\n",
            "Epoch 41/50\n",
            "4500/4500 [==============================] - 18s 4ms/step - loss: 0.3979 - accuracy: 0.8158 - val_loss: 0.4937 - val_accuracy: 0.7689\n",
            "Epoch 42/50\n",
            "4500/4500 [==============================] - 18s 4ms/step - loss: 0.3954 - accuracy: 0.8173 - val_loss: 0.4951 - val_accuracy: 0.7691\n",
            "Epoch 43/50\n",
            "4500/4500 [==============================] - 18s 4ms/step - loss: 0.3949 - accuracy: 0.8170 - val_loss: 0.4959 - val_accuracy: 0.7673\n",
            "Epoch 44/50\n",
            "4500/4500 [==============================] - 18s 4ms/step - loss: 0.3929 - accuracy: 0.8186 - val_loss: 0.4908 - val_accuracy: 0.7674\n",
            "Epoch 45/50\n",
            "4500/4500 [==============================] - 18s 4ms/step - loss: 0.3915 - accuracy: 0.8197 - val_loss: 0.4983 - val_accuracy: 0.7689\n",
            "Epoch 46/50\n",
            "4500/4500 [==============================] - 18s 4ms/step - loss: 0.3963 - accuracy: 0.8167 - val_loss: 0.4939 - val_accuracy: 0.7699\n",
            "Epoch 47/50\n",
            "4500/4500 [==============================] - 18s 4ms/step - loss: 0.3956 - accuracy: 0.8173 - val_loss: 0.4980 - val_accuracy: 0.7676\n",
            "Epoch 48/50\n",
            "4500/4500 [==============================] - 18s 4ms/step - loss: 0.3917 - accuracy: 0.8202 - val_loss: 0.4969 - val_accuracy: 0.7687\n",
            "Epoch 49/50\n",
            "4500/4500 [==============================] - 18s 4ms/step - loss: 0.3934 - accuracy: 0.8190 - val_loss: 0.4997 - val_accuracy: 0.7657\n",
            "Epoch 50/50\n",
            "4500/4500 [==============================] - 18s 4ms/step - loss: 0.3923 - accuracy: 0.8199 - val_loss: 0.4980 - val_accuracy: 0.7674\n",
            "Training Complete\n"
          ],
          "name": "stdout"
        }
      ]
    },
    {
      "cell_type": "code",
      "metadata": {
        "colab": {
          "base_uri": "https://localhost:8080/",
          "height": 606
        },
        "id": "9YlRNQnTrNkT",
        "outputId": "b67934f5-2843-4afa-84c5-75c9362326af"
      },
      "source": [
        "import matplotlib.image  as mpimg\r\n",
        "import matplotlib.pyplot as plt\r\n",
        "\r\n",
        "#-----------------------------------------------------------\r\n",
        "# Retrieve a list of list results on training and test data\r\n",
        "# sets for each training epoch\r\n",
        "#-----------------------------------------------------------\r\n",
        "acc=history.history['accuracy']\r\n",
        "val_acc=history.history['val_accuracy']\r\n",
        "loss=history.history['loss']\r\n",
        "val_loss=history.history['val_loss']\r\n",
        "\r\n",
        "epochs=range(len(acc)) # Get number of epochs\r\n",
        "\r\n",
        "#------------------------------------------------\r\n",
        "# Plot training and validation accuracy per epoch\r\n",
        "#------------------------------------------------\r\n",
        "plt.plot(epochs, acc, 'r')\r\n",
        "plt.plot(epochs, val_acc, 'b')\r\n",
        "plt.title('Training and validation accuracy')\r\n",
        "plt.xlabel(\"Epochs\")\r\n",
        "plt.ylabel(\"Accuracy\")\r\n",
        "plt.legend([\"Accuracy\", \"Validation Accuracy\"])\r\n",
        "\r\n",
        "plt.figure()\r\n",
        "\r\n",
        "#------------------------------------------------\r\n",
        "# Plot training and validation loss per epoch\r\n",
        "#------------------------------------------------\r\n",
        "plt.plot(epochs, loss, 'r')\r\n",
        "plt.plot(epochs, val_loss, 'b')\r\n",
        "plt.title('Training and validation loss')\r\n",
        "plt.xlabel(\"Epochs\")\r\n",
        "plt.ylabel(\"Loss\")\r\n",
        "plt.legend([\"Loss\", \"Validation Loss\"])\r\n",
        "\r\n",
        "plt.figure()\r\n",
        "\r\n",
        "\r\n",
        "# Expected Output\r\n",
        "# A chart where the validation loss does not increase sharply!"
      ],
      "execution_count": 56,
      "outputs": [
        {
          "output_type": "execute_result",
          "data": {
            "text/plain": [
              "<Figure size 432x288 with 0 Axes>"
            ]
          },
          "metadata": {
            "tags": []
          },
          "execution_count": 56
        },
        {
          "output_type": "display_data",
          "data": {
            "image/png": "[encoded data removed]",
            "text/plain": [
              "<Figure size 432x288 with 1 Axes>"
            ]
          },
          "metadata": {
            "tags": [],
            "needs_background": "light"
          }
        },
        {
          "output_type": "display_data",
          "data": {
            "image/png": "[encoded data removed]",
            "text/plain": [
              "<Figure size 432x288 with 1 Axes>"
            ]
          },
          "metadata": {
            "tags": [],
            "needs_background": "light"
          }
        },
        {
          "output_type": "display_data",
          "data": {
            "text/plain": [
              "<Figure size 432x288 with 0 Axes>"
            ]
          },
          "metadata": {
            "tags": []
          }
        }
      ]
    },
    {
      "cell_type": "code",
      "metadata": {
        "id": "pjLrp18zrpFZ"
      },
      "source": [
        ""
      ],
      "execution_count": null,
      "outputs": []
    }
  ]
}